{
  "nbformat": 4,
  "nbformat_minor": 0,
  "metadata": {
    "colab": {
      "name": "Veri_On_Isleme_2_Aykırı_Gozlem.ipynb",
      "provenance": [],
      "include_colab_link": true
    },
    "kernelspec": {
      "name": "python3",
      "display_name": "Python 3"
    },
    "language_info": {
      "name": "python"
    }
  },
  "cells": [
    {
      "cell_type": "markdown",
      "metadata": {
        "id": "view-in-github",
        "colab_type": "text"
      },
      "source": [
        "<a href=\"https://colab.research.google.com/github/kserdem/Veri-On-Isleme-Adimlari/blob/main/Veri_On_Isleme_2_Ayk%C4%B1r%C4%B1_Gozlem.ipynb\" target=\"_parent\"><img src=\"https://colab.research.google.com/assets/colab-badge.svg\" alt=\"Open In Colab\"/></a>"
      ]
    },
    {
      "cell_type": "markdown",
      "metadata": {
        "id": "57TIQ5kdZhf3"
      },
      "source": [
        "[Konu ile ilgili yazıyı okumak için buraya bakabilirsiniz.](https://kardelenerdem.com/2021/07/02/veri-on-isleme-adim-2-aykiri-gozlem-analizi/)"
      ]
    },
    {
      "cell_type": "code",
      "metadata": {
        "colab": {
          "base_uri": "https://localhost:8080/"
        },
        "id": "eNS2NF3EinDc",
        "outputId": "94596b57-4091-4e14-af23-c848906fdf78"
      },
      "source": [
        "from google.colab import drive\n",
        "drive.mount('/content/drive')"
      ],
      "execution_count": null,
      "outputs": [
        {
          "output_type": "stream",
          "text": [
            "Mounted at /content/drive\n"
          ],
          "name": "stdout"
        }
      ]
    },
    {
      "cell_type": "code",
      "metadata": {
        "id": "8LHpHskqinH1"
      },
      "source": [
        "import pandas as pd\n",
        "import numpy as np\n",
        "\n",
        "\n",
        "import matplotlib.pyplot as plt\n",
        "import seaborn as sns\n",
        "from warnings import filterwarnings\n",
        "filterwarnings('ignore')"
      ],
      "execution_count": null,
      "outputs": []
    },
    {
      "cell_type": "code",
      "metadata": {
        "id": "zWrqzFmBinKD"
      },
      "source": [
        "data=pd.read_csv('/content/drive/MyDrive/Colab_projects/VeriÖnİşleme/water_potability.csv')"
      ],
      "execution_count": null,
      "outputs": []
    },
    {
      "cell_type": "markdown",
      "metadata": {
        "id": "uqUbwvZunKFr"
      },
      "source": [
        "# Veri Setine İlk Bakış\n",
        "* Burada kullanacağımız veri seti bizim zaten Eksik Gözlem Analizinden tanıdığımız veri seti. 3 öznitelikte eksik gözlemler olduğunu biliyoruz. Çok fazla veri kaybetmemek adına Sulfate ve ph değişken sütunlarını silip işlemlere başlayalım. "
      ]
    },
    {
      "cell_type": "code",
      "metadata": {
        "colab": {
          "base_uri": "https://localhost:8080/"
        },
        "id": "OAB_d23InNgi",
        "outputId": "083f4063-5c65-4f0e-dbf9-14bcef52cf43"
      },
      "source": [
        "data.head()"
      ],
      "execution_count": null,
      "outputs": [
        {
          "output_type": "execute_result",
          "data": {
            "text/html": [
              "<div>\n",
              "<style scoped>\n",
              "    .dataframe tbody tr th:only-of-type {\n",
              "        vertical-align: middle;\n",
              "    }\n",
              "\n",
              "    .dataframe tbody tr th {\n",
              "        vertical-align: top;\n",
              "    }\n",
              "\n",
              "    .dataframe thead th {\n",
              "        text-align: right;\n",
              "    }\n",
              "</style>\n",
              "<table border=\"1\" class=\"dataframe\">\n",
              "  <thead>\n",
              "    <tr style=\"text-align: right;\">\n",
              "      <th></th>\n",
              "      <th>ph</th>\n",
              "      <th>Hardness</th>\n",
              "      <th>Solids</th>\n",
              "      <th>Chloramines</th>\n",
              "      <th>Sulfate</th>\n",
              "      <th>Conductivity</th>\n",
              "      <th>Organic_carbon</th>\n",
              "      <th>Trihalomethanes</th>\n",
              "      <th>Turbidity</th>\n",
              "      <th>Potability</th>\n",
              "    </tr>\n",
              "  </thead>\n",
              "  <tbody>\n",
              "    <tr>\n",
              "      <th>0</th>\n",
              "      <td>NaN</td>\n",
              "      <td>204.890455</td>\n",
              "      <td>20791.318981</td>\n",
              "      <td>7.300212</td>\n",
              "      <td>368.516441</td>\n",
              "      <td>564.308654</td>\n",
              "      <td>10.379783</td>\n",
              "      <td>86.990970</td>\n",
              "      <td>2.963135</td>\n",
              "      <td>0</td>\n",
              "    </tr>\n",
              "    <tr>\n",
              "      <th>1</th>\n",
              "      <td>3.716080</td>\n",
              "      <td>129.422921</td>\n",
              "      <td>18630.057858</td>\n",
              "      <td>6.635246</td>\n",
              "      <td>NaN</td>\n",
              "      <td>592.885359</td>\n",
              "      <td>15.180013</td>\n",
              "      <td>56.329076</td>\n",
              "      <td>4.500656</td>\n",
              "      <td>0</td>\n",
              "    </tr>\n",
              "    <tr>\n",
              "      <th>2</th>\n",
              "      <td>8.099124</td>\n",
              "      <td>224.236259</td>\n",
              "      <td>19909.541732</td>\n",
              "      <td>9.275884</td>\n",
              "      <td>NaN</td>\n",
              "      <td>418.606213</td>\n",
              "      <td>16.868637</td>\n",
              "      <td>66.420093</td>\n",
              "      <td>3.055934</td>\n",
              "      <td>0</td>\n",
              "    </tr>\n",
              "    <tr>\n",
              "      <th>3</th>\n",
              "      <td>8.316766</td>\n",
              "      <td>214.373394</td>\n",
              "      <td>22018.417441</td>\n",
              "      <td>8.059332</td>\n",
              "      <td>356.886136</td>\n",
              "      <td>363.266516</td>\n",
              "      <td>18.436524</td>\n",
              "      <td>100.341674</td>\n",
              "      <td>4.628771</td>\n",
              "      <td>0</td>\n",
              "    </tr>\n",
              "    <tr>\n",
              "      <th>4</th>\n",
              "      <td>9.092223</td>\n",
              "      <td>181.101509</td>\n",
              "      <td>17978.986339</td>\n",
              "      <td>6.546600</td>\n",
              "      <td>310.135738</td>\n",
              "      <td>398.410813</td>\n",
              "      <td>11.558279</td>\n",
              "      <td>31.997993</td>\n",
              "      <td>4.075075</td>\n",
              "      <td>0</td>\n",
              "    </tr>\n",
              "  </tbody>\n",
              "</table>\n",
              "</div>"
            ],
            "text/plain": [
              "         ph    Hardness        Solids  ...  Trihalomethanes  Turbidity  Potability\n",
              "0       NaN  204.890455  20791.318981  ...        86.990970   2.963135           0\n",
              "1  3.716080  129.422921  18630.057858  ...        56.329076   4.500656           0\n",
              "2  8.099124  224.236259  19909.541732  ...        66.420093   3.055934           0\n",
              "3  8.316766  214.373394  22018.417441  ...       100.341674   4.628771           0\n",
              "4  9.092223  181.101509  17978.986339  ...        31.997993   4.075075           0\n",
              "\n",
              "[5 rows x 10 columns]"
            ]
          },
          "metadata": {
            "tags": []
          },
          "execution_count": 6
        }
      ]
    },
    {
      "cell_type": "code",
      "metadata": {
        "colab": {
          "base_uri": "https://localhost:8080/"
        },
        "id": "W5oZM5kkjPOU",
        "outputId": "bb4845ac-4678-42de-a6aa-b7905c5ff6e0"
      },
      "source": [
        "data.info()"
      ],
      "execution_count": null,
      "outputs": [
        {
          "output_type": "stream",
          "text": [
            "<class 'pandas.core.frame.DataFrame'>\n",
            "RangeIndex: 3276 entries, 0 to 3275\n",
            "Data columns (total 10 columns):\n",
            " #   Column           Non-Null Count  Dtype  \n",
            "---  ------           --------------  -----  \n",
            " 0   ph               2785 non-null   float64\n",
            " 1   Hardness         3276 non-null   float64\n",
            " 2   Solids           3276 non-null   float64\n",
            " 3   Chloramines      3276 non-null   float64\n",
            " 4   Sulfate          2495 non-null   float64\n",
            " 5   Conductivity     3276 non-null   float64\n",
            " 6   Organic_carbon   3276 non-null   float64\n",
            " 7   Trihalomethanes  3114 non-null   float64\n",
            " 8   Turbidity        3276 non-null   float64\n",
            " 9   Potability       3276 non-null   int64  \n",
            "dtypes: float64(9), int64(1)\n",
            "memory usage: 256.1 KB\n"
          ],
          "name": "stdout"
        }
      ]
    },
    {
      "cell_type": "markdown",
      "metadata": {
        "id": "O09-s32lpKxM"
      },
      "source": [
        "*  Veri Setinde duplice kayıt var mı diye kontrol ettiğimizde hiç duplice kayıt olmadığını görüyoruz."
      ]
    },
    {
      "cell_type": "code",
      "metadata": {
        "id": "kWzeqNswnHEr"
      },
      "source": [
        "a=[]\n",
        "liste=data.duplicated()\n",
        "for i in liste:\n",
        "  if i==True:\n",
        "    a.append(i)\n",
        "    print(a)"
      ],
      "execution_count": null,
      "outputs": []
    },
    {
      "cell_type": "markdown",
      "metadata": {
        "id": "6_mOEKWAp9h4"
      },
      "source": [
        "* Sulfate ve ph değişkenlerini silelim."
      ]
    },
    {
      "cell_type": "code",
      "metadata": {
        "colab": {
          "base_uri": "https://localhost:8080/"
        },
        "id": "01eYFS7mny4R",
        "outputId": "179f2bbb-776f-4027-ba65-18b28126c58c"
      },
      "source": [
        "use_data= data.copy()\n",
        "use_data=use_data.drop(['Sulfate','ph'], axis=1)\n",
        "use_data.head()"
      ],
      "execution_count": null,
      "outputs": [
        {
          "output_type": "execute_result",
          "data": {
            "text/html": [
              "<div>\n",
              "<style scoped>\n",
              "    .dataframe tbody tr th:only-of-type {\n",
              "        vertical-align: middle;\n",
              "    }\n",
              "\n",
              "    .dataframe tbody tr th {\n",
              "        vertical-align: top;\n",
              "    }\n",
              "\n",
              "    .dataframe thead th {\n",
              "        text-align: right;\n",
              "    }\n",
              "</style>\n",
              "<table border=\"1\" class=\"dataframe\">\n",
              "  <thead>\n",
              "    <tr style=\"text-align: right;\">\n",
              "      <th></th>\n",
              "      <th>Hardness</th>\n",
              "      <th>Solids</th>\n",
              "      <th>Chloramines</th>\n",
              "      <th>Conductivity</th>\n",
              "      <th>Organic_carbon</th>\n",
              "      <th>Trihalomethanes</th>\n",
              "      <th>Turbidity</th>\n",
              "      <th>Potability</th>\n",
              "    </tr>\n",
              "  </thead>\n",
              "  <tbody>\n",
              "    <tr>\n",
              "      <th>0</th>\n",
              "      <td>204.890455</td>\n",
              "      <td>20791.318981</td>\n",
              "      <td>7.300212</td>\n",
              "      <td>564.308654</td>\n",
              "      <td>10.379783</td>\n",
              "      <td>86.990970</td>\n",
              "      <td>2.963135</td>\n",
              "      <td>0</td>\n",
              "    </tr>\n",
              "    <tr>\n",
              "      <th>1</th>\n",
              "      <td>129.422921</td>\n",
              "      <td>18630.057858</td>\n",
              "      <td>6.635246</td>\n",
              "      <td>592.885359</td>\n",
              "      <td>15.180013</td>\n",
              "      <td>56.329076</td>\n",
              "      <td>4.500656</td>\n",
              "      <td>0</td>\n",
              "    </tr>\n",
              "    <tr>\n",
              "      <th>2</th>\n",
              "      <td>224.236259</td>\n",
              "      <td>19909.541732</td>\n",
              "      <td>9.275884</td>\n",
              "      <td>418.606213</td>\n",
              "      <td>16.868637</td>\n",
              "      <td>66.420093</td>\n",
              "      <td>3.055934</td>\n",
              "      <td>0</td>\n",
              "    </tr>\n",
              "    <tr>\n",
              "      <th>3</th>\n",
              "      <td>214.373394</td>\n",
              "      <td>22018.417441</td>\n",
              "      <td>8.059332</td>\n",
              "      <td>363.266516</td>\n",
              "      <td>18.436524</td>\n",
              "      <td>100.341674</td>\n",
              "      <td>4.628771</td>\n",
              "      <td>0</td>\n",
              "    </tr>\n",
              "    <tr>\n",
              "      <th>4</th>\n",
              "      <td>181.101509</td>\n",
              "      <td>17978.986339</td>\n",
              "      <td>6.546600</td>\n",
              "      <td>398.410813</td>\n",
              "      <td>11.558279</td>\n",
              "      <td>31.997993</td>\n",
              "      <td>4.075075</td>\n",
              "      <td>0</td>\n",
              "    </tr>\n",
              "  </tbody>\n",
              "</table>\n",
              "</div>"
            ],
            "text/plain": [
              "     Hardness        Solids  ...  Turbidity  Potability\n",
              "0  204.890455  20791.318981  ...   2.963135           0\n",
              "1  129.422921  18630.057858  ...   4.500656           0\n",
              "2  224.236259  19909.541732  ...   3.055934           0\n",
              "3  214.373394  22018.417441  ...   4.628771           0\n",
              "4  181.101509  17978.986339  ...   4.075075           0\n",
              "\n",
              "[5 rows x 8 columns]"
            ]
          },
          "metadata": {
            "tags": []
          },
          "execution_count": 9
        }
      ]
    },
    {
      "cell_type": "code",
      "metadata": {
        "colab": {
          "base_uri": "https://localhost:8080/"
        },
        "id": "WGe5BIiDny6r",
        "outputId": "595bc803-3a65-46cc-d904-1cf2f2fae3d1"
      },
      "source": [
        "use_data.info()"
      ],
      "execution_count": null,
      "outputs": [
        {
          "output_type": "stream",
          "text": [
            "<class 'pandas.core.frame.DataFrame'>\n",
            "RangeIndex: 3276 entries, 0 to 3275\n",
            "Data columns (total 8 columns):\n",
            " #   Column           Non-Null Count  Dtype  \n",
            "---  ------           --------------  -----  \n",
            " 0   Hardness         3276 non-null   float64\n",
            " 1   Solids           3276 non-null   float64\n",
            " 2   Chloramines      3276 non-null   float64\n",
            " 3   Conductivity     3276 non-null   float64\n",
            " 4   Organic_carbon   3276 non-null   float64\n",
            " 5   Trihalomethanes  3114 non-null   float64\n",
            " 6   Turbidity        3276 non-null   float64\n",
            " 7   Potability       3276 non-null   int64  \n",
            "dtypes: float64(7), int64(1)\n",
            "memory usage: 204.9 KB\n"
          ],
          "name": "stdout"
        }
      ]
    },
    {
      "cell_type": "markdown",
      "metadata": {
        "id": "__OiD2HjqZaE"
      },
      "source": [
        "* Trihalomethanes değişkeninde yalnızca 162 eksik gözlem olduğunu görüyoruz, bu değişkenlerin satır bazında silme işlemini yapalım."
      ]
    },
    {
      "cell_type": "code",
      "metadata": {
        "colab": {
          "base_uri": "https://localhost:8080/"
        },
        "id": "z5_jiQjZny8n",
        "outputId": "91356b66-4c69-4fd7-f729-c41cf0358739"
      },
      "source": [
        "use_data= use_data.dropna()\n",
        "use_data.info()"
      ],
      "execution_count": null,
      "outputs": [
        {
          "output_type": "stream",
          "text": [
            "<class 'pandas.core.frame.DataFrame'>\n",
            "Int64Index: 3114 entries, 0 to 3275\n",
            "Data columns (total 8 columns):\n",
            " #   Column           Non-Null Count  Dtype  \n",
            "---  ------           --------------  -----  \n",
            " 0   Hardness         3114 non-null   float64\n",
            " 1   Solids           3114 non-null   float64\n",
            " 2   Chloramines      3114 non-null   float64\n",
            " 3   Conductivity     3114 non-null   float64\n",
            " 4   Organic_carbon   3114 non-null   float64\n",
            " 5   Trihalomethanes  3114 non-null   float64\n",
            " 6   Turbidity        3114 non-null   float64\n",
            " 7   Potability       3114 non-null   int64  \n",
            "dtypes: float64(7), int64(1)\n",
            "memory usage: 219.0 KB\n"
          ],
          "name": "stdout"
        }
      ]
    },
    {
      "cell_type": "markdown",
      "metadata": {
        "id": "76RUKj1qqxq-"
      },
      "source": [
        "* Veri setimiz artık hazır. Aykırı gözlem analizine başlayabiliriz."
      ]
    },
    {
      "cell_type": "markdown",
      "metadata": {
        "id": "-XxulVimroZ6"
      },
      "source": [
        "# Aykırı Gözlem Analizine Giriş Medyan ve Ortalama İncelemesi\n",
        "*  Uç gözlem içermeyen veri setlerinde özniteliklerin ortalama ve medyan değerlerinin birbirine çok yakın olmasını bekleriz. Eğer medyan ve ortalama değerleri arasında ciddi bir farklılık varsa aykırı gözlem olduğundan şüphelenebiliriz ve daha detayli incelemeye başlarız. \n",
        "\n",
        "\n",
        "> **NOT:** Yalnızca medyan ve ortalama kontrolü ile kesin aykırı gözlem var diye düşünüp direkt işlemlere başlamamalıyız. Çünkü bu farklılık kimi zaman varyanstan kaynaklanan bir fark olabilir. \n",
        "* Bizim veri setimizde genel olarak bir aykırı gözlem bulunmuyor gibi ancak Solids ve Conductivity değişkenlerinin detaylı analizine bakalım.\n",
        "\n",
        "\n"
      ]
    },
    {
      "cell_type": "code",
      "metadata": {
        "colab": {
          "base_uri": "https://localhost:8080/",
          "height": 297
        },
        "id": "Ti2FEY-pnzAZ",
        "outputId": "2432a045-e639-40d4-a1ac-f706eb13a67c"
      },
      "source": [
        "use_data.describe().T"
      ],
      "execution_count": null,
      "outputs": [
        {
          "output_type": "execute_result",
          "data": {
            "text/html": [
              "<div>\n",
              "<style scoped>\n",
              "    .dataframe tbody tr th:only-of-type {\n",
              "        vertical-align: middle;\n",
              "    }\n",
              "\n",
              "    .dataframe tbody tr th {\n",
              "        vertical-align: top;\n",
              "    }\n",
              "\n",
              "    .dataframe thead th {\n",
              "        text-align: right;\n",
              "    }\n",
              "</style>\n",
              "<table border=\"1\" class=\"dataframe\">\n",
              "  <thead>\n",
              "    <tr style=\"text-align: right;\">\n",
              "      <th></th>\n",
              "      <th>count</th>\n",
              "      <th>mean</th>\n",
              "      <th>std</th>\n",
              "      <th>min</th>\n",
              "      <th>25%</th>\n",
              "      <th>50%</th>\n",
              "      <th>75%</th>\n",
              "      <th>max</th>\n",
              "    </tr>\n",
              "  </thead>\n",
              "  <tbody>\n",
              "    <tr>\n",
              "      <th>Hardness</th>\n",
              "      <td>3114.0</td>\n",
              "      <td>196.410424</td>\n",
              "      <td>32.886366</td>\n",
              "      <td>73.492234</td>\n",
              "      <td>176.797029</td>\n",
              "      <td>197.089829</td>\n",
              "      <td>216.721079</td>\n",
              "      <td>323.124000</td>\n",
              "    </tr>\n",
              "    <tr>\n",
              "      <th>Solids</th>\n",
              "      <td>3114.0</td>\n",
              "      <td>21965.123666</td>\n",
              "      <td>8729.800382</td>\n",
              "      <td>320.942611</td>\n",
              "      <td>15682.104813</td>\n",
              "      <td>20890.593528</td>\n",
              "      <td>27198.150053</td>\n",
              "      <td>61227.196008</td>\n",
              "    </tr>\n",
              "    <tr>\n",
              "      <th>Chloramines</th>\n",
              "      <td>3114.0</td>\n",
              "      <td>7.123720</td>\n",
              "      <td>1.580280</td>\n",
              "      <td>0.352000</td>\n",
              "      <td>6.138326</td>\n",
              "      <td>7.121371</td>\n",
              "      <td>8.115199</td>\n",
              "      <td>13.127000</td>\n",
              "    </tr>\n",
              "    <tr>\n",
              "      <th>Conductivity</th>\n",
              "      <td>3114.0</td>\n",
              "      <td>426.625873</td>\n",
              "      <td>80.955832</td>\n",
              "      <td>181.483754</td>\n",
              "      <td>366.327185</td>\n",
              "      <td>421.990447</td>\n",
              "      <td>482.435328</td>\n",
              "      <td>753.342620</td>\n",
              "    </tr>\n",
              "    <tr>\n",
              "      <th>Organic_carbon</th>\n",
              "      <td>3114.0</td>\n",
              "      <td>14.280721</td>\n",
              "      <td>3.316893</td>\n",
              "      <td>2.200000</td>\n",
              "      <td>12.063955</td>\n",
              "      <td>14.219418</td>\n",
              "      <td>16.558601</td>\n",
              "      <td>28.300000</td>\n",
              "    </tr>\n",
              "    <tr>\n",
              "      <th>Trihalomethanes</th>\n",
              "      <td>3114.0</td>\n",
              "      <td>66.396293</td>\n",
              "      <td>16.175008</td>\n",
              "      <td>0.738000</td>\n",
              "      <td>55.844536</td>\n",
              "      <td>66.622485</td>\n",
              "      <td>77.337473</td>\n",
              "      <td>124.000000</td>\n",
              "    </tr>\n",
              "    <tr>\n",
              "      <th>Turbidity</th>\n",
              "      <td>3114.0</td>\n",
              "      <td>3.965945</td>\n",
              "      <td>0.777174</td>\n",
              "      <td>1.450000</td>\n",
              "      <td>3.442882</td>\n",
              "      <td>3.956464</td>\n",
              "      <td>4.497705</td>\n",
              "      <td>6.739000</td>\n",
              "    </tr>\n",
              "    <tr>\n",
              "      <th>Potability</th>\n",
              "      <td>3114.0</td>\n",
              "      <td>0.392742</td>\n",
              "      <td>0.488439</td>\n",
              "      <td>0.000000</td>\n",
              "      <td>0.000000</td>\n",
              "      <td>0.000000</td>\n",
              "      <td>1.000000</td>\n",
              "      <td>1.000000</td>\n",
              "    </tr>\n",
              "  </tbody>\n",
              "</table>\n",
              "</div>"
            ],
            "text/plain": [
              "                  count          mean  ...           75%           max\n",
              "Hardness         3114.0    196.410424  ...    216.721079    323.124000\n",
              "Solids           3114.0  21965.123666  ...  27198.150053  61227.196008\n",
              "Chloramines      3114.0      7.123720  ...      8.115199     13.127000\n",
              "Conductivity     3114.0    426.625873  ...    482.435328    753.342620\n",
              "Organic_carbon   3114.0     14.280721  ...     16.558601     28.300000\n",
              "Trihalomethanes  3114.0     66.396293  ...     77.337473    124.000000\n",
              "Turbidity        3114.0      3.965945  ...      4.497705      6.739000\n",
              "Potability       3114.0      0.392742  ...      1.000000      1.000000\n",
              "\n",
              "[8 rows x 8 columns]"
            ]
          },
          "metadata": {
            "tags": []
          },
          "execution_count": 26
        }
      ]
    },
    {
      "cell_type": "code",
      "metadata": {
        "colab": {
          "base_uri": "https://localhost:8080/"
        },
        "id": "idl-zBC5nzCy",
        "outputId": "e60cdf50-0564-4819-f881-25dd03b357f8"
      },
      "source": [
        "use_data.median().T"
      ],
      "execution_count": null,
      "outputs": [
        {
          "output_type": "execute_result",
          "data": {
            "text/plain": [
              "Hardness             197.089829\n",
              "Solids             20890.593528\n",
              "Chloramines            7.121371\n",
              "Conductivity         421.990447\n",
              "Organic_carbon        14.219418\n",
              "Trihalomethanes       66.622485\n",
              "Turbidity              3.956464\n",
              "Potability             0.000000\n",
              "dtype: float64"
            ]
          },
          "metadata": {
            "tags": []
          },
          "execution_count": 28
        }
      ]
    },
    {
      "cell_type": "markdown",
      "metadata": {
        "id": "W1XLoyWodIQ4"
      },
      "source": [
        "# AYKIRI GÖZLEMLERİN TESPİT EDİLMESİ\n",
        "\n",
        "> **TEK DEĞİŞKENLİ YÖNTEMLER (UNIVARIATE)**\n",
        "* ***GRAFİKSEL YAKLAŞIM*** (Box-Plot , Histogram)\n",
        "* ***İSTATİSTİKSEL YAKLAŞIMLAR*** (Çeyrekler Açıklığı (IQR), Standart Sapma Yöntemi,Z-Skoru, Ortanca Mutlak Sapma Metodu (MAD))\n",
        "\n",
        "\n",
        "\n",
        "> **ÇOK DEĞİŞKENLİ YÖNTEMLER (MULTIVARIATE)**\n",
        "* ***GRAFİKSEL YAKLAŞIM*** (Saçılım Grafiği (Scatter Plot))\n",
        "* ***İSTATİSTİKSEL YAKLAŞIMLAR*** ( DBSCAN,  İzolasyon Ormanı( Isolation Forest),   LOFT (Local Outlier Factor)\n",
        "* ***MAKİNE ÖĞRENMESİ TABANLI YAKLAŞIM*** (Elliptic Envolope (Eliptik Zarf))\n",
        "\n",
        "\n",
        "\n",
        "\n",
        "\n",
        "\n",
        "\n",
        "\n",
        "\n",
        "\n"
      ]
    },
    {
      "cell_type": "markdown",
      "metadata": {
        "id": "jov5JheJhM48"
      },
      "source": [
        "# Tek Değişkenli Yöntemler (Univariate)"
      ]
    },
    {
      "cell_type": "markdown",
      "metadata": {
        "id": "_l3wxAXghTd6"
      },
      "source": [
        "## **1- Grafiksel Yaklaşım**"
      ]
    },
    {
      "cell_type": "markdown",
      "metadata": {
        "id": "B5SGum7RhYxz"
      },
      "source": [
        "### ***1.1 Histogram***\n",
        "*  Histogram veri dağılımını hızlıca incelemek için en pratik yollardan birisidir. Aynı zamanda aykırı gözlem tespitinde görsel bir bakış açısı sağlar.\n",
        "* Veri setindeki Potability değişkeni iki sınıftan oluşan tahmin değişkeni. Kategorize edilmiş değişkenler histogramla takıp edilemeyeceği için bunu gözardı ediyoruz. \n",
        "*  Histogramlar incelendiğinde öncelikle veri setindeki özniteliklerin normal dağıldığı yorumu yapılabilir.(Bu yorumu kesinleştirmek için istatistiksel testler yapılmalı ancak konu kapsamında olmadığı için buna değinilmeyecek.) \n",
        "* Aykırı gözlem tespiti için bizim histogramda dikkat kesilmemiz gereken yerler dağılımın sağ ve sol kuruk kısımlarıdır. Veri setinde normal gözlem birimleri belirli bir değer aralığında yığılım gösterir ancak anormal değere sahip birimler sol ve/veya sağ kuyrukta yer alacaktır.\n",
        "* Medyan ve Ortalama değerlerine bakarak Solids ve Conductivity değerlerine bakabileceğimizi söyleyebilmiştik.Solids değişkenin görselinde sağ kuyrukta normalin dışında davranan gözlem bulunuyor, aynı yorumu Conductivity içinde yapabiliriz. \n",
        "\n",
        "\n",
        "> **NOT:** Kullandığımız veri setinin içerdiği aykırı gözlem veri setinde yanlılığa sebep olmayacak düzeyde gözüküyor, normal bir çalışmada böyle bir veri için çok fazla uç gözlem analizine ihiyaç duymayabilirsiniz.\n",
        "\n"
      ]
    },
    {
      "cell_type": "code",
      "metadata": {
        "colab": {
          "base_uri": "https://localhost:8080/",
          "height": 662
        },
        "id": "KS36Egv-rcxW",
        "outputId": "71b5e99f-d1a5-437d-9f74-d2229dc4dd91"
      },
      "source": [
        "use_data.hist(figsize=(11,11));"
      ],
      "execution_count": null,
      "outputs": [
        {
          "output_type": "display_data",
          "data": {
            "image/png": "[encoded data removed]",
            "text/plain": [
              "<Figure size 792x792 with 9 Axes>"
            ]
          },
          "metadata": {
            "tags": [],
            "needs_background": "light"
          }
        }
      ]
    },
    {
      "cell_type": "markdown",
      "metadata": {
        "id": "CtRizuwmlZZQ"
      },
      "source": [
        "### ***1.2 Box-Plot***\n",
        "*  Box-Plot(Kutu Grafiği) ne olduğundan web sitedeki yazıda uzunca bahsettiğim için burada sadece yorumlama üzerinden gideceğim.\n",
        "*  Box-Plot aykırı değer varlığını tespit edebileceğimiz ikinci grafiksel yöntemimiz. Bu grafiğe bakarak verinin minimum ve maksimum değeri, ortalama değeri hatta değişkenin dağılımı hakkında (normal- sağa çarpık- sola çarpık) bilgi edinebiliriz.\n",
        "* Grafiğin alt çizgisi minimum değeri üst çizgisi ise maksimum değeri belirtir. Her iki çizgininde dışında kalan gözlemleri (noktaları) aykırı değer olarak değerlendirip yorum yapabiliriz."
      ]
    },
    {
      "cell_type": "code",
      "metadata": {
        "colab": {
          "base_uri": "https://localhost:8080/",
          "height": 592
        },
        "id": "-YRDqwbihL2E",
        "outputId": "90870162-2161-423e-a8e5-0ab6e7f40aef"
      },
      "source": [
        "use_data.boxplot(figsize=(10,10));\n"
      ],
      "execution_count": null,
      "outputs": [
        {
          "output_type": "display_data",
          "data": {
            "image/png": "[encoded data removed]",
            "text/plain": [
              "<Figure size 720x720 with 1 Axes>"
            ]
          },
          "metadata": {
            "tags": [],
            "needs_background": "light"
          }
        }
      ]
    },
    {
      "cell_type": "markdown",
      "metadata": {
        "id": "mpxuFEN0maZE"
      },
      "source": [
        "* Her değişkeni tek tek daha dikkatli inceleyelim"
      ]
    },
    {
      "cell_type": "code",
      "metadata": {
        "colab": {
          "base_uri": "https://localhost:8080/",
          "height": 486
        },
        "id": "aE5wuEA5hL4Y",
        "outputId": "1b866daf-c9cc-40a6-d35f-320fbbc23800"
      },
      "source": [
        "#Hardness değişkeni için min ve maks değerlerini aşan aykırı değerler gözlemliyoruz. Bu değişken üzerinde bir iyileştirme yapılabilir.\n",
        "plt.figure(figsize = (4,8))\n",
        "sns.boxplot(y = use_data.Hardness)"
      ],
      "execution_count": null,
      "outputs": [
        {
          "output_type": "execute_result",
          "data": {
            "text/plain": [
              "<matplotlib.axes._subplots.AxesSubplot at 0x7f0952d8c490>"
            ]
          },
          "metadata": {
            "tags": []
          },
          "execution_count": 38
        },
        {
          "output_type": "display_data",
          "data": {
            "image/png": "[encoded data removed]",
            "text/plain": [
              "<Figure size 288x576 with 1 Axes>"
            ]
          },
          "metadata": {
            "tags": [],
            "needs_background": "light"
          }
        }
      ]
    },
    {
      "cell_type": "code",
      "metadata": {
        "colab": {
          "base_uri": "https://localhost:8080/",
          "height": 486
        },
        "id": "LJAszV6ZhL8C",
        "outputId": "55e7e0e2-bd96-4e59-e486-9d0afbda1834"
      },
      "source": [
        "#Solids değişkeni için  maks değerlerini aşan aykırı değerler olduğu görünüyor. Bu değişken üzerinde bir iyileştirme yapılabilir.\n",
        "\n",
        "plt.figure(figsize = (4,8))\n",
        "sns.boxplot(y = use_data.Solids)"
      ],
      "execution_count": null,
      "outputs": [
        {
          "output_type": "execute_result",
          "data": {
            "text/plain": [
              "<matplotlib.axes._subplots.AxesSubplot at 0x7f09531e5190>"
            ]
          },
          "metadata": {
            "tags": []
          },
          "execution_count": 30
        },
        {
          "output_type": "display_data",
          "data": {
            "image/png": "[encoded data removed]",
            "text/plain": [
              "<Figure size 288x576 with 1 Axes>"
            ]
          },
          "metadata": {
            "tags": [],
            "needs_background": "light"
          }
        }
      ]
    },
    {
      "cell_type": "code",
      "metadata": {
        "colab": {
          "base_uri": "https://localhost:8080/",
          "height": 486
        },
        "id": "wi2o9YnrhL-A",
        "outputId": "4e0e96d5-40dc-420f-f625-9afef79ec2ec"
      },
      "source": [
        "#Chloramines değişkeni için  maks değerlerini aşan aykırı değerler olduğu görünüyor. Bu değişken üzerinde bir iyileştirme yapılabilir.\n",
        "\n",
        "plt.figure(figsize = (4,8))\n",
        "sns.boxplot(y = use_data.Chloramines)"
      ],
      "execution_count": null,
      "outputs": [
        {
          "output_type": "execute_result",
          "data": {
            "text/plain": [
              "<matplotlib.axes._subplots.AxesSubplot at 0x7f0953033690>"
            ]
          },
          "metadata": {
            "tags": []
          },
          "execution_count": 31
        },
        {
          "output_type": "display_data",
          "data": {
            "image/png": "[encoded data removed]",
            "text/plain": [
              "<Figure size 288x576 with 1 Axes>"
            ]
          },
          "metadata": {
            "tags": [],
            "needs_background": "light"
          }
        }
      ]
    },
    {
      "cell_type": "code",
      "metadata": {
        "colab": {
          "base_uri": "https://localhost:8080/",
          "height": 486
        },
        "id": "9dSyUgv0hL_v",
        "outputId": "c49cafb6-a65a-48d3-cd1f-9a0d5afa0521"
      },
      "source": [
        "#Conductivity değişkeni için  grafik incelendiğinde maks değerini aşan birkaç gözlem olduğunu görüyoruz. Bu gözlemler üzerinde bir iyileştirme yapılabilir.\n",
        "plt.figure(figsize = (4,8))\n",
        "sns.boxplot(y = use_data.Conductivity)"
      ],
      "execution_count": null,
      "outputs": [
        {
          "output_type": "execute_result",
          "data": {
            "text/plain": [
              "<matplotlib.axes._subplots.AxesSubplot at 0x7f09531113d0>"
            ]
          },
          "metadata": {
            "tags": []
          },
          "execution_count": 32
        },
        {
          "output_type": "display_data",
          "data": {
            "image/png": "[encoded data removed]",
            "text/plain": [
              "<Figure size 288x576 with 1 Axes>"
            ]
          },
          "metadata": {
            "tags": [],
            "needs_background": "light"
          }
        }
      ]
    },
    {
      "cell_type": "code",
      "metadata": {
        "colab": {
          "base_uri": "https://localhost:8080/",
          "height": 486
        },
        "id": "Cw2X7fPVhMDb",
        "outputId": "207830fc-7763-410b-f3e8-583530fb9857"
      },
      "source": [
        "#Trihalomethanes değişkeni için min ve maks değerlerini aşan aykırı değerler gözlemliyoruz. Bu değişken üzerinde bir iyileştirme yapılabilir.\n",
        "\n",
        "plt.figure(figsize = (4,8))\n",
        "sns.boxplot(y = use_data.Trihalomethanes)"
      ],
      "execution_count": null,
      "outputs": [
        {
          "output_type": "execute_result",
          "data": {
            "text/plain": [
              "<matplotlib.axes._subplots.AxesSubplot at 0x7f0952f6fed0>"
            ]
          },
          "metadata": {
            "tags": []
          },
          "execution_count": 33
        },
        {
          "output_type": "display_data",
          "data": {
            "image/png": "[encoded data removed]",
            "text/plain": [
              "<Figure size 288x576 with 1 Axes>"
            ]
          },
          "metadata": {
            "tags": [],
            "needs_background": "light"
          }
        }
      ]
    },
    {
      "cell_type": "code",
      "metadata": {
        "colab": {
          "base_uri": "https://localhost:8080/",
          "height": 490
        },
        "id": "oF9O_IKchMFX",
        "outputId": "2f52efa9-bc6d-4efe-b030-30cbaf945e29"
      },
      "source": [
        "# Turbidity değişkeni için min ve maks değerlerini aşan aykırı değerler gözlemliyoruz. Bu değişken üzerinde bir iyileştirme yapılabilir.\n",
        "\n",
        "plt.figure(figsize = (4,8))\n",
        "sns.boxplot(y = use_data.Turbidity)"
      ],
      "execution_count": null,
      "outputs": [
        {
          "output_type": "execute_result",
          "data": {
            "text/plain": [
              "<matplotlib.axes._subplots.AxesSubplot at 0x7f0952f1e110>"
            ]
          },
          "metadata": {
            "tags": []
          },
          "execution_count": 34
        },
        {
          "output_type": "display_data",
          "data": {
            "image/png": "[encoded data removed]",
            "text/plain": [
              "<Figure size 288x576 with 1 Axes>"
            ]
          },
          "metadata": {
            "tags": [],
            "needs_background": "light"
          }
        }
      ]
    },
    {
      "cell_type": "code",
      "metadata": {
        "colab": {
          "base_uri": "https://localhost:8080/",
          "height": 486
        },
        "id": "j9qANyOhhMHT",
        "outputId": "8674cf82-fca0-4b4f-8ca4-5aa7edb6cdb5"
      },
      "source": [
        "#Organic_carbon değişkeni için min ve maks değerlerini aşan aykırı değerler gözlemliyoruz. Bu değişken üzerinde bir iyileştirme yapılabilir.\n",
        "\n",
        "plt.figure(figsize = (4,8))\n",
        "sns.boxplot(y = use_data.Organic_carbon)"
      ],
      "execution_count": null,
      "outputs": [
        {
          "output_type": "execute_result",
          "data": {
            "text/plain": [
              "<matplotlib.axes._subplots.AxesSubplot at 0x7f0952e5d610>"
            ]
          },
          "metadata": {
            "tags": []
          },
          "execution_count": 35
        },
        {
          "output_type": "display_data",
          "data": {
            "image/png": "[encoded data removed]",
            "text/plain": [
              "<Figure size 288x576 with 1 Axes>"
            ]
          },
          "metadata": {
            "tags": [],
            "needs_background": "light"
          }
        }
      ]
    },
    {
      "cell_type": "markdown",
      "metadata": {
        "id": "9uWWB-ptJF-r"
      },
      "source": [
        "## **2- İstatistiksel Yaklaşım**\n"
      ]
    },
    {
      "cell_type": "markdown",
      "metadata": {
        "id": "h_cVEm3gJPt3"
      },
      "source": [
        "### ***2.1 Çeyrekler Açıklığı (IQR)***\n",
        "* Tukey Testi olarakta bilinir.\n",
        "* IQR veri setindeki %75. ve %25. değerlerinin farkının alınmasıyla bulunur.\n",
        "* IQR = Q3-Q1 Hesaplandıktan sonra Q1,Q3 ve IQR değerleri kullanılarak kabul edilebilir alt ve üst sınırlar hesaplanır. Bu sınırların dışında kalan gözlemler aykırı değer olarak adlandırılır.\n",
        "* alt_sınır= Q1 - 1.5*IQR\n",
        "* ust_sınır= Q3 - 1.5*IQR\n",
        "* Burada kullandığımız 1.5 katsayısı +- kaç std.sapma olsun istiyorsak ona göre belirlenır.(2,2.5,3 vb).\n",
        "Ancak yaygın kullanımı 1.5 'tir .\n",
        "* Projede örnek uygulama için yalnız Solids ve Conductivity değişkenleri kullanılacak. "
      ]
    },
    {
      "cell_type": "code",
      "metadata": {
        "id": "kJzWFs4ahMJX"
      },
      "source": [
        "#quantile fonksiyonu numpy fonksiyonu olduğu için dataFrame üzerinden işlem yapamayız. Dataframe'de kullanacağımız değişkeni belirterek numpy dizisi olarak işleme alıyoruz.\n",
        "solids=use_data['Solids']\n",
        "conductivity = use_data['Conductivity']"
      ],
      "execution_count": null,
      "outputs": []
    },
    {
      "cell_type": "markdown",
      "metadata": {
        "id": "xJwBpmihn7V3"
      },
      "source": [
        "* **Solids değişkeni için aykırı değerleri yakalayalım**"
      ]
    },
    {
      "cell_type": "code",
      "metadata": {
        "colab": {
          "base_uri": "https://localhost:8080/"
        },
        "id": "X890Oa5gPyfk",
        "outputId": "df73a6b3-e454-4315-a761-9e51a5f08070"
      },
      "source": [
        "solids"
      ],
      "execution_count": null,
      "outputs": [
        {
          "output_type": "execute_result",
          "data": {
            "text/plain": [
              "0       20791.318981\n",
              "1       18630.057858\n",
              "2       19909.541732\n",
              "3       22018.417441\n",
              "4       17978.986339\n",
              "            ...     \n",
              "3270    26138.780191\n",
              "3271    47580.991603\n",
              "3273    33155.578218\n",
              "3274    11983.869376\n",
              "3275    17404.177061\n",
              "Name: Solids, Length: 3114, dtype: float64"
            ]
          },
          "metadata": {
            "tags": []
          },
          "execution_count": 65
        }
      ]
    },
    {
      "cell_type": "markdown",
      "metadata": {
        "id": "TVRjMevLR7T9"
      },
      "source": [
        "return iqr"
      ]
    },
    {
      "cell_type": "markdown",
      "metadata": {
        "id": "ALZ2Z9__R9du"
      },
      "source": [
        "* IQR için basit bir fonksiyon yazalım"
      ]
    },
    {
      "cell_type": "code",
      "metadata": {
        "id": "hesYZcKcPyh5"
      },
      "source": [
        "def IQR(data):\n",
        "  q1= data.quantile(0.25)\n",
        "  q3= data.quantile(0.75)\n",
        "  iqr = q3-q1\n",
        " \n",
        "  print('Değişkeninin Çeyrekler Açıklığı IQR= ',iqr)\n",
        "  "
      ],
      "execution_count": null,
      "outputs": []
    },
    {
      "cell_type": "code",
      "metadata": {
        "colab": {
          "base_uri": "https://localhost:8080/"
        },
        "id": "j0YU01AtPylz",
        "outputId": "5ada0024-7a80-4192-daad-0f277340ab8f"
      },
      "source": [
        "IQR(solids)"
      ],
      "execution_count": null,
      "outputs": [
        {
          "output_type": "stream",
          "text": [
            "Değişkeninin Çeyrekler Açıklığı IQR=  11516.045240043946\n"
          ],
          "name": "stdout"
        }
      ]
    },
    {
      "cell_type": "code",
      "metadata": {
        "id": "_12dv-lqXJsl"
      },
      "source": [
        "q1= solids.quantile(0.25)\n",
        "q3= solids.quantile(0.75)\n",
        "iqr = q3-q1"
      ],
      "execution_count": null,
      "outputs": []
    },
    {
      "cell_type": "code",
      "metadata": {
        "id": "CxcF7vdkZVz2"
      },
      "source": [
        "def alt_ust(q1,q3,iqr):\n",
        "  alt_sinir = q1- 1.5*iqr\n",
        "  ust_sinir = q3 + 1.5*iqr\n",
        "  print('Değişken için alt sınır: ', alt_sinir)\n",
        "  print('Değişken için üst sınır: ', ust_sinir)"
      ],
      "execution_count": null,
      "outputs": []
    },
    {
      "cell_type": "code",
      "metadata": {
        "colab": {
          "base_uri": "https://localhost:8080/"
        },
        "id": "NxZhKkGKZVwk",
        "outputId": "69e9bf68-f04b-4999-9077-db48ceb44086"
      },
      "source": [
        "alt_ust(q1,q3,iqr)"
      ],
      "execution_count": null,
      "outputs": [
        {
          "output_type": "stream",
          "text": [
            "Değişken için alt sınır:  -1591.9630467813986\n",
            "Değişken için üst sınır:  44472.21791339439\n"
          ],
          "name": "stdout"
        }
      ]
    },
    {
      "cell_type": "code",
      "metadata": {
        "id": "Bjnfp26uZ8Mx",
        "colab": {
          "base_uri": "https://localhost:8080/"
        },
        "outputId": "d7b39a23-5bad-4e0a-ae28-9df5ffe0e9e9"
      },
      "source": [
        "alt_sinir = q1- 1.5*iqr\n",
        "ust_sinir = q3 + 1.5*iqr\n",
        "print('Değişken için alt sınır: ', alt_sinir)\n",
        "print('Değişken için üst sınır: ', ust_sinir)\n"
      ],
      "execution_count": null,
      "outputs": [
        {
          "output_type": "stream",
          "text": [
            "Değişken için alt sınır:  -1591.9630467813986\n",
            "Değişken için üst sınır:  44472.21791339439\n"
          ],
          "name": "stdout"
        }
      ]
    },
    {
      "cell_type": "code",
      "metadata": {
        "id": "V0MyY360ZVtr"
      },
      "source": [
        "aykiri_alt = (use_data.Solids < alt_sinir)"
      ],
      "execution_count": null,
      "outputs": []
    },
    {
      "cell_type": "code",
      "metadata": {
        "id": "tUUD1exZVtrQ"
      },
      "source": [
        "aykiri_ust = (use_data.Solids > ust_sinir)"
      ],
      "execution_count": null,
      "outputs": []
    },
    {
      "cell_type": "code",
      "metadata": {
        "id": "ErKmIwvGVchf"
      },
      "source": [
        ""
      ],
      "execution_count": null,
      "outputs": []
    },
    {
      "cell_type": "code",
      "metadata": {
        "id": "0RC9-VlsZ_vR"
      },
      "source": [
        "alt= []\n",
        "for i in aykiri_alt:\n",
        "  if i == True:\n",
        "    alt.append(i)"
      ],
      "execution_count": null,
      "outputs": []
    },
    {
      "cell_type": "code",
      "metadata": {
        "colab": {
          "base_uri": "https://localhost:8080/"
        },
        "id": "xdUeu6qSZ_rU",
        "outputId": "3f3450e7-22cc-4411-a37c-f161dab6c5c6"
      },
      "source": [
        "# Alt sınırı aşan aykırı gözlem bulunmuyor.\n",
        "len(alt)"
      ],
      "execution_count": null,
      "outputs": [
        {
          "output_type": "execute_result",
          "data": {
            "text/plain": [
              "0"
            ]
          },
          "metadata": {
            "tags": []
          },
          "execution_count": 19
        }
      ]
    },
    {
      "cell_type": "code",
      "metadata": {
        "id": "Tr0jxXFUZ_lp"
      },
      "source": [
        "ust= []\n",
        "\n",
        "for i in aykiri_ust:\n",
        "  if i == True:\n",
        "    ust.append(i)\n",
        "\n"
      ],
      "execution_count": null,
      "outputs": []
    },
    {
      "cell_type": "code",
      "metadata": {
        "colab": {
          "base_uri": "https://localhost:8080/"
        },
        "id": "AB2eFk3nV92G",
        "outputId": "3551b65d-a500-474b-c9ba-9248fb603630"
      },
      "source": [
        "# Üst sınırı aşan 50 aykırı gözlem bulunuyor.\n",
        "len(ust)"
      ],
      "execution_count": null,
      "outputs": [
        {
          "output_type": "execute_result",
          "data": {
            "text/plain": [
              "50"
            ]
          },
          "metadata": {
            "tags": []
          },
          "execution_count": 22
        }
      ]
    },
    {
      "cell_type": "markdown",
      "metadata": {
        "id": "S8tBqPulnlbt"
      },
      "source": [
        "* Üst sınırı aşan aykırı gözlemlerin indexleri"
      ]
    },
    {
      "cell_type": "code",
      "metadata": {
        "colab": {
          "base_uri": "https://localhost:8080/"
        },
        "id": "7qy4I505nPuD",
        "outputId": "a5863361-1a09-463f-a533-422115c6a8c8"
      },
      "source": [
        "solids[aykiri_ust].index"
      ],
      "execution_count": null,
      "outputs": [
        {
          "output_type": "execute_result",
          "data": {
            "text/plain": [
              "Int64Index([ 142,  186,  283,  287,  310,  366,  378,  405,  516,  546,  583,\n",
              "             613,  648,  666,  987, 1031, 1068, 1096, 1106, 1186, 1302, 1332,\n",
              "            1343, 1445, 1462, 1527, 1554, 1556, 1746, 1784, 1815, 1858, 1955,\n",
              "            1984, 2012, 2475, 2602, 2680, 2758, 2891, 2993, 3014, 3130, 3150,\n",
              "            3162, 3173, 3190, 3226, 3236, 3271],\n",
              "           dtype='int64')"
            ]
          },
          "metadata": {
            "tags": []
          },
          "execution_count": 17
        }
      ]
    },
    {
      "cell_type": "markdown",
      "metadata": {
        "id": "HdNHkB0vnv4I"
      },
      "source": [
        "* **Conductivity değişkeni için alt ve üst sınırı aşan gözlemleri yakalayalım.** "
      ]
    },
    {
      "cell_type": "code",
      "metadata": {
        "colab": {
          "base_uri": "https://localhost:8080/"
        },
        "id": "HGDV1BpGPynx",
        "outputId": "4dd77def-cba0-45fb-ebcd-7489e0fb6ca9"
      },
      "source": [
        "IQR(conductivity)"
      ],
      "execution_count": null,
      "outputs": [
        {
          "output_type": "stream",
          "text": [
            "Değişkeninin Çeyrekler Açıklığı IQR=  116.10814324618002\n"
          ],
          "name": "stdout"
        }
      ]
    },
    {
      "cell_type": "code",
      "metadata": {
        "id": "otVATIlOhMLt"
      },
      "source": [
        "q1= conductivity.quantile(0.25)\n",
        "q3= conductivity.quantile(0.75)\n",
        "iqr = q3-q1"
      ],
      "execution_count": null,
      "outputs": []
    },
    {
      "cell_type": "code",
      "metadata": {
        "id": "io-PSz1sWXxC",
        "colab": {
          "base_uri": "https://localhost:8080/"
        },
        "outputId": "8f50b815-11cc-45e2-e0c2-212955bddf5b"
      },
      "source": [
        "alt_sinir = q1- 1.5*iqr\n",
        "ust_sinir = q3 + 1.5*iqr\n",
        "print('Conductivity değişkeni için alt sınır: ', alt_sinir)\n",
        "print('Conductivity değişkeni için üst sınır: ', ust_sinir)\n"
      ],
      "execution_count": null,
      "outputs": [
        {
          "output_type": "stream",
          "text": [
            "Conductivity değişkeni için alt sınır:  192.16497011689393\n",
            "Conductivity değişkeni için üst sınır:  656.5975431016141\n"
          ],
          "name": "stdout"
        }
      ]
    },
    {
      "cell_type": "code",
      "metadata": {
        "id": "lfS_rvigoMPL"
      },
      "source": [
        "aykiri_alt_cond = (use_data.Conductivity < alt_sinir)"
      ],
      "execution_count": null,
      "outputs": []
    },
    {
      "cell_type": "code",
      "metadata": {
        "id": "s9lbVU_roMPN"
      },
      "source": [
        "aykiri_ust_cond = (use_data.Conductivity > ust_sinir)"
      ],
      "execution_count": null,
      "outputs": []
    },
    {
      "cell_type": "code",
      "metadata": {
        "id": "aCZ6xgDboQE-"
      },
      "source": [
        "alt= []\n",
        "for i in aykiri_alt_cond:\n",
        "  if i == True:\n",
        "    alt.append(i)"
      ],
      "execution_count": null,
      "outputs": []
    },
    {
      "cell_type": "code",
      "metadata": {
        "colab": {
          "base_uri": "https://localhost:8080/"
        },
        "id": "2TUCabgpoQE_",
        "outputId": "1c3e88e2-94d0-4efd-cd8f-5ee7b987d74d"
      },
      "source": [
        "# Alt sınırı aşan 1 aykırı gözlem var.\n",
        "len(alt)"
      ],
      "execution_count": null,
      "outputs": [
        {
          "output_type": "execute_result",
          "data": {
            "text/plain": [
              "1"
            ]
          },
          "metadata": {
            "tags": []
          },
          "execution_count": 24
        }
      ]
    },
    {
      "cell_type": "code",
      "metadata": {
        "id": "0_mbjuvRoQFA"
      },
      "source": [
        "ust= []\n",
        "\n",
        "for i in aykiri_ust_cond:\n",
        "  if i == True:\n",
        "    ust.append(i)\n",
        "\n"
      ],
      "execution_count": null,
      "outputs": []
    },
    {
      "cell_type": "code",
      "metadata": {
        "colab": {
          "base_uri": "https://localhost:8080/"
        },
        "id": "5rUmmbLWoQFA",
        "outputId": "3b865fb6-fc28-4598-8065-ad90bbb2e813"
      },
      "source": [
        "# Üst sınırı aşan 10 aykırı gözlem bulunuyor.\n",
        "len(ust)"
      ],
      "execution_count": null,
      "outputs": [
        {
          "output_type": "execute_result",
          "data": {
            "text/plain": [
              "10"
            ]
          },
          "metadata": {
            "tags": []
          },
          "execution_count": 30
        }
      ]
    },
    {
      "cell_type": "markdown",
      "metadata": {
        "id": "zaYfTnqaoQFB"
      },
      "source": [
        "* Sınırı aşan aykırı gözlemlerin indexleri"
      ]
    },
    {
      "cell_type": "code",
      "metadata": {
        "colab": {
          "base_uri": "https://localhost:8080/"
        },
        "id": "4sxw5-l6oQFB",
        "outputId": "ab175de1-f585-46cc-9a62-24392af8a81a"
      },
      "source": [
        "conductivity[aykiri_alt_cond].index"
      ],
      "execution_count": null,
      "outputs": [
        {
          "output_type": "execute_result",
          "data": {
            "text/plain": [
              "Int64Index([1384], dtype='int64')"
            ]
          },
          "metadata": {
            "tags": []
          },
          "execution_count": 27
        }
      ]
    },
    {
      "cell_type": "code",
      "metadata": {
        "id": "ujEwswZGWX0p",
        "colab": {
          "base_uri": "https://localhost:8080/"
        },
        "outputId": "4a3db5bb-a3b2-4041-864f-9b0ae230660b"
      },
      "source": [
        "conductivity[aykiri_ust_cond].index"
      ],
      "execution_count": null,
      "outputs": [
        {
          "output_type": "execute_result",
          "data": {
            "text/plain": [
              "Int64Index([66, 140, 342, 1183, 1269, 1295, 2134, 2704, 2737, 3142], dtype='int64')"
            ]
          },
          "metadata": {
            "tags": []
          },
          "execution_count": 28
        }
      ]
    },
    {
      "cell_type": "markdown",
      "metadata": {
        "id": "gLP4F-7irZut"
      },
      "source": [
        "### ***2.2 Standart Sapma Yöntemi***\n",
        "* Gözlemlerin ortalamanın kaç standart sapma uzağında olduğuna bakılır. \n",
        "* Ortalamanın 3 standart sapma uzağında olan gözlemler aykırı gözlem olarak kabul edilir.\n",
        "\n",
        "\n",
        "\n",
        "\n",
        "\n",
        "\n",
        "\n",
        "\n",
        "\n"
      ]
    },
    {
      "cell_type": "code",
      "metadata": {
        "id": "pdYBthf1WX3h",
        "colab": {
          "base_uri": "https://localhost:8080/",
          "height": 345
        },
        "outputId": "e5833305-cc7d-4f24-921b-3eaf2b597f33"
      },
      "source": [
        "plt.figure(figsize = (10,5));\n",
        "sns.distplot(use_data['Solids']);"
      ],
      "execution_count": null,
      "outputs": [
        {
          "output_type": "display_data",
          "data": {
            "image/png": "[encoded data removed]",
            "text/plain": [
              "<Figure size 720x360 with 1 Axes>"
            ]
          },
          "metadata": {
            "tags": [],
            "needs_background": "light"
          }
        }
      ]
    },
    {
      "cell_type": "markdown",
      "metadata": {
        "id": "TanIc6FvxPTH"
      },
      "source": [
        "* IQR hesabında alt sınırı aşan gözlem bulunmamıştı ancak üst sınırı aşan 50 gözlem tespit edilmişti. Yine benzer şekilde ZSkoru yöntemi kullanıldığında da alt sınırı aşan gözlem 0, üst sınırı aşan gözlem sayısı 20 olarak bulundu.\n",
        "* NOT: Burada Conductivity değişkeni için hesaplama yapılmayacaktır. Her yöntem örnek olması açısından bir değişkene uygulanmıştır."
      ]
    },
    {
      "cell_type": "code",
      "metadata": {
        "colab": {
          "base_uri": "https://localhost:8080/"
        },
        "id": "TEZy3dUBrg2R",
        "outputId": "6d02dede-c8b8-46f6-de66-c41e35e62680"
      },
      "source": [
        "mean= use_data['Solids'].mean()\n",
        "std= use_data['Solids'].std()\n",
        "uc_std= 3*std\n",
        "sol_kuyruk= mean-uc_std\n",
        "sag_kuyruk = mean+uc_std\n",
        "ust_gozlem= use_data[use_data['Solids'] > sag_kuyruk]\n",
        "alt_gozlem = use_data[use_data['Solids'] < sol_kuyruk]\n",
        "print('Değişkenin ortalama değeri: ', mean,'Standart sapması: ',std)\n",
        "print('Sol kuyruk değeri: ',sol_kuyruk, 'Sağ kuruk değeri: ',sag_kuyruk)\n",
        "print('Alt sınırı aşan gözlemler ', alt_gozlem.shape[0])\n",
        "print('Üst sınırı aşan gözlemler ', ust_gozlem.shape[0])\n",
        "print( 'Üst Gözlem İndexleri: ', ust_gozlem.index)\n",
        "print( 'Alt Gözlem İndexleri: ', alt_gozlem.index)"
      ],
      "execution_count": null,
      "outputs": [
        {
          "output_type": "stream",
          "text": [
            "Değişkenin ortalama değeri:  21965.12366610199 Standart sapması:  8729.800382369598\n",
            "Sol kuyruk değeri:  -4224.277481006804 Sağ kuruk değeri:  48154.52481321078\n",
            "Alt sınırı aşan gözlemler  0\n",
            "Üst sınırı aşan gözlemler  20\n",
            "Üst Gözlem İndexleri:  Int64Index([ 283,  366,  546,  666, 1031, 1068, 1186, 1343, 1554, 1746, 1784,\n",
            "            1955, 2602, 2680, 3014, 3130, 3150, 3162, 3190, 3226],\n",
            "           dtype='int64')\n",
            "Alt Gözlem İndexleri:  Int64Index([], dtype='int64')\n"
          ],
          "name": "stdout"
        }
      ]
    },
    {
      "cell_type": "markdown",
      "metadata": {
        "id": "L6_O96pdyilF"
      },
      "source": [
        "*  Yukarıdaki işlemleri kolaylıkla tüm değişkenler üzerinde kullanmak için fonksiyon haline getirelim."
      ]
    },
    {
      "cell_type": "code",
      "metadata": {
        "id": "lWhKTM_nrg4s"
      },
      "source": [
        "def stdS(data,column):\n",
        "  mean= data[column].mean()\n",
        "  std= data[column].std()\n",
        "  uc_std= 3*std\n",
        "  sol_kuyruk= mean-uc_std\n",
        "  sag_kuyruk = mean+uc_std\n",
        "  ust_gozlem= data[data[column] > sag_kuyruk]\n",
        "  alt_gozlem = data[data[column] < sol_kuyruk]\n",
        "  print('Değişkenin ortalama değeri: ', mean,'Standart sapması: ',std)\n",
        "  print('Sol kuyruk değeri: ',sol_kuyruk, 'Sağ kuruk değeri: ',sag_kuyruk)\n",
        "  print('Alt sınırı aşan gözlemler ', alt_gozlem.shape[0])\n",
        "  print('Üst sınırı aşan gözlemler ', ust_gozlem.shape[0])\n",
        "  print( 'Üst Gözlem İndexleri: ', ust_gozlem.index)\n",
        "  print( 'Alt Gözlem İndexleri: ', alt_gozlem.index)\n",
        "    "
      ],
      "execution_count": null,
      "outputs": []
    },
    {
      "cell_type": "code",
      "metadata": {
        "colab": {
          "base_uri": "https://localhost:8080/"
        },
        "id": "pjYxu2tTrhAV",
        "outputId": "a6dd491a-71c0-4448-f6a5-5749b81937a3"
      },
      "source": [
        "stdS(use_data,'Conductivity')"
      ],
      "execution_count": null,
      "outputs": [
        {
          "output_type": "stream",
          "text": [
            "Değişkenin ortalama değeri:  426.62587315197095 Standart sapması:  80.95583234333228\n",
            "Sol kuyruk değeri:  183.75837612197412 Sağ kuruk değeri:  669.4933701819677\n",
            "Alt sınırı aşan gözlemler  1\n",
            "Üst sınırı aşan gözlemler  6\n",
            "Üst Gözlem İndexleri:  Int64Index([66, 140, 342, 2134, 2704, 3142], dtype='int64')\n",
            "Alt Gözlem İndexleri:  Int64Index([1384], dtype='int64')\n"
          ],
          "name": "stdout"
        }
      ]
    },
    {
      "cell_type": "code",
      "metadata": {
        "colab": {
          "base_uri": "https://localhost:8080/"
        },
        "id": "baEu8VXrrhCz",
        "outputId": "ba3e9371-c467-42c2-aa72-02c3f3388237"
      },
      "source": [
        "stdS(use_data,'Organic_carbon')"
      ],
      "execution_count": null,
      "outputs": [
        {
          "output_type": "stream",
          "text": [
            "Değişkenin ortalama değeri:  14.280720537834934 Standart sapması:  3.3168928916280076\n",
            "Sol kuyruk değeri:  4.330041862950912 Sağ kuruk değeri:  24.231399212718955\n",
            "Alt sınırı aşan gözlemler  1\n",
            "Üst sınırı aşan gözlemler  3\n",
            "Üst Gözlem İndexleri:  Int64Index([1792, 2057, 2236], dtype='int64')\n",
            "Alt Gözlem İndexleri:  Int64Index([785], dtype='int64')\n"
          ],
          "name": "stdout"
        }
      ]
    },
    {
      "cell_type": "code",
      "metadata": {
        "id": "MszHq_5j04GE",
        "colab": {
          "base_uri": "https://localhost:8080/"
        },
        "outputId": "a2e33164-f11d-42f3-997d-c7bc26070233"
      },
      "source": [
        "stdS(use_data,'Conductivity')"
      ],
      "execution_count": null,
      "outputs": [
        {
          "output_type": "stream",
          "text": [
            "Değişkenin ortalama değeri:  426.62587315197095 Standart sapması:  80.95583234333228\n",
            "Sol kuyruk değeri:  183.75837612197412 Sağ kuruk değeri:  669.4933701819677\n",
            "Alt sınırı aşan gözlemler  1\n",
            "Üst sınırı aşan gözlemler  6\n",
            "Üst Gözlem İndexleri:  Int64Index([66, 140, 342, 2134, 2704, 3142], dtype='int64')\n",
            "Alt Gözlem İndexleri:  Int64Index([1384], dtype='int64')\n"
          ],
          "name": "stdout"
        }
      ]
    },
    {
      "cell_type": "code",
      "metadata": {
        "id": "dZ6TBHwd04ED"
      },
      "source": [
        ""
      ],
      "execution_count": null,
      "outputs": []
    },
    {
      "cell_type": "markdown",
      "metadata": {
        "id": "QQ8j8UgT2tTz"
      },
      "source": [
        "### ***2.3 Z-Skoru***\n",
        "* Aykırı gözlem tespitinde Z Score yönteminden önce MAD, Standart Sapma Yöntemi ve IQR kullanılması bazı  durumlarda daha doğru bir hamle olabilir. Bu sebeple öncelik olarak farklı yöntemler deneyebilirsiniz.\n",
        "* Bu yöntemi kullanamak için verilerin normal dağılımdan kesin olarak geldiğini bilmemiz gereklidir.\n",
        "* Burada amaç değişkenin ölçeğini değiştirerek ortalamanın uzağında yer alan gözlemleri tespit etmektir.\n",
        "* Gözlem birimlenin dönüşümden sonra aldıkları z-skorları +-3 ( bu değer yaygın olarak 2.5,3 ve 3.5 olarak alınır) değerini aşıyorsa bu gözlemler aykırı olarak kabul edilir. \n",
        "> Hesaplamada şu formül kullanılır;\n",
        " * Z = (x – μ) / σ\n"
      ]
    },
    {
      "cell_type": "code",
      "metadata": {
        "id": "8m8P4c9S40Fy"
      },
      "source": [
        "mean= use_data['Chloramines'].mean()\n",
        "std= use_data['Chloramines'].std()\n",
        "score=[]\n",
        "alt_outlier = []\n",
        "ust_outlier = []\n",
        "alt_thresh = -3\n",
        "ust_thresh=3\n",
        "for i in use_data['Chloramines']:\n",
        "  zscore= (i-mean)/std\n",
        "  score.append(zscore)\n",
        "  if zscore > ust_thresh:\n",
        "    ust_outlier.append(i)\n",
        "  elif zscore < alt_thresh:\n",
        "    alt_outlier.append(i)\n",
        "    \n",
        "    \n",
        "        \n"
      ],
      "execution_count": null,
      "outputs": []
    },
    {
      "cell_type": "code",
      "metadata": {
        "colab": {
          "base_uri": "https://localhost:8080/"
        },
        "id": "UdFtR10X6D7p",
        "outputId": "56120065-45c8-4da1-9d9a-ed7aa69e4630"
      },
      "source": [
        "len(alt_outlier)"
      ],
      "execution_count": null,
      "outputs": [
        {
          "output_type": "execute_result",
          "data": {
            "text/plain": [
              "6"
            ]
          },
          "metadata": {
            "tags": []
          },
          "execution_count": 54
        }
      ]
    },
    {
      "cell_type": "code",
      "metadata": {
        "colab": {
          "base_uri": "https://localhost:8080/"
        },
        "id": "dXJhWha07owt",
        "outputId": "f72fe685-5843-4c52-c213-46b6644893c8"
      },
      "source": [
        "len(ust_outlier)"
      ],
      "execution_count": null,
      "outputs": [
        {
          "output_type": "execute_result",
          "data": {
            "text/plain": [
              "13"
            ]
          },
          "metadata": {
            "tags": []
          },
          "execution_count": 55
        }
      ]
    },
    {
      "cell_type": "markdown",
      "metadata": {
        "id": "IkFviDFCTEyy"
      },
      "source": [
        "#Çok Değişkenli Yöntemler (Multivariate)"
      ]
    },
    {
      "cell_type": "markdown",
      "metadata": {
        "id": "FuODp1cHTK05"
      },
      "source": [
        "## **1- Grafiksel Yaklaşım**\n"
      ]
    },
    {
      "cell_type": "markdown",
      "metadata": {
        "id": "SW8hpt8BTVtE"
      },
      "source": [
        "### ***Scatter Plot (Saçılım Grafiği)***\n",
        "* Hardness ve Solids Değişkenlerini birlikte inceleyelim."
      ]
    },
    {
      "cell_type": "markdown",
      "metadata": {
        "id": "SoY8_zU1WNGD"
      },
      "source": [
        "* Her iki değişken kendi içinde çok sayıda aykırı gözlem içermiyordu. Ancak iki değişkeni birlikte incelediğimizde 150-250 değerleri arasında bir yığılma olduğunu söyleriz ancak aykırı gözlem yok gibi gözüküyor bu yüzden kesin bir yorum yapamayız."
      ]
    },
    {
      "cell_type": "code",
      "metadata": {
        "colab": {
          "base_uri": "https://localhost:8080/",
          "height": 265
        },
        "id": "Uq40615cTCM5",
        "outputId": "24f319fb-f4bb-42e5-90fd-7860f130cefa"
      },
      "source": [
        "plt.scatter(use_data['Hardness'], use_data['Solids'])\n",
        "plt.show()"
      ],
      "execution_count": null,
      "outputs": [
        {
          "output_type": "display_data",
          "data": {
            "image/png": "[encoded data removed]",
            "text/plain": [
              "<Figure size 432x288 with 1 Axes>"
            ]
          },
          "metadata": {
            "tags": [],
            "needs_background": "light"
          }
        }
      ]
    },
    {
      "cell_type": "markdown",
      "metadata": {
        "id": "ZglYbDu0d79H"
      },
      "source": [
        "## **2- İstatistiksel Yaklaşımlar**"
      ]
    },
    {
      "cell_type": "markdown",
      "metadata": {
        "id": "IA8XtFZPeb6l"
      },
      "source": [
        "### ***2.1 DBSCAN (Gürültü ile Uygulamaların Yoğunluk Tabanlı Mekansal Kümelenmesi)***\n"
      ]
    },
    {
      "cell_type": "code",
      "metadata": {
        "id": "Gt8wTn2jfWL2"
      },
      "source": [
        "\n",
        "from sklearn.cluster import DBSCAN"
      ],
      "execution_count": null,
      "outputs": []
    },
    {
      "cell_type": "code",
      "metadata": {
        "id": "4Dh_AsCTNWjR"
      },
      "source": [
        "X = use_data[['Hardness','Solids']].values\n",
        "\n",
        "db = DBSCAN(eps=3.0, min_samples=10).fit(X)\n",
        "labels = db.labels_"
      ],
      "execution_count": null,
      "outputs": []
    },
    {
      "cell_type": "markdown",
      "metadata": {
        "id": "C3L6Whfe-89c"
      },
      "source": [
        "* Burada gözlermlerimizin hiç birisi kümelenemedi. Bu yöntem birlikte incelenediğinde anlam içerebilecek değişkenlere uygulandığında kullanışlı olur. Bizim veri setimizde birbiriyle anlam ifade edecek öznitelik bulunmuyor ancak örnek oluşturması açısından uygulamayı gerçekleştirdik."
      ]
    },
    {
      "cell_type": "code",
      "metadata": {
        "colab": {
          "base_uri": "https://localhost:8080/"
        },
        "id": "8VhrsVySNWnO",
        "outputId": "a02ff8a0-71a4-4468-b728-215349aa3298"
      },
      "source": [
        "pd.Series(labels).value_counts()"
      ],
      "execution_count": null,
      "outputs": [
        {
          "output_type": "execute_result",
          "data": {
            "text/plain": [
              "-1    3114\n",
              "dtype: int64"
            ]
          },
          "metadata": {
            "tags": []
          },
          "execution_count": 11
        }
      ]
    },
    {
      "cell_type": "code",
      "metadata": {
        "colab": {
          "base_uri": "https://localhost:8080/",
          "height": 714
        },
        "id": "6c3hnan6fz5b",
        "outputId": "d6ffa054-ac2f-4daf-adbb-d1e742dc3f59"
      },
      "source": [
        "plt.figure(figsize=(12,12))\n",
        "\n",
        "unique_labels = set(labels)\n",
        "colors = ['blue', 'red']\n",
        "\n",
        "for color,label in zip(colors, unique_labels):\n",
        "    sample_mask = [True if l == label else False for l in labels]\n",
        "    plt.plot(X[:,0][sample_mask], X[:, 1][sample_mask], 'o', color=color);\n",
        "plt.xlabel('Age');\n",
        "plt.ylabel('BMI');"
      ],
      "execution_count": null,
      "outputs": [
        {
          "output_type": "display_data",
          "data": {
            "image/png": "[encoded data removed]",
            "text/plain": [
              "<Figure size 864x864 with 1 Axes>"
            ]
          },
          "metadata": {
            "tags": [],
            "needs_background": "light"
          }
        }
      ]
    },
    {
      "cell_type": "markdown",
      "metadata": {
        "id": "xp5nHhBmgc-c"
      },
      "source": [
        "### ***2.2 LOFT***\n"
      ]
    },
    {
      "cell_type": "code",
      "metadata": {
        "id": "Muj0NRVeNf09"
      },
      "source": [
        "\n",
        "from sklearn.neighbors import LocalOutlierFactor"
      ],
      "execution_count": null,
      "outputs": []
    },
    {
      "cell_type": "code",
      "metadata": {
        "id": "LrufQRVXhw5t"
      },
      "source": [
        "clf = LocalOutlierFactor(n_neighbors=50, contamination='auto')\n",
        "X = use_data[['Hardness','Solids']].values\n",
        "y_pred = clf.fit_predict(X)"
      ],
      "execution_count": null,
      "outputs": []
    },
    {
      "cell_type": "code",
      "metadata": {
        "colab": {
          "base_uri": "https://localhost:8080/",
          "height": 730
        },
        "id": "UfdmxhLfhw4R",
        "outputId": "9533fb5b-8300-4045-9592-434884bce4d6"
      },
      "source": [
        "plt.figure(figsize=(12,12))\n",
        "# plot the level sets of the decision function\n",
        "\n",
        "normal = [True if l == 1 else False for l in y_pred]\n",
        "outlier = [True if l == -1 else False for l in y_pred]\n",
        "\n",
        "plt.title(\"LOFT ile Aykırı Gözlem Tespiti\")\n",
        "# inliers\n",
        "a = plt.scatter(X[normal, 0], X[normal, 1], c = 'green',\n",
        "                edgecolor = 'k', s = 30)\n",
        "# outliers\n",
        "b = plt.scatter(X[outlier, 0], X[outlier, 1], c = 'red',\n",
        "                edgecolor = 'k', s = 30)\n",
        "plt.axis('tight')\n",
        "plt.xlabel('Hardness');\n",
        "plt.ylabel('Solids');\n",
        "plt.show()"
      ],
      "execution_count": null,
      "outputs": [
        {
          "output_type": "display_data",
          "data": {
            "image/png": "[encoded data removed]",
            "text/plain": [
              "<Figure size 864x864 with 1 Axes>"
            ]
          },
          "metadata": {
            "tags": []
          }
        }
      ]
    },
    {
      "cell_type": "code",
      "metadata": {
        "id": "p_CEa137hw1q"
      },
      "source": [
        ""
      ],
      "execution_count": null,
      "outputs": []
    },
    {
      "cell_type": "markdown",
      "metadata": {
        "id": "iFwvZSgadIHj"
      },
      "source": [
        "### ***2.3 İZOLASYON ORMANI (Isolation Forest)***"
      ]
    },
    {
      "cell_type": "code",
      "metadata": {
        "id": "rSUVwMtSdT5V"
      },
      "source": [
        "from sklearn.ensemble import IsolationForest"
      ],
      "execution_count": null,
      "outputs": []
    },
    {
      "cell_type": "code",
      "metadata": {
        "id": "XrdVOZuUdT3a"
      },
      "source": [
        "X = use_data[['Hardness','Solids']].values\n",
        "clf = IsolationForest(max_samples=100, random_state=11)\n",
        "pred = clf.fit_predict(X)\n"
      ],
      "execution_count": null,
      "outputs": []
    },
    {
      "cell_type": "code",
      "metadata": {
        "colab": {
          "base_uri": "https://localhost:8080/"
        },
        "id": "WZoiBslSdT1Z",
        "outputId": "8b117a84-5b53-4609-8e9c-d80d9e4e8d6e"
      },
      "source": [
        "pred"
      ],
      "execution_count": null,
      "outputs": [
        {
          "output_type": "execute_result",
          "data": {
            "text/plain": [
              "array([ 1, -1,  1, ...,  1,  1,  1])"
            ]
          },
          "metadata": {
            "tags": []
          },
          "execution_count": 76
        }
      ]
    },
    {
      "cell_type": "code",
      "metadata": {
        "colab": {
          "base_uri": "https://localhost:8080/"
        },
        "id": "okKO3xujdTzI",
        "outputId": "3e0b8ae8-164f-4d19-943a-bd573fd77110"
      },
      "source": [
        "out_index = np.where(pred==-1)\n",
        "out_values = X[out_index]\n",
        "print('------------------------------------')\n",
        "print('Toplam aykırı gözlem sayısı: ',len(out_index[0]))\n",
        "print('------------------------------------')\n",
        "print(\"Aykırı gözlemlerin indexleri  \")\n",
        "print('------------------------------------')\n",
        "print(out_index[0])"
      ],
      "execution_count": null,
      "outputs": [
        {
          "output_type": "stream",
          "text": [
            "------------------------------------\n",
            "Toplam aykırı gözlem sayısı:  802\n",
            "------------------------------------\n",
            "Aykırı gözlemlerin indexleri  \n",
            "------------------------------------\n",
            "[   1    6    8   10   13   15   17   18   24   27   28   29   32   37\n",
            "   38   45   48   51   52   55   63   65   66   69   70   71   76   81\n",
            "   82   86   91   95   96  101  105  109  113  115  116  118  121  125\n",
            "  126  128  135  136  141  143  150  156  158  159  162  167  168  170\n",
            "  173  175  176  177  178  179  180  181  183  185  186  189  191  195\n",
            "  197  198  200  206  207  209  212  213  214  216  217  218  220  229\n",
            "  230  232  234  236  237  239  240  242  247  249  251  256  258  263\n",
            "  266  267  268  270  272  274  277  278  281  282  288  291  296  297\n",
            "  298  300  304  306  307  308  310  311  313  320  321  322  323  325\n",
            "  329  330  332  333  334  341  346  348  349  351  358  359  362  363\n",
            "  364  370  373  378  380  382  383  386  393  404  405  416  425  429\n",
            "  430  437  438  474  481  483  485  486  487  489  492  493  501  503\n",
            "  508  514  518  521  522  529  532  547  556  563  569  572  580  585\n",
            "  589  593  596  598  606  614  621  628  630  631  644  652  655  662\n",
            "  669  672  674  681  688  702  712  729  730  731  737  741  742  743\n",
            "  746  754  759  762  768  769  771  772  799  802  803  807  811  813\n",
            "  816  821  826  830  831  850  852  853  856  861  862  863  866  874\n",
            "  875  878  882  883  891  894  899  903  910  912  919  924  937  944\n",
            "  956  964  974  979  980  984  986  988  991  993 1016 1022 1023 1035\n",
            " 1043 1046 1048 1053 1054 1060 1071 1076 1081 1082 1085 1087 1090 1095\n",
            " 1101 1104 1105 1112 1118 1125 1129 1134 1135 1148 1149 1162 1172 1189\n",
            " 1197 1203 1208 1214 1223 1227 1229 1238 1243 1251 1253 1259 1260 1262\n",
            " 1266 1267 1273 1275 1277 1287 1292 1299 1314 1321 1332 1342 1346 1353\n",
            " 1357 1368 1373 1374 1384 1386 1388 1397 1400 1402 1408 1409 1410 1412\n",
            " 1415 1416 1420 1426 1427 1438 1440 1442 1447 1448 1450 1453 1454 1455\n",
            " 1458 1459 1460 1461 1465 1469 1477 1478 1479 1481 1483 1486 1488 1493\n",
            " 1496 1503 1509 1513 1516 1519 1521 1522 1523 1524 1525 1527 1538 1540\n",
            " 1544 1546 1547 1548 1550 1553 1555 1556 1557 1558 1561 1564 1565 1574\n",
            " 1575 1583 1584 1585 1586 1587 1599 1605 1613 1615 1616 1617 1619 1622\n",
            " 1628 1630 1631 1638 1640 1642 1648 1656 1659 1660 1669 1676 1677 1678\n",
            " 1680 1682 1683 1685 1686 1687 1688 1692 1693 1697 1698 1702 1704 1706\n",
            " 1710 1711 1715 1720 1729 1730 1733 1734 1735 1738 1740 1742 1743 1744\n",
            " 1748 1753 1761 1762 1766 1771 1772 1778 1785 1786 1792 1794 1795 1797\n",
            " 1799 1800 1803 1810 1812 1818 1820 1821 1828 1837 1847 1849 1855 1857\n",
            " 1865 1868 1872 1874 1879 1880 1882 1884 1889 1890 1892 1893 1907 1909\n",
            " 1911 1915 1916 1930 1934 1935 1936 1940 1962 1969 1973 1977 1988 1990\n",
            " 1993 1995 2000 2001 2002 2009 2010 2019 2027 2041 2058 2065 2067 2077\n",
            " 2081 2093 2098 2100 2104 2113 2118 2123 2132 2134 2136 2149 2155 2161\n",
            " 2166 2169 2172 2178 2180 2181 2182 2195 2200 2206 2224 2233 2235 2243\n",
            " 2249 2252 2263 2264 2267 2268 2278 2288 2293 2296 2297 2306 2316 2321\n",
            " 2332 2336 2339 2345 2351 2353 2356 2358 2359 2360 2364 2365 2371 2380\n",
            " 2382 2384 2385 2387 2388 2390 2395 2398 2400 2409 2410 2416 2417 2419\n",
            " 2420 2421 2424 2425 2426 2434 2440 2441 2442 2449 2452 2454 2462 2471\n",
            " 2473 2475 2479 2481 2482 2487 2491 2496 2497 2499 2500 2501 2503 2504\n",
            " 2510 2511 2512 2514 2515 2516 2517 2523 2524 2525 2527 2534 2535 2536\n",
            " 2543 2545 2546 2547 2550 2551 2558 2563 2567 2569 2577 2578 2579 2580\n",
            " 2581 2582 2584 2587 2589 2598 2603 2604 2605 2607 2611 2615 2619 2620\n",
            " 2621 2629 2630 2631 2633 2636 2638 2639 2642 2647 2648 2653 2657 2660\n",
            " 2670 2673 2678 2679 2680 2688 2691 2693 2700 2704 2706 2713 2714 2718\n",
            " 2721 2722 2733 2734 2737 2743 2745 2748 2755 2760 2762 2764 2768 2773\n",
            " 2776 2778 2783 2784 2786 2790 2799 2814 2815 2818 2820 2828 2829 2830\n",
            " 2844 2851 2858 2862 2864 2868 2873 2884 2899 2910 2918 2921 2924 2925\n",
            " 2926 2928 2929 2930 2931 2936 2938 2942 2950 2952 2965 2966 2967 2970\n",
            " 2971 2972 2973 2974 2983 2985 2988 2990 2991 2992 2993 2994 2996 2997\n",
            " 3002 3004 3005 3009 3012 3016 3018 3021 3022 3026 3027 3031 3032 3034\n",
            " 3038 3042 3043 3044 3045 3046 3048 3054 3055 3056 3058 3059 3061 3065\n",
            " 3066 3070 3073 3076 3081 3083 3084 3090 3091 3092 3094 3095 3096 3097\n",
            " 3099 3102 3108 3110]\n"
          ],
          "name": "stdout"
        }
      ]
    },
    {
      "cell_type": "code",
      "metadata": {
        "colab": {
          "base_uri": "https://localhost:8080/",
          "height": 717
        },
        "id": "Z9nJ7zb7dTw6",
        "outputId": "55017620-b49e-46dd-9a11-2f8712584763"
      },
      "source": [
        "plt.figure(figsize=(12,12));\n",
        "sns.scatterplot(x=X[:,0], y=X[:,1])\n",
        "sns.scatterplot(x=out_values[:,0], \n",
        "                y=out_values[:,1], color='purple')"
      ],
      "execution_count": null,
      "outputs": [
        {
          "output_type": "execute_result",
          "data": {
            "text/plain": [
              "<matplotlib.axes._subplots.AxesSubplot at 0x7fca30071190>"
            ]
          },
          "metadata": {
            "tags": []
          },
          "execution_count": 78
        },
        {
          "output_type": "display_data",
          "data": {
            "image/png": "[encoded data removed]",
            "text/plain": [
              "<Figure size 864x864 with 1 Axes>"
            ]
          },
          "metadata": {
            "tags": []
          }
        }
      ]
    },
    {
      "cell_type": "markdown",
      "metadata": {
        "id": "XkbaGBWDHML_"
      },
      "source": [
        "## **3- Makine Öğrenmesi Tabanlı Yaklaşım**"
      ]
    },
    {
      "cell_type": "markdown",
      "metadata": {
        "id": "oRvKrf7XiF_I"
      },
      "source": [
        "### ***Elliptic Envolope***"
      ]
    },
    {
      "cell_type": "code",
      "metadata": {
        "id": "jZbGX1s3gZ_V"
      },
      "source": [
        "from sklearn.covariance import EllipticEnvelope"
      ],
      "execution_count": null,
      "outputs": []
    },
    {
      "cell_type": "code",
      "metadata": {
        "id": "76731FNPHqL2"
      },
      "source": [
        "X = use_data[['Hardness','Solids']].values\n",
        "ell_envelope = EllipticEnvelope(contamination=0.025, \n",
        "                          random_state=1)"
      ],
      "execution_count": null,
      "outputs": []
    },
    {
      "cell_type": "code",
      "metadata": {
        "colab": {
          "base_uri": "https://localhost:8080/"
        },
        "id": "hVSlno7xKMp7",
        "outputId": "feabeb08-30c4-4a1d-c7be-3bfb1af45b37"
      },
      "source": [
        "# Pred sonucu -1 ve +1 olarak yanıt verecek.\n",
        "# -1 etiketiyle çıkan gözlemler aykırı gözlemdir. \n",
        "pred = ell_envelope.fit_predict(X)\n",
        "\n",
        "# Aykırı gözlemlerin index numarasına ulaşalım.\n",
        "outlier_index = np.where(pred==-1)\n",
        "outlier_values = X[outlier_index]\n",
        "print('------------------------------------')\n",
        "print('Toplam aykırı gözlem sayısı: ',len(outlier_index[0]))\n",
        "print('------------------------------------')\n",
        "print(\"Aykırı gözlemlerin indexleri  \")\n",
        "print('------------------------------------')\n",
        "print(outlier_index[0])"
      ],
      "execution_count": null,
      "outputs": [
        {
          "output_type": "stream",
          "text": [
            "------------------------------------\n",
            "Toplam aykırı gözlem sayısı:  78\n",
            "------------------------------------\n",
            "Aykırı gözlemlerin indexleri  \n",
            "------------------------------------\n",
            "[  37   51   86  206  218  237  247  263  266  270  274  297  304  308\n",
            "  322  334  341  351  363  364  386  493  522  631  937  980 1016 1043\n",
            " 1129 1189 1208 1238 1277 1388 1415 1450 1458 1465 1477 1519 1564 1659\n",
            " 1677 1693 1720 1733 1740 1761 1857 1911 2118 2224 2353 2356 2471 2501\n",
            " 2514 2516 2546 2620 2691 2718 2784 2864 2974 2993 3005 3021 3031 3038\n",
            " 3056 3058 3059 3061 3066 3076 3108 3110]\n"
          ],
          "name": "stdout"
        }
      ]
    },
    {
      "cell_type": "markdown",
      "metadata": {
        "id": "VlzkIbYeKRxo"
      },
      "source": [
        "*  Görselde kırmızı olan noktalar elliptic envelope metoduna göre aykırı gözlem olarak tespit edilmiş noktalar."
      ]
    },
    {
      "cell_type": "code",
      "metadata": {
        "colab": {
          "base_uri": "https://localhost:8080/",
          "height": 717
        },
        "id": "gMd9D-TRHanj",
        "outputId": "bc77b8a5-6b76-40a5-9da8-899461211e57"
      },
      "source": [
        "plt.figure(figsize=(12,12));\n",
        "sns.scatterplot(x=X[:,0], y=X[:,1])\n",
        "sns.scatterplot(x=outlier_values[:,0], \n",
        "                y=outlier_values[:,1], color='r')"
      ],
      "execution_count": null,
      "outputs": [
        {
          "output_type": "execute_result",
          "data": {
            "text/plain": [
              "<matplotlib.axes._subplots.AxesSubplot at 0x7fca30467110>"
            ]
          },
          "metadata": {
            "tags": []
          },
          "execution_count": 67
        },
        {
          "output_type": "display_data",
          "data": {
            "image/png": "[encoded data removed]",
            "text/plain": [
              "<Figure size 864x864 with 1 Axes>"
            ]
          },
          "metadata": {
            "tags": []
          }
        }
      ]
    },
    {
      "cell_type": "markdown",
      "metadata": {
        "id": "njcWMKj0a9qf"
      },
      "source": [
        "# Tespit Edilen Aykırı Gözlemler Üzerinde Yapılabilecek İşlemler\n",
        "* Bu aşamaya kadar gördüğümüz tüm yöntemlerle veri setinde aykırı değer varlığını nasıl kanıtlarız, aykırı gözlemlerin indexlerine nasıl ulaşırız bunlar ile ilgili uygulamalar yaptık.\n",
        "* Bundan sonraki uygulamalarımız ise indexlerini bilidiğimiz varlığı kanıtlanmış aykırı gözlemler üzerinde ne gibi değişiklikler yaparız veri setini nasıl düzenleriz bu yönde olacak.\n",
        "\n",
        "\n",
        "> **Aykırı Gözlem Düzenlemesinde Neler Yapılabilir?**\n",
        "* 1- Aykırı Değerler Silinebilir\n",
        "* 2- Aykırı Değerler Doldurulabilir\n",
        "* 3- Aykırı Değerler Baskılanabilir\n",
        "* 4- Aykırı Değerler Makine Öğrenmesi Algoritmalarıyla Tahmin Edilebilir\n",
        "\n",
        "\n",
        "> **NOT:** Bu yöntemler çok değişkenli ve tek değişkenli aykırı değer tespitinde ortaktır. Veri setine bağlı olarak tek-çok değişkenli yöntemler kullanarak aykırı değer varlığının tespitinden sonra bu yöntemler kullanılarak uç gözlemler üzerinde düzenleme yapılabilir.\n",
        "\n",
        "\n",
        "\n",
        "\n"
      ]
    },
    {
      "cell_type": "markdown",
      "metadata": {
        "id": "Od1j1bza3Rkn"
      },
      "source": [
        "* Aykırı gözlem düzenlemelerinde IQR ile tespit üzerinden silme, doldurma ve baskılama yöntemlerini inceleyeceğiz. \n",
        "* Bu sebeple yukarıda çalıştırdığımız kodları burada yeniden çalıştıralım."
      ]
    },
    {
      "cell_type": "code",
      "metadata": {
        "id": "xhhSYQ6P3wpZ"
      },
      "source": [
        "solids=use_data['Solids']"
      ],
      "execution_count": null,
      "outputs": []
    },
    {
      "cell_type": "code",
      "metadata": {
        "id": "i06EXuF04TuG"
      },
      "source": [
        "q1= solids.quantile(0.25)\n",
        "q3= solids.quantile(0.75)\n",
        "iqr = q3-q1"
      ],
      "execution_count": null,
      "outputs": []
    },
    {
      "cell_type": "code",
      "metadata": {
        "colab": {
          "base_uri": "https://localhost:8080/"
        },
        "id": "MXX9XmXV4TuI",
        "outputId": "abdc4309-6c08-4026-c8cb-4d7f56e4ad29"
      },
      "source": [
        "alt_sinir = q1- 1.5*iqr\n",
        "ust_sinir = q3 + 1.5*iqr\n",
        "print('Solids değişkeni için alt sınır: ', alt_sinir)\n",
        "print('Solids değişkeni için üst sınır: ', ust_sinir)\n"
      ],
      "execution_count": null,
      "outputs": [
        {
          "output_type": "stream",
          "text": [
            "Solids değişkeni için alt sınır:  -1591.9630467813986\n",
            "Solids değişkeni için üst sınır:  44472.21791339439\n"
          ],
          "name": "stdout"
        }
      ]
    },
    {
      "cell_type": "code",
      "metadata": {
        "id": "fvNW_CGs4TuL"
      },
      "source": [
        "aykiri_alt = (use_data.Solids < alt_sinir)"
      ],
      "execution_count": null,
      "outputs": []
    },
    {
      "cell_type": "code",
      "metadata": {
        "id": "2djfc8CC4TuM"
      },
      "source": [
        "aykiri_ust = (use_data.Solids > ust_sinir)"
      ],
      "execution_count": null,
      "outputs": []
    },
    {
      "cell_type": "code",
      "metadata": {
        "colab": {
          "base_uri": "https://localhost:8080/"
        },
        "id": "mzKWj03E4Pjs",
        "outputId": "80dba203-52aa-4a5c-d458-50b26504bc42"
      },
      "source": [
        "#Üst sınırı aşan aykırı gözlemlerin indexleri\n",
        "solids[aykiri_ust].index"
      ],
      "execution_count": null,
      "outputs": [
        {
          "output_type": "execute_result",
          "data": {
            "text/plain": [
              "Int64Index([ 142,  186,  283,  287,  310,  366,  378,  405,  516,  546,  583,\n",
              "             613,  648,  666,  987, 1031, 1068, 1096, 1106, 1186, 1302, 1332,\n",
              "            1343, 1445, 1462, 1527, 1554, 1556, 1746, 1784, 1815, 1858, 1955,\n",
              "            1984, 2012, 2475, 2602, 2680, 2758, 2891, 2993, 3014, 3130, 3150,\n",
              "            3162, 3173, 3190, 3226, 3236, 3271],\n",
              "           dtype='int64')"
            ]
          },
          "metadata": {
            "tags": []
          },
          "execution_count": 19
        }
      ]
    },
    {
      "cell_type": "markdown",
      "metadata": {
        "id": "njGsUNuk3m4O"
      },
      "source": [
        "## Aykırı Değerlerin Silinmesi"
      ]
    },
    {
      "cell_type": "code",
      "metadata": {
        "colab": {
          "base_uri": "https://localhost:8080/"
        },
        "id": "CbmZS-Ik7GMZ",
        "outputId": "cfbd1898-ddda-4ed0-a79a-027908b6ec79"
      },
      "source": [
        "len(solids[aykiri_ust].index)"
      ],
      "execution_count": null,
      "outputs": [
        {
          "output_type": "execute_result",
          "data": {
            "text/plain": [
              "50"
            ]
          },
          "metadata": {
            "tags": []
          },
          "execution_count": 25
        }
      ]
    },
    {
      "cell_type": "code",
      "metadata": {
        "id": "IM4eVPUUgZ0d"
      },
      "source": [
        "df_solids= pd.DataFrame(solids)"
      ],
      "execution_count": null,
      "outputs": []
    },
    {
      "cell_type": "code",
      "metadata": {
        "id": "9UIgNnargZya",
        "colab": {
          "base_uri": "https://localhost:8080/",
          "height": 204
        },
        "outputId": "da0fce53-af53-448a-9d1f-c46911a63ff1"
      },
      "source": [
        "df_solids.head()"
      ],
      "execution_count": null,
      "outputs": [
        {
          "output_type": "execute_result",
          "data": {
            "text/html": [
              "<div>\n",
              "<style scoped>\n",
              "    .dataframe tbody tr th:only-of-type {\n",
              "        vertical-align: middle;\n",
              "    }\n",
              "\n",
              "    .dataframe tbody tr th {\n",
              "        vertical-align: top;\n",
              "    }\n",
              "\n",
              "    .dataframe thead th {\n",
              "        text-align: right;\n",
              "    }\n",
              "</style>\n",
              "<table border=\"1\" class=\"dataframe\">\n",
              "  <thead>\n",
              "    <tr style=\"text-align: right;\">\n",
              "      <th></th>\n",
              "      <th>Solids</th>\n",
              "    </tr>\n",
              "  </thead>\n",
              "  <tbody>\n",
              "    <tr>\n",
              "      <th>0</th>\n",
              "      <td>20791.318981</td>\n",
              "    </tr>\n",
              "    <tr>\n",
              "      <th>1</th>\n",
              "      <td>18630.057858</td>\n",
              "    </tr>\n",
              "    <tr>\n",
              "      <th>2</th>\n",
              "      <td>19909.541732</td>\n",
              "    </tr>\n",
              "    <tr>\n",
              "      <th>3</th>\n",
              "      <td>22018.417441</td>\n",
              "    </tr>\n",
              "    <tr>\n",
              "      <th>4</th>\n",
              "      <td>17978.986339</td>\n",
              "    </tr>\n",
              "  </tbody>\n",
              "</table>\n",
              "</div>"
            ],
            "text/plain": [
              "         Solids\n",
              "0  20791.318981\n",
              "1  18630.057858\n",
              "2  19909.541732\n",
              "3  22018.417441\n",
              "4  17978.986339"
            ]
          },
          "metadata": {
            "tags": []
          },
          "execution_count": 21
        }
      ]
    },
    {
      "cell_type": "code",
      "metadata": {
        "colab": {
          "base_uri": "https://localhost:8080/"
        },
        "id": "KMOKyvME61b7",
        "outputId": "44ca3d24-cccf-4030-8119-0454db37a222"
      },
      "source": [
        "df_solids.info()"
      ],
      "execution_count": null,
      "outputs": [
        {
          "output_type": "stream",
          "text": [
            "<class 'pandas.core.frame.DataFrame'>\n",
            "Int64Index: 3114 entries, 0 to 3275\n",
            "Data columns (total 1 columns):\n",
            " #   Column  Non-Null Count  Dtype  \n",
            "---  ------  --------------  -----  \n",
            " 0   Solids  3114 non-null   float64\n",
            "dtypes: float64(1)\n",
            "memory usage: 48.7 KB\n"
          ],
          "name": "stdout"
        }
      ]
    },
    {
      "cell_type": "code",
      "metadata": {
        "id": "4KWQgPjyNWtb"
      },
      "source": [
        "df_solids = df_solids[~((df_solids < (alt_sinir)) | (df_solids > (ust_sinir))).any(axis = 1)]"
      ],
      "execution_count": null,
      "outputs": []
    },
    {
      "cell_type": "markdown",
      "metadata": {
        "id": "0Ww9gTWV7Mao"
      },
      "source": [
        "* Aykırı gözlem silme işleminden sonra veri setimizden 50 gözlem eksildi ve 3114'ten 3064'e düştü."
      ]
    },
    {
      "cell_type": "code",
      "metadata": {
        "colab": {
          "base_uri": "https://localhost:8080/"
        },
        "id": "T5ycEFL06oa7",
        "outputId": "8a7b4856-2246-444c-c95b-0df29794140c"
      },
      "source": [
        "df_solids.info()"
      ],
      "execution_count": null,
      "outputs": [
        {
          "output_type": "stream",
          "text": [
            "<class 'pandas.core.frame.DataFrame'>\n",
            "Int64Index: 3064 entries, 0 to 3275\n",
            "Data columns (total 1 columns):\n",
            " #   Column  Non-Null Count  Dtype  \n",
            "---  ------  --------------  -----  \n",
            " 0   Solids  3064 non-null   float64\n",
            "dtypes: float64(1)\n",
            "memory usage: 47.9 KB\n"
          ],
          "name": "stdout"
        }
      ]
    },
    {
      "cell_type": "markdown",
      "metadata": {
        "id": "iKAZfWJL7elz"
      },
      "source": [
        "## Aykırı Değerlerin Doldurulması\n",
        "* Doldurma yöntemlerini eksik gözlemlerin doldurulmasında uzunca incelemiştik. Farklı doldurma tekniklerini kullanarak aykırı gözlemler doldurulabilir."
      ]
    },
    {
      "cell_type": "markdown",
      "metadata": {
        "id": "poS-Y_kZ72NN"
      },
      "source": [
        "### ***Ortalama ile Doldurulması***"
      ]
    },
    {
      "cell_type": "code",
      "metadata": {
        "id": "VCc89C256oYl"
      },
      "source": [
        "solids_df=use_data['Solids']"
      ],
      "execution_count": null,
      "outputs": []
    },
    {
      "cell_type": "code",
      "metadata": {
        "id": "gd6UZDAQNf06",
        "colab": {
          "base_uri": "https://localhost:8080/"
        },
        "outputId": "4424d5ca-61a4-4038-eaad-fe2a941c167e"
      },
      "source": [
        "solids_df.head()"
      ],
      "execution_count": null,
      "outputs": [
        {
          "output_type": "execute_result",
          "data": {
            "text/plain": [
              "0    20791.318981\n",
              "1    18630.057858\n",
              "2    19909.541732\n",
              "3    22018.417441\n",
              "4    17978.986339\n",
              "Name: Solids, dtype: float64"
            ]
          },
          "metadata": {
            "tags": []
          },
          "execution_count": 28
        }
      ]
    },
    {
      "cell_type": "code",
      "metadata": {
        "id": "6Wc83vwdNf07",
        "colab": {
          "base_uri": "https://localhost:8080/"
        },
        "outputId": "bcfbb43d-f6c2-4c02-ae70-22b89e3d96e6"
      },
      "source": [
        "solids_df[aykiri_ust]"
      ],
      "execution_count": null,
      "outputs": [
        {
          "output_type": "execute_result",
          "data": {
            "text/plain": [
              "142     46140.126850\n",
              "186     45222.506665\n",
              "283     48621.563952\n",
              "287     46113.957485\n",
              "310     44506.441561\n",
              "366     52318.917298\n",
              "378     45249.449033\n",
              "405     46931.884293\n",
              "516     45510.584319\n",
              "546     49074.730407\n",
              "583     44652.363872\n",
              "613     44868.458368\n",
              "648     44612.751358\n",
              "666     52060.226800\n",
              "987     48002.084596\n",
              "1031    56867.859236\n",
              "1068    55334.702799\n",
              "1096    45141.686036\n",
              "1106    44586.812651\n",
              "1186    56351.396304\n",
              "1302    44896.984112\n",
              "1332    45166.912141\n",
              "1343    48204.172192\n",
              "1445    45166.639389\n",
              "1462    45939.689158\n",
              "1527    46718.555965\n",
              "1554    56488.672413\n",
              "1556    45243.028953\n",
              "1746    49125.360084\n",
              "1784    50279.262429\n",
              "1815    45041.149139\n",
              "1858    46077.358485\n",
              "1955    49009.924656\n",
              "1984    47022.745845\n",
              "2012    47852.888871\n",
              "2475    44499.728710\n",
              "2602    61227.196008\n",
              "2680    48175.852093\n",
              "2758    47591.283183\n",
              "2891    45050.002276\n",
              "2993    45148.808118\n",
              "3014    49456.587108\n",
              "3130    50793.898917\n",
              "3150    56320.586979\n",
              "3162    53735.899194\n",
              "3173    44539.738323\n",
              "3190    50166.533323\n",
              "3226    51731.820553\n",
              "3236    48007.868134\n",
              "3271    47580.991603\n",
              "Name: Solids, dtype: float64"
            ]
          },
          "metadata": {
            "tags": []
          },
          "execution_count": 29
        }
      ]
    },
    {
      "cell_type": "code",
      "metadata": {
        "id": "tEOKLBwCNf07",
        "colab": {
          "base_uri": "https://localhost:8080/"
        },
        "outputId": "e4a6daa5-9fd5-48e5-e153-e61ba54aad1f"
      },
      "source": [
        "print('Solids değişkeninin ortalaması: ',solids_df.mean())"
      ],
      "execution_count": null,
      "outputs": [
        {
          "output_type": "stream",
          "text": [
            "Solids değişkeninin ortalaması:  21541.176184105854\n"
          ],
          "name": "stdout"
        }
      ]
    },
    {
      "cell_type": "markdown",
      "metadata": {
        "id": "TclqSikX88_6"
      },
      "source": [
        "* Değişken üst aykırı değerlerini ortalama ile değiştirelim."
      ]
    },
    {
      "cell_type": "code",
      "metadata": {
        "id": "JJND90ujNf07"
      },
      "source": [
        "solids_df[aykiri_ust] = solids_df.mean()"
      ],
      "execution_count": null,
      "outputs": []
    },
    {
      "cell_type": "code",
      "metadata": {
        "id": "0zdxaQy2Nf07",
        "colab": {
          "base_uri": "https://localhost:8080/"
        },
        "outputId": "f6423794-6a76-44e5-d9f5-dc90e1c9b770"
      },
      "source": [
        "solids_df[aykiri_ust]"
      ],
      "execution_count": null,
      "outputs": [
        {
          "output_type": "execute_result",
          "data": {
            "text/plain": [
              "142     21965.123666\n",
              "186     21965.123666\n",
              "283     21965.123666\n",
              "287     21965.123666\n",
              "310     21965.123666\n",
              "366     21965.123666\n",
              "378     21965.123666\n",
              "405     21965.123666\n",
              "516     21965.123666\n",
              "546     21965.123666\n",
              "583     21965.123666\n",
              "613     21965.123666\n",
              "648     21965.123666\n",
              "666     21965.123666\n",
              "987     21965.123666\n",
              "1031    21965.123666\n",
              "1068    21965.123666\n",
              "1096    21965.123666\n",
              "1106    21965.123666\n",
              "1186    21965.123666\n",
              "1302    21965.123666\n",
              "1332    21965.123666\n",
              "1343    21965.123666\n",
              "1445    21965.123666\n",
              "1462    21965.123666\n",
              "1527    21965.123666\n",
              "1554    21965.123666\n",
              "1556    21965.123666\n",
              "1746    21965.123666\n",
              "1784    21965.123666\n",
              "1815    21965.123666\n",
              "1858    21965.123666\n",
              "1955    21965.123666\n",
              "1984    21965.123666\n",
              "2012    21965.123666\n",
              "2475    21965.123666\n",
              "2602    21965.123666\n",
              "2680    21965.123666\n",
              "2758    21965.123666\n",
              "2891    21965.123666\n",
              "2993    21965.123666\n",
              "3014    21965.123666\n",
              "3130    21965.123666\n",
              "3150    21965.123666\n",
              "3162    21965.123666\n",
              "3173    21965.123666\n",
              "3190    21965.123666\n",
              "3226    21965.123666\n",
              "3236    21965.123666\n",
              "3271    21965.123666\n",
              "Name: Solids, dtype: float64"
            ]
          },
          "metadata": {
            "tags": []
          },
          "execution_count": 33
        }
      ]
    },
    {
      "cell_type": "markdown",
      "metadata": {
        "id": "W9H94odE9tEM"
      },
      "source": [
        "### ***Medyan ile Doldurulması***"
      ]
    },
    {
      "cell_type": "code",
      "metadata": {
        "id": "at4qGIWh6oUy"
      },
      "source": [
        "solids_medyan=use_data['Solids']"
      ],
      "execution_count": null,
      "outputs": []
    },
    {
      "cell_type": "code",
      "metadata": {
        "colab": {
          "base_uri": "https://localhost:8080/"
        },
        "id": "6xsv1uL-6oSe",
        "outputId": "1005ff18-ae36-4579-a1de-7f3f9a1d817b"
      },
      "source": [
        "solids_medyan[aykiri_ust]"
      ],
      "execution_count": null,
      "outputs": [
        {
          "output_type": "execute_result",
          "data": {
            "text/plain": [
              "142     46140.126850\n",
              "186     45222.506665\n",
              "283     48621.563952\n",
              "287     46113.957485\n",
              "310     44506.441561\n",
              "366     52318.917298\n",
              "378     45249.449033\n",
              "405     46931.884293\n",
              "516     45510.584319\n",
              "546     49074.730407\n",
              "583     44652.363872\n",
              "613     44868.458368\n",
              "648     44612.751358\n",
              "666     52060.226800\n",
              "987     48002.084596\n",
              "1031    56867.859236\n",
              "1068    55334.702799\n",
              "1096    45141.686036\n",
              "1106    44586.812651\n",
              "1186    56351.396304\n",
              "1302    44896.984112\n",
              "1332    45166.912141\n",
              "1343    48204.172192\n",
              "1445    45166.639389\n",
              "1462    45939.689158\n",
              "1527    46718.555965\n",
              "1554    56488.672413\n",
              "1556    45243.028953\n",
              "1746    49125.360084\n",
              "1784    50279.262429\n",
              "1815    45041.149139\n",
              "1858    46077.358485\n",
              "1955    49009.924656\n",
              "1984    47022.745845\n",
              "2012    47852.888871\n",
              "2475    44499.728710\n",
              "2602    61227.196008\n",
              "2680    48175.852093\n",
              "2758    47591.283183\n",
              "2891    45050.002276\n",
              "2993    45148.808118\n",
              "3014    49456.587108\n",
              "3130    50793.898917\n",
              "3150    56320.586979\n",
              "3162    53735.899194\n",
              "3173    44539.738323\n",
              "3190    50166.533323\n",
              "3226    51731.820553\n",
              "3236    48007.868134\n",
              "3271    47580.991603\n",
              "Name: Solids, dtype: float64"
            ]
          },
          "metadata": {
            "tags": []
          },
          "execution_count": 62
        }
      ]
    },
    {
      "cell_type": "code",
      "metadata": {
        "colab": {
          "base_uri": "https://localhost:8080/"
        },
        "id": "MkuJuKza6oPu",
        "outputId": "6b8a16e7-c774-4879-a585-789b9f08c80a"
      },
      "source": [
        "print('Solids değişkeninin medyanı: ',solids_df.median())"
      ],
      "execution_count": null,
      "outputs": [
        {
          "output_type": "stream",
          "text": [
            "Solids değişkeninin medyanı:  20890.593527937504\n"
          ],
          "name": "stdout"
        }
      ]
    },
    {
      "cell_type": "code",
      "metadata": {
        "id": "3Kei8yYn6oHD"
      },
      "source": [
        "solids_medyan[aykiri_ust] = solids_df.median()"
      ],
      "execution_count": null,
      "outputs": []
    },
    {
      "cell_type": "code",
      "metadata": {
        "colab": {
          "base_uri": "https://localhost:8080/"
        },
        "id": "vmyYheqe-PoD",
        "outputId": "4585b20d-fb7b-4bb5-ae7b-5f7e6a4dfb2b"
      },
      "source": [
        "solids_medyan[aykiri_ust]"
      ],
      "execution_count": null,
      "outputs": [
        {
          "output_type": "execute_result",
          "data": {
            "text/plain": [
              "142     20888.690045\n",
              "186     20888.690045\n",
              "283     20888.690045\n",
              "287     20888.690045\n",
              "310     20888.690045\n",
              "366     20888.690045\n",
              "378     20888.690045\n",
              "405     20888.690045\n",
              "516     20888.690045\n",
              "546     20888.690045\n",
              "583     20888.690045\n",
              "613     20888.690045\n",
              "648     20888.690045\n",
              "666     20888.690045\n",
              "987     20888.690045\n",
              "1031    20888.690045\n",
              "1068    20888.690045\n",
              "1096    20888.690045\n",
              "1106    20888.690045\n",
              "1186    20888.690045\n",
              "1302    20888.690045\n",
              "1332    20888.690045\n",
              "1343    20888.690045\n",
              "1445    20888.690045\n",
              "1462    20888.690045\n",
              "1527    20888.690045\n",
              "1554    20888.690045\n",
              "1556    20888.690045\n",
              "1746    20888.690045\n",
              "1784    20888.690045\n",
              "1815    20888.690045\n",
              "1858    20888.690045\n",
              "1955    20888.690045\n",
              "1984    20888.690045\n",
              "2012    20888.690045\n",
              "2475    20888.690045\n",
              "2602    20888.690045\n",
              "2680    20888.690045\n",
              "2758    20888.690045\n",
              "2891    20888.690045\n",
              "2993    20888.690045\n",
              "3014    20888.690045\n",
              "3130    20888.690045\n",
              "3150    20888.690045\n",
              "3162    20888.690045\n",
              "3173    20888.690045\n",
              "3190    20888.690045\n",
              "3226    20888.690045\n",
              "3236    20888.690045\n",
              "3271    20888.690045\n",
              "Name: Solids, dtype: float64"
            ]
          },
          "metadata": {
            "tags": []
          },
          "execution_count": 41
        }
      ]
    },
    {
      "cell_type": "markdown",
      "metadata": {
        "id": "q7oKN2-n-q15"
      },
      "source": [
        "## Aykırı Değerlerin Baskılanması"
      ]
    },
    {
      "cell_type": "code",
      "metadata": {
        "id": "7c6Joe6O--11"
      },
      "source": [
        "solids_baskilama=use_data['Solids']"
      ],
      "execution_count": null,
      "outputs": []
    },
    {
      "cell_type": "code",
      "metadata": {
        "colab": {
          "base_uri": "https://localhost:8080/"
        },
        "id": "7r_sHWtN--yp",
        "outputId": "73acb492-98be-4059-ebf4-f3ca535ec5c2"
      },
      "source": [
        "print('Ust sınır değeri: ',ust_sinir)"
      ],
      "execution_count": null,
      "outputs": [
        {
          "output_type": "stream",
          "text": [
            "Ust sınır değeri:  44472.21791339439\n"
          ],
          "name": "stdout"
        }
      ]
    },
    {
      "cell_type": "code",
      "metadata": {
        "colab": {
          "base_uri": "https://localhost:8080/"
        },
        "id": "yj3kBBKi--wg",
        "outputId": "ead4a400-3db6-4516-d5a0-23ffb47a93c2"
      },
      "source": [
        "solids_baskilama[aykiri_ust]"
      ],
      "execution_count": null,
      "outputs": [
        {
          "output_type": "execute_result",
          "data": {
            "text/plain": [
              "142     46140.126850\n",
              "186     45222.506665\n",
              "283     48621.563952\n",
              "287     46113.957485\n",
              "310     44506.441561\n",
              "366     52318.917298\n",
              "378     45249.449033\n",
              "405     46931.884293\n",
              "516     45510.584319\n",
              "546     49074.730407\n",
              "583     44652.363872\n",
              "613     44868.458368\n",
              "648     44612.751358\n",
              "666     52060.226800\n",
              "987     48002.084596\n",
              "1031    56867.859236\n",
              "1068    55334.702799\n",
              "1096    45141.686036\n",
              "1106    44586.812651\n",
              "1186    56351.396304\n",
              "1302    44896.984112\n",
              "1332    45166.912141\n",
              "1343    48204.172192\n",
              "1445    45166.639389\n",
              "1462    45939.689158\n",
              "1527    46718.555965\n",
              "1554    56488.672413\n",
              "1556    45243.028953\n",
              "1746    49125.360084\n",
              "1784    50279.262429\n",
              "1815    45041.149139\n",
              "1858    46077.358485\n",
              "1955    49009.924656\n",
              "1984    47022.745845\n",
              "2012    47852.888871\n",
              "2475    44499.728710\n",
              "2602    61227.196008\n",
              "2680    48175.852093\n",
              "2758    47591.283183\n",
              "2891    45050.002276\n",
              "2993    45148.808118\n",
              "3014    49456.587108\n",
              "3130    50793.898917\n",
              "3150    56320.586979\n",
              "3162    53735.899194\n",
              "3173    44539.738323\n",
              "3190    50166.533323\n",
              "3226    51731.820553\n",
              "3236    48007.868134\n",
              "3271    47580.991603\n",
              "Name: Solids, dtype: float64"
            ]
          },
          "metadata": {
            "tags": []
          },
          "execution_count": 65
        }
      ]
    },
    {
      "cell_type": "code",
      "metadata": {
        "id": "GDcSx9Y3--sm"
      },
      "source": [
        "solids_baskilama[aykiri_ust] = ust_sinir"
      ],
      "execution_count": null,
      "outputs": []
    },
    {
      "cell_type": "code",
      "metadata": {
        "colab": {
          "base_uri": "https://localhost:8080/"
        },
        "id": "XirNNq_T-PmC",
        "outputId": "f875124a-dd61-4ed0-c6d2-e6f3d7d18fcb"
      },
      "source": [
        "solids_baskilama[aykiri_ust]"
      ],
      "execution_count": null,
      "outputs": [
        {
          "output_type": "execute_result",
          "data": {
            "text/plain": [
              "142     44472.217913\n",
              "186     44472.217913\n",
              "283     44472.217913\n",
              "287     44472.217913\n",
              "310     44472.217913\n",
              "366     44472.217913\n",
              "378     44472.217913\n",
              "405     44472.217913\n",
              "516     44472.217913\n",
              "546     44472.217913\n",
              "583     44472.217913\n",
              "613     44472.217913\n",
              "648     44472.217913\n",
              "666     44472.217913\n",
              "987     44472.217913\n",
              "1031    44472.217913\n",
              "1068    44472.217913\n",
              "1096    44472.217913\n",
              "1106    44472.217913\n",
              "1186    44472.217913\n",
              "1302    44472.217913\n",
              "1332    44472.217913\n",
              "1343    44472.217913\n",
              "1445    44472.217913\n",
              "1462    44472.217913\n",
              "1527    44472.217913\n",
              "1554    44472.217913\n",
              "1556    44472.217913\n",
              "1746    44472.217913\n",
              "1784    44472.217913\n",
              "1815    44472.217913\n",
              "1858    44472.217913\n",
              "1955    44472.217913\n",
              "1984    44472.217913\n",
              "2012    44472.217913\n",
              "2475    44472.217913\n",
              "2602    44472.217913\n",
              "2680    44472.217913\n",
              "2758    44472.217913\n",
              "2891    44472.217913\n",
              "2993    44472.217913\n",
              "3014    44472.217913\n",
              "3130    44472.217913\n",
              "3150    44472.217913\n",
              "3162    44472.217913\n",
              "3173    44472.217913\n",
              "3190    44472.217913\n",
              "3226    44472.217913\n",
              "3236    44472.217913\n",
              "3271    44472.217913\n",
              "Name: Solids, dtype: float64"
            ]
          },
          "metadata": {
            "tags": []
          },
          "execution_count": 67
        }
      ]
    },
    {
      "cell_type": "markdown",
      "metadata": {
        "id": "LyrUtkEEZlsg"
      },
      "source": [
        "# **!!BONUS BÖLÜM!!**\n",
        "* Veri setinizde aykırı değerler var ancak detaylı inceleme yapmaya değmeyecek kadar az ise ve modelinizin aykırı gözlemden etkilenmesini istemiyorsanız uç değerlere karşı robust(sağlam) olan modelleri tercih edebilirsiniz.\n",
        "\n",
        "\n",
        "> Aykırı Gözlem Varlığında Robust Modeller:\n",
        "* Decision Tree\n",
        "* Random Forest\n",
        "* XGBoost\n",
        "* AdaBoost\n",
        "* Naive Bayes\n",
        "\n"
      ]
    },
    {
      "cell_type": "markdown",
      "metadata": {
        "id": "CDqU0bIMbRan"
      },
      "source": [
        "* XGBoost Algoritmasını Kullanarak Veri Setindeki Eksik ve Aykırı Gözlem Üzerinde İşlem Yapmadan Modelleme Yapalım\n"
      ]
    },
    {
      "cell_type": "code",
      "metadata": {
        "id": "WAjRjl6U-Pkh"
      },
      "source": [
        "from xgboost import XGBClassifier\n",
        "from sklearn.metrics import confusion_matrix, accuracy_score, classification_report"
      ],
      "execution_count": null,
      "outputs": []
    },
    {
      "cell_type": "code",
      "metadata": {
        "id": "_KelHk6tmgm_"
      },
      "source": [
        "df=data.copy()"
      ],
      "execution_count": null,
      "outputs": []
    },
    {
      "cell_type": "code",
      "metadata": {
        "colab": {
          "base_uri": "https://localhost:8080/",
          "height": 204
        },
        "id": "0-fjgbiGmJvs",
        "outputId": "ecc95458-cabd-43cf-d992-14ab72334ab3"
      },
      "source": [
        "y=df['Potability']\n",
        "X=df.drop(['Potability'],axis=1)\n",
        "X.head()"
      ],
      "execution_count": null,
      "outputs": [
        {
          "output_type": "execute_result",
          "data": {
            "text/html": [
              "<div>\n",
              "<style scoped>\n",
              "    .dataframe tbody tr th:only-of-type {\n",
              "        vertical-align: middle;\n",
              "    }\n",
              "\n",
              "    .dataframe tbody tr th {\n",
              "        vertical-align: top;\n",
              "    }\n",
              "\n",
              "    .dataframe thead th {\n",
              "        text-align: right;\n",
              "    }\n",
              "</style>\n",
              "<table border=\"1\" class=\"dataframe\">\n",
              "  <thead>\n",
              "    <tr style=\"text-align: right;\">\n",
              "      <th></th>\n",
              "      <th>ph</th>\n",
              "      <th>Hardness</th>\n",
              "      <th>Solids</th>\n",
              "      <th>Chloramines</th>\n",
              "      <th>Sulfate</th>\n",
              "      <th>Conductivity</th>\n",
              "      <th>Organic_carbon</th>\n",
              "      <th>Trihalomethanes</th>\n",
              "      <th>Turbidity</th>\n",
              "    </tr>\n",
              "  </thead>\n",
              "  <tbody>\n",
              "    <tr>\n",
              "      <th>0</th>\n",
              "      <td>NaN</td>\n",
              "      <td>204.890455</td>\n",
              "      <td>20791.318981</td>\n",
              "      <td>7.300212</td>\n",
              "      <td>368.516441</td>\n",
              "      <td>564.308654</td>\n",
              "      <td>10.379783</td>\n",
              "      <td>86.990970</td>\n",
              "      <td>2.963135</td>\n",
              "    </tr>\n",
              "    <tr>\n",
              "      <th>1</th>\n",
              "      <td>3.716080</td>\n",
              "      <td>129.422921</td>\n",
              "      <td>18630.057858</td>\n",
              "      <td>6.635246</td>\n",
              "      <td>NaN</td>\n",
              "      <td>592.885359</td>\n",
              "      <td>15.180013</td>\n",
              "      <td>56.329076</td>\n",
              "      <td>4.500656</td>\n",
              "    </tr>\n",
              "    <tr>\n",
              "      <th>2</th>\n",
              "      <td>8.099124</td>\n",
              "      <td>224.236259</td>\n",
              "      <td>19909.541732</td>\n",
              "      <td>9.275884</td>\n",
              "      <td>NaN</td>\n",
              "      <td>418.606213</td>\n",
              "      <td>16.868637</td>\n",
              "      <td>66.420093</td>\n",
              "      <td>3.055934</td>\n",
              "    </tr>\n",
              "    <tr>\n",
              "      <th>3</th>\n",
              "      <td>8.316766</td>\n",
              "      <td>214.373394</td>\n",
              "      <td>22018.417441</td>\n",
              "      <td>8.059332</td>\n",
              "      <td>356.886136</td>\n",
              "      <td>363.266516</td>\n",
              "      <td>18.436524</td>\n",
              "      <td>100.341674</td>\n",
              "      <td>4.628771</td>\n",
              "    </tr>\n",
              "    <tr>\n",
              "      <th>4</th>\n",
              "      <td>9.092223</td>\n",
              "      <td>181.101509</td>\n",
              "      <td>17978.986339</td>\n",
              "      <td>6.546600</td>\n",
              "      <td>310.135738</td>\n",
              "      <td>398.410813</td>\n",
              "      <td>11.558279</td>\n",
              "      <td>31.997993</td>\n",
              "      <td>4.075075</td>\n",
              "    </tr>\n",
              "  </tbody>\n",
              "</table>\n",
              "</div>"
            ],
            "text/plain": [
              "         ph    Hardness  ...  Trihalomethanes  Turbidity\n",
              "0       NaN  204.890455  ...        86.990970   2.963135\n",
              "1  3.716080  129.422921  ...        56.329076   4.500656\n",
              "2  8.099124  224.236259  ...        66.420093   3.055934\n",
              "3  8.316766  214.373394  ...       100.341674   4.628771\n",
              "4  9.092223  181.101509  ...        31.997993   4.075075\n",
              "\n",
              "[5 rows x 9 columns]"
            ]
          },
          "metadata": {
            "tags": []
          },
          "execution_count": 72
        }
      ]
    },
    {
      "cell_type": "code",
      "metadata": {
        "colab": {
          "base_uri": "https://localhost:8080/"
        },
        "id": "2SZ9lp4_-Pid",
        "outputId": "f230a8c2-2fbe-4982-97fb-1ba81b52022b"
      },
      "source": [
        "from sklearn.model_selection import train_test_split, cross_val_score\n",
        "X_train,X_test,y_train,y_test=train_test_split(data,y,test_size=0.15, random_state=42)\n",
        "print(\"X_train\", X_train.shape)\n",
        "\n",
        "print(\"y_train\",y_train.shape)\n",
        "\n",
        "print(\"X_test\",X_test.shape)\n",
        "\n",
        "print(\"y_test\",y_test.shape)"
      ],
      "execution_count": null,
      "outputs": [
        {
          "output_type": "stream",
          "text": [
            "X_train (2784, 10)\n",
            "y_train (2784,)\n",
            "X_test (492, 10)\n",
            "y_test (492,)\n"
          ],
          "name": "stdout"
        }
      ]
    },
    {
      "cell_type": "markdown",
      "metadata": {
        "id": "rsOGyBg_pPxN"
      },
      "source": [
        "* Veride overfitting durumu ile karşılaştık. Overfitting problemi bu bölümün konusu olmadığı için burada bırakıyorum. Ancak ileride bu konu üzerinde yapılan çalışmalar için takipte kalabilirsiniz."
      ]
    },
    {
      "cell_type": "code",
      "metadata": {
        "colab": {
          "base_uri": "https://localhost:8080/"
        },
        "id": "s92qJ3u8nstR",
        "outputId": "0780333f-3e05-4545-bf35-2ca12b400e4d"
      },
      "source": [
        "xgb_model = XGBClassifier().fit(X_train, y_train)\n",
        "y_pred = xgb_model.predict(X_test)\n",
        "accuracy_score(y_test, y_pred)"
      ],
      "execution_count": null,
      "outputs": [
        {
          "output_type": "execute_result",
          "data": {
            "text/plain": [
              "1.0"
            ]
          },
          "metadata": {
            "tags": []
          },
          "execution_count": 82
        }
      ]
    },
    {
      "cell_type": "code",
      "metadata": {
        "colab": {
          "base_uri": "https://localhost:8080/"
        },
        "id": "BmcDKFexbmUE",
        "outputId": "87e1115a-15d9-4605-b416-6a1522c55118"
      },
      "source": [
        "print(classification_report(y_test,y_pred))"
      ],
      "execution_count": null,
      "outputs": [
        {
          "output_type": "stream",
          "text": [
            "              precision    recall  f1-score   support\n",
            "\n",
            "           0       1.00      1.00      1.00       306\n",
            "           1       1.00      1.00      1.00       186\n",
            "\n",
            "    accuracy                           1.00       492\n",
            "   macro avg       1.00      1.00      1.00       492\n",
            "weighted avg       1.00      1.00      1.00       492\n",
            "\n"
          ],
          "name": "stdout"
        }
      ]
    },
    {
      "cell_type": "code",
      "metadata": {
        "id": "6ZdMyT5IoRlw"
      },
      "source": [
        ""
      ],
      "execution_count": null,
      "outputs": []
    }
  ]
}