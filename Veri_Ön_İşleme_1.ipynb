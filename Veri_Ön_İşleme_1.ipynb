{
  "nbformat": 4,
  "nbformat_minor": 0,
  "metadata": {
    "colab": {
      "name": "Veri-Ön-İşleme_1.ipynb",
      "provenance": [],
      "include_colab_link": true
    },
    "kernelspec": {
      "name": "python3",
      "display_name": "Python 3"
    },
    "language_info": {
      "name": "python"
    }
  },
  "cells": [
    {
      "cell_type": "markdown",
      "metadata": {
        "id": "view-in-github",
        "colab_type": "text"
      },
      "source": [
        "<a href=\"https://colab.research.google.com/github/kserdem/Veri-On-sleme-Ad-mlar-/blob/main/Veri_%C3%96n_%C4%B0%C5%9Fleme_1.ipynb\" target=\"_parent\"><img src=\"https://colab.research.google.com/assets/colab-badge.svg\" alt=\"Open In Colab\"/></a>"
      ]
    },
    {
      "cell_type": "markdown",
      "metadata": {
        "id": "aaU33TVGwhWT"
      },
      "source": [
        "Context\n",
        "Access to safe drinking-water is essential to health, a basic human right and a component of effective policy for health protection. This is important as a health and development issue at a national, regional and local level. In some regions, it has been shown that investments in water supply and sanitation can yield a net economic benefit, since the reductions in adverse health effects and health care costs outweigh the costs of undertaking the interventions.\n",
        "\n",
        "**Content**\n",
        "The water_potability.csv file contains water quality metrics for 3276 different water bodies.\n",
        "\n",
        "* **1. pH value:**\n",
        "PH is an important parameter in evaluating the acid–base balance of water. It is also the indicator of acidic or alkaline condition of water status. WHO has recommended maximum permissible limit of pH from 6.5 to 8.5. The current investigation ranges were 6.52–6.83 which are in the range of WHO standards.\n",
        "\n",
        "* **2. Hardness:**\n",
        "Hardness is mainly caused by calcium and magnesium salts. These salts are dissolved from geologic deposits through which water travels. The length of time water is in contact with hardness producing material helps determine how much hardness there is in raw water. Hardness was originally defined as the capacity of water to precipitate soap caused by Calcium and Magnesium.\n",
        "\n",
        "* **3. Solids (Total dissolved solids - TDS)**:\n",
        "Water has the ability to dissolve a wide range of inorganic and some organic minerals or salts such as potassium, calcium, sodium, bicarbonates, chlorides, magnesium, sulfates etc. These minerals produced un-wanted taste and diluted color in appearance of water. This is the important parameter for the use of water. The water with high TDS value indicates that water is highly mineralized. Desirable limit for TDS is 500 mg/l and maximum limit is 1000 mg/l which prescribed for drinking purpose.\n",
        "\n",
        "* **4. Chloramines:**\n",
        "Chlorine and chloramine are the major disinfectants used in public water systems. Chloramines are most commonly formed when ammonia is added to chlorine to treat drinking water. Chlorine levels up to 4 milligrams per liter (mg/L or 4 parts per million (ppm)) are considered safe in drinking water.\n",
        "\n",
        "* **5. Sulfate:**\n",
        "Sulfates are naturally occurring substances that are found in minerals, soil, and rocks. They are present in ambient air, groundwater, plants, and food. The principal commercial use of sulfate is in the chemical industry. Sulfate concentration in seawater is about 2,700 milligrams per liter (mg/L). It ranges from 3 to 30 mg/L in most freshwater supplies, although much higher concentrations (1000 mg/L) are found in some geographic locations.\n",
        "\n",
        "* **6. Conductivity:**\n",
        "Pure water is not a good conductor of electric current rather’s a good insulator. Increase in ions concentration enhances the electrical conductivity of water. Generally, the amount of dissolved solids in water determines the electrical conductivity. Electrical conductivity (EC) actually measures the ionic process of a solution that enables it to transmit current. According to WHO standards, EC value should not exceeded 400 μS/cm.\n",
        "\n",
        "* **7. Organic_carbon:**\n",
        "Total Organic Carbon (TOC) in source waters comes from decaying natural organic matter (NOM) as well as synthetic sources. TOC is a measure of the total amount of carbon in organic compounds in pure water. According to US EPA < 2 mg/L as TOC in treated / drinking water, and < 4 mg/Lit in source water which is use for treatment.\n",
        "\n",
        "* **8. Trihalomethanes:**\n",
        "THMs are chemicals which may be found in water treated with chlorine. The concentration of THMs in drinking water varies according to the level of organic material in the water, the amount of chlorine required to treat the water, and the temperature of the water that is being treated. THM levels up to 80 ppm is considered safe in drinking water.\n",
        "\n",
        "* **9. Turbidity:**\n",
        "The turbidity of water depends on the quantity of solid matter present in the suspended state. It is a measure of light emitting properties of water and the test is used to indicate the quality of waste discharge with respect to colloidal matter. The mean turbidity value obtained for Wondo Genet Campus (0.98 NTU) is lower than the WHO recommended value of 5.00 NTU.\n",
        "\n",
        "* **10. Potability:**\n",
        "Indicates if water is safe for human consumption where 1 means Potable and 0 means Not potable."
      ]
    },
    {
      "cell_type": "markdown",
      "metadata": {
        "id": "4tda_q5qAxf5"
      },
      "source": [
        "# [EKSİK GÖZLEM ANALİZİNİ DETAYLI ANLATTIĞIM YAZIMA BURADAN ULAŞABİLİRSİNİZ](https://kardelenerdem.com/2021/06/25/veri-on-isleme-adim-1-eksik-gozlem-analizi/)"
      ]
    },
    {
      "cell_type": "code",
      "metadata": {
        "id": "2jFnOH4EkvWM"
      },
      "source": [
        ""
      ],
      "execution_count": null,
      "outputs": []
    },
    {
      "cell_type": "markdown",
      "metadata": {
        "id": "xj-skkeLPHt_"
      },
      "source": [
        "# **Kütüphanelerin ve Veri Setinin Yüklenmesi**"
      ]
    },
    {
      "cell_type": "code",
      "metadata": {
        "colab": {
          "base_uri": "https://localhost:8080/"
        },
        "id": "eNS2NF3EinDc",
        "outputId": "dc4fce55-9e7e-483b-a7fc-20f76cb7ed50"
      },
      "source": [
        "from google.colab import drive\n",
        "drive.mount('/content/drive')"
      ],
      "execution_count": null,
      "outputs": [
        {
          "output_type": "stream",
          "text": [
            "Drive already mounted at /content/drive; to attempt to forcibly remount, call drive.mount(\"/content/drive\", force_remount=True).\n"
          ],
          "name": "stdout"
        }
      ]
    },
    {
      "cell_type": "code",
      "metadata": {
        "id": "8LHpHskqinH1"
      },
      "source": [
        "import pandas as pd\n",
        "import numpy as np\n",
        "\n",
        "\n",
        "\n",
        "from warnings import filterwarnings\n",
        "filterwarnings('ignore')"
      ],
      "execution_count": null,
      "outputs": []
    },
    {
      "cell_type": "code",
      "metadata": {
        "id": "zWrqzFmBinKD"
      },
      "source": [
        "first_data=pd.read_csv('/content/drive/MyDrive/Colab_projects/VeriÖnİşleme/water_potability.csv')"
      ],
      "execution_count": null,
      "outputs": []
    },
    {
      "cell_type": "markdown",
      "metadata": {
        "id": "HKcoBx3Kxsh2"
      },
      "source": [
        "* Burada Target değişkenimiz ''POTABILITY''\n"
      ]
    },
    {
      "cell_type": "markdown",
      "metadata": {
        "id": "1F9Kz7tcPOuY"
      },
      "source": [
        "# **Veriye İlk Bakış**"
      ]
    },
    {
      "cell_type": "code",
      "metadata": {
        "colab": {
          "base_uri": "https://localhost:8080/",
          "height": 204
        },
        "id": "Xau2zSDKinL3",
        "outputId": "204aee15-a648-4ff0-c8ad-05e8db18111e"
      },
      "source": [
        "first_data.head()"
      ],
      "execution_count": null,
      "outputs": [
        {
          "output_type": "execute_result",
          "data": {
            "text/html": [
              "<div>\n",
              "<style scoped>\n",
              "    .dataframe tbody tr th:only-of-type {\n",
              "        vertical-align: middle;\n",
              "    }\n",
              "\n",
              "    .dataframe tbody tr th {\n",
              "        vertical-align: top;\n",
              "    }\n",
              "\n",
              "    .dataframe thead th {\n",
              "        text-align: right;\n",
              "    }\n",
              "</style>\n",
              "<table border=\"1\" class=\"dataframe\">\n",
              "  <thead>\n",
              "    <tr style=\"text-align: right;\">\n",
              "      <th></th>\n",
              "      <th>ph</th>\n",
              "      <th>Hardness</th>\n",
              "      <th>Solids</th>\n",
              "      <th>Chloramines</th>\n",
              "      <th>Sulfate</th>\n",
              "      <th>Conductivity</th>\n",
              "      <th>Organic_carbon</th>\n",
              "      <th>Trihalomethanes</th>\n",
              "      <th>Turbidity</th>\n",
              "      <th>Potability</th>\n",
              "    </tr>\n",
              "  </thead>\n",
              "  <tbody>\n",
              "    <tr>\n",
              "      <th>0</th>\n",
              "      <td>NaN</td>\n",
              "      <td>204.890455</td>\n",
              "      <td>20791.318981</td>\n",
              "      <td>7.300212</td>\n",
              "      <td>368.516441</td>\n",
              "      <td>564.308654</td>\n",
              "      <td>10.379783</td>\n",
              "      <td>86.990970</td>\n",
              "      <td>2.963135</td>\n",
              "      <td>0</td>\n",
              "    </tr>\n",
              "    <tr>\n",
              "      <th>1</th>\n",
              "      <td>3.716080</td>\n",
              "      <td>129.422921</td>\n",
              "      <td>18630.057858</td>\n",
              "      <td>6.635246</td>\n",
              "      <td>NaN</td>\n",
              "      <td>592.885359</td>\n",
              "      <td>15.180013</td>\n",
              "      <td>56.329076</td>\n",
              "      <td>4.500656</td>\n",
              "      <td>0</td>\n",
              "    </tr>\n",
              "    <tr>\n",
              "      <th>2</th>\n",
              "      <td>8.099124</td>\n",
              "      <td>224.236259</td>\n",
              "      <td>19909.541732</td>\n",
              "      <td>9.275884</td>\n",
              "      <td>NaN</td>\n",
              "      <td>418.606213</td>\n",
              "      <td>16.868637</td>\n",
              "      <td>66.420093</td>\n",
              "      <td>3.055934</td>\n",
              "      <td>0</td>\n",
              "    </tr>\n",
              "    <tr>\n",
              "      <th>3</th>\n",
              "      <td>8.316766</td>\n",
              "      <td>214.373394</td>\n",
              "      <td>22018.417441</td>\n",
              "      <td>8.059332</td>\n",
              "      <td>356.886136</td>\n",
              "      <td>363.266516</td>\n",
              "      <td>18.436524</td>\n",
              "      <td>100.341674</td>\n",
              "      <td>4.628771</td>\n",
              "      <td>0</td>\n",
              "    </tr>\n",
              "    <tr>\n",
              "      <th>4</th>\n",
              "      <td>9.092223</td>\n",
              "      <td>181.101509</td>\n",
              "      <td>17978.986339</td>\n",
              "      <td>6.546600</td>\n",
              "      <td>310.135738</td>\n",
              "      <td>398.410813</td>\n",
              "      <td>11.558279</td>\n",
              "      <td>31.997993</td>\n",
              "      <td>4.075075</td>\n",
              "      <td>0</td>\n",
              "    </tr>\n",
              "  </tbody>\n",
              "</table>\n",
              "</div>"
            ],
            "text/plain": [
              "         ph    Hardness        Solids  ...  Trihalomethanes  Turbidity  Potability\n",
              "0       NaN  204.890455  20791.318981  ...        86.990970   2.963135           0\n",
              "1  3.716080  129.422921  18630.057858  ...        56.329076   4.500656           0\n",
              "2  8.099124  224.236259  19909.541732  ...        66.420093   3.055934           0\n",
              "3  8.316766  214.373394  22018.417441  ...       100.341674   4.628771           0\n",
              "4  9.092223  181.101509  17978.986339  ...        31.997993   4.075075           0\n",
              "\n",
              "[5 rows x 10 columns]"
            ]
          },
          "metadata": {
            "tags": []
          },
          "execution_count": 13
        }
      ]
    },
    {
      "cell_type": "code",
      "metadata": {
        "colab": {
          "base_uri": "https://localhost:8080/"
        },
        "id": "AVQV4yWjzxam",
        "outputId": "23883d0a-9ea0-4089-b8b7-3741db34199f"
      },
      "source": [
        "first_data.info()"
      ],
      "execution_count": null,
      "outputs": [
        {
          "output_type": "stream",
          "text": [
            "<class 'pandas.core.frame.DataFrame'>\n",
            "RangeIndex: 3276 entries, 0 to 3275\n",
            "Data columns (total 10 columns):\n",
            " #   Column           Non-Null Count  Dtype  \n",
            "---  ------           --------------  -----  \n",
            " 0   ph               2785 non-null   float64\n",
            " 1   Hardness         3276 non-null   float64\n",
            " 2   Solids           3276 non-null   float64\n",
            " 3   Chloramines      3276 non-null   float64\n",
            " 4   Sulfate          2495 non-null   float64\n",
            " 5   Conductivity     3276 non-null   float64\n",
            " 6   Organic_carbon   3276 non-null   float64\n",
            " 7   Trihalomethanes  3114 non-null   float64\n",
            " 8   Turbidity        3276 non-null   float64\n",
            " 9   Potability       3276 non-null   int64  \n",
            "dtypes: float64(9), int64(1)\n",
            "memory usage: 256.1 KB\n"
          ],
          "name": "stdout"
        }
      ]
    },
    {
      "cell_type": "code",
      "metadata": {
        "colab": {
          "base_uri": "https://localhost:8080/",
          "height": 297
        },
        "id": "kJrIG4KqinOJ",
        "outputId": "21bb840e-a6f2-4838-bcf7-32caab12eb49"
      },
      "source": [
        "first_data.describe()"
      ],
      "execution_count": null,
      "outputs": [
        {
          "output_type": "execute_result",
          "data": {
            "text/html": [
              "<div>\n",
              "<style scoped>\n",
              "    .dataframe tbody tr th:only-of-type {\n",
              "        vertical-align: middle;\n",
              "    }\n",
              "\n",
              "    .dataframe tbody tr th {\n",
              "        vertical-align: top;\n",
              "    }\n",
              "\n",
              "    .dataframe thead th {\n",
              "        text-align: right;\n",
              "    }\n",
              "</style>\n",
              "<table border=\"1\" class=\"dataframe\">\n",
              "  <thead>\n",
              "    <tr style=\"text-align: right;\">\n",
              "      <th></th>\n",
              "      <th>ph</th>\n",
              "      <th>Hardness</th>\n",
              "      <th>Solids</th>\n",
              "      <th>Chloramines</th>\n",
              "      <th>Sulfate</th>\n",
              "      <th>Conductivity</th>\n",
              "      <th>Organic_carbon</th>\n",
              "      <th>Trihalomethanes</th>\n",
              "      <th>Turbidity</th>\n",
              "      <th>Potability</th>\n",
              "    </tr>\n",
              "  </thead>\n",
              "  <tbody>\n",
              "    <tr>\n",
              "      <th>count</th>\n",
              "      <td>2785.000000</td>\n",
              "      <td>3276.000000</td>\n",
              "      <td>3276.000000</td>\n",
              "      <td>3276.000000</td>\n",
              "      <td>2495.000000</td>\n",
              "      <td>3276.000000</td>\n",
              "      <td>3276.000000</td>\n",
              "      <td>3114.000000</td>\n",
              "      <td>3276.000000</td>\n",
              "      <td>3276.000000</td>\n",
              "    </tr>\n",
              "    <tr>\n",
              "      <th>mean</th>\n",
              "      <td>7.080795</td>\n",
              "      <td>196.369496</td>\n",
              "      <td>22014.092526</td>\n",
              "      <td>7.122277</td>\n",
              "      <td>333.775777</td>\n",
              "      <td>426.205111</td>\n",
              "      <td>14.284970</td>\n",
              "      <td>66.396293</td>\n",
              "      <td>3.966786</td>\n",
              "      <td>0.390110</td>\n",
              "    </tr>\n",
              "    <tr>\n",
              "      <th>std</th>\n",
              "      <td>1.594320</td>\n",
              "      <td>32.879761</td>\n",
              "      <td>8768.570828</td>\n",
              "      <td>1.583085</td>\n",
              "      <td>41.416840</td>\n",
              "      <td>80.824064</td>\n",
              "      <td>3.308162</td>\n",
              "      <td>16.175008</td>\n",
              "      <td>0.780382</td>\n",
              "      <td>0.487849</td>\n",
              "    </tr>\n",
              "    <tr>\n",
              "      <th>min</th>\n",
              "      <td>0.000000</td>\n",
              "      <td>47.432000</td>\n",
              "      <td>320.942611</td>\n",
              "      <td>0.352000</td>\n",
              "      <td>129.000000</td>\n",
              "      <td>181.483754</td>\n",
              "      <td>2.200000</td>\n",
              "      <td>0.738000</td>\n",
              "      <td>1.450000</td>\n",
              "      <td>0.000000</td>\n",
              "    </tr>\n",
              "    <tr>\n",
              "      <th>25%</th>\n",
              "      <td>6.093092</td>\n",
              "      <td>176.850538</td>\n",
              "      <td>15666.690297</td>\n",
              "      <td>6.127421</td>\n",
              "      <td>307.699498</td>\n",
              "      <td>365.734414</td>\n",
              "      <td>12.065801</td>\n",
              "      <td>55.844536</td>\n",
              "      <td>3.439711</td>\n",
              "      <td>0.000000</td>\n",
              "    </tr>\n",
              "    <tr>\n",
              "      <th>50%</th>\n",
              "      <td>7.036752</td>\n",
              "      <td>196.967627</td>\n",
              "      <td>20927.833607</td>\n",
              "      <td>7.130299</td>\n",
              "      <td>333.073546</td>\n",
              "      <td>421.884968</td>\n",
              "      <td>14.218338</td>\n",
              "      <td>66.622485</td>\n",
              "      <td>3.955028</td>\n",
              "      <td>0.000000</td>\n",
              "    </tr>\n",
              "    <tr>\n",
              "      <th>75%</th>\n",
              "      <td>8.062066</td>\n",
              "      <td>216.667456</td>\n",
              "      <td>27332.762127</td>\n",
              "      <td>8.114887</td>\n",
              "      <td>359.950170</td>\n",
              "      <td>481.792304</td>\n",
              "      <td>16.557652</td>\n",
              "      <td>77.337473</td>\n",
              "      <td>4.500320</td>\n",
              "      <td>1.000000</td>\n",
              "    </tr>\n",
              "    <tr>\n",
              "      <th>max</th>\n",
              "      <td>14.000000</td>\n",
              "      <td>323.124000</td>\n",
              "      <td>61227.196008</td>\n",
              "      <td>13.127000</td>\n",
              "      <td>481.030642</td>\n",
              "      <td>753.342620</td>\n",
              "      <td>28.300000</td>\n",
              "      <td>124.000000</td>\n",
              "      <td>6.739000</td>\n",
              "      <td>1.000000</td>\n",
              "    </tr>\n",
              "  </tbody>\n",
              "</table>\n",
              "</div>"
            ],
            "text/plain": [
              "                ph     Hardness  ...    Turbidity   Potability\n",
              "count  2785.000000  3276.000000  ...  3276.000000  3276.000000\n",
              "mean      7.080795   196.369496  ...     3.966786     0.390110\n",
              "std       1.594320    32.879761  ...     0.780382     0.487849\n",
              "min       0.000000    47.432000  ...     1.450000     0.000000\n",
              "25%       6.093092   176.850538  ...     3.439711     0.000000\n",
              "50%       7.036752   196.967627  ...     3.955028     0.000000\n",
              "75%       8.062066   216.667456  ...     4.500320     1.000000\n",
              "max      14.000000   323.124000  ...     6.739000     1.000000\n",
              "\n",
              "[8 rows x 10 columns]"
            ]
          },
          "metadata": {
            "tags": []
          },
          "execution_count": 15
        }
      ]
    },
    {
      "cell_type": "markdown",
      "metadata": {
        "id": "mDPznq5A7oDY"
      },
      "source": [
        "# **Veri setindeki eksik gözlemlerin %'sini incelemek için bir fonksiyon yazalım.**"
      ]
    },
    {
      "cell_type": "code",
      "metadata": {
        "id": "TdY09cXvinVw"
      },
      "source": [
        "def null_pergentage(data):\n",
        "  for i in first_data.columns:\n",
        "    null= first_data[i].isnull().sum()/first_data.shape[0]*100\n",
        "    print(i,'Değişkeninin %',null,'eksik gözlemden oluşmaktadır.')\n",
        "    "
      ],
      "execution_count": null,
      "outputs": []
    },
    {
      "cell_type": "code",
      "metadata": {
        "colab": {
          "base_uri": "https://localhost:8080/"
        },
        "id": "IMaR6stQinXr",
        "outputId": "77e711ea-99ca-4908-8857-6039c533b30c"
      },
      "source": [
        "null_pergentage(first_data)"
      ],
      "execution_count": null,
      "outputs": [
        {
          "output_type": "stream",
          "text": [
            "ph Değişkeninin % 14.987789987789988 eksik gözlemden oluşmaktadır.\n",
            "Hardness Değişkeninin % 0.0 eksik gözlemden oluşmaktadır.\n",
            "Solids Değişkeninin % 0.0 eksik gözlemden oluşmaktadır.\n",
            "Chloramines Değişkeninin % 0.0 eksik gözlemden oluşmaktadır.\n",
            "Sulfate Değişkeninin % 23.84004884004884 eksik gözlemden oluşmaktadır.\n",
            "Conductivity Değişkeninin % 0.0 eksik gözlemden oluşmaktadır.\n",
            "Organic_carbon Değişkeninin % 0.0 eksik gözlemden oluşmaktadır.\n",
            "Trihalomethanes Değişkeninin % 4.945054945054945 eksik gözlemden oluşmaktadır.\n",
            "Turbidity Değişkeninin % 0.0 eksik gözlemden oluşmaktadır.\n",
            "Potability Değişkeninin % 0.0 eksik gözlemden oluşmaktadır.\n"
          ],
          "name": "stdout"
        }
      ]
    },
    {
      "cell_type": "markdown",
      "metadata": {
        "id": "AocvQVUY8SaL"
      },
      "source": [
        "* Veri setindeki incelediğimizde **ph %15** , **Sulfate %24** ve **Trihalomethanes %5** eksik gözlem olduğu söylenir.\n",
        "* **NOT:** Bazı kaynaklara göre verisetinde %15'ten fazla eksik gözlem varsa o özniteliğin silinmesi önerilir ancak veri setini iyi tanımadan ve yeterli özniteliğe sahip olmayan veri setlerinde bu işlem yanlılığa sebep olabilir. "
      ]
    },
    {
      "cell_type": "markdown",
      "metadata": {
        "id": "kTZtMgcc92SJ"
      },
      "source": [
        "# **Eksik Gözlemlerin Görselleştirilmesi**"
      ]
    },
    {
      "cell_type": "code",
      "metadata": {
        "id": "3T5LSUh3inaG"
      },
      "source": [
        "import missingno as msno\n",
        "import matplotlib.pyplot as plt"
      ],
      "execution_count": null,
      "outputs": []
    },
    {
      "cell_type": "markdown",
      "metadata": {
        "id": "v30uIAU5-cCV"
      },
      "source": [
        "*  Bu grafikte siyah ile gösterilen yerler var olan verileri,  beyaz çizgiler ise eksik gözlemleri temsil etmektedir.\n",
        "*  Bazı veri setlerinde rastlantısal olmayan veriler çok net gözükür, bu verilerde beyaz çizgiler(eksik gözlemler) ilişkili olam değişkenlerle aynı yerde olurlar. Yani bu değişkenler aynı satırlarda dolu yine aynı satırlarda eksik olarak gözlenirler.\n",
        "* Bizim datamız açısından incelersek eksik değerlerimizin Trihalomethanes değişkeni açısından rastlantısal olduğunu çok net söyleyebiliriz. Diğer iki değişkenimizinde (ph ve Sulfate) rastlantısal olduğunu söyleyebiliriz ancak Trihalomethanes değişkeni kadar net gözlemlenmediği için biraz daha incelemekte fatda var. "
      ]
    },
    {
      "cell_type": "code",
      "metadata": {
        "colab": {
          "base_uri": "https://localhost:8080/",
          "height": 698
        },
        "id": "GjcVFKt98PSs",
        "outputId": "23ba0111-2ac8-44cc-be28-de6949ee2131"
      },
      "source": [
        "msno.matrix(first_data)\n",
        "plt.show()"
      ],
      "execution_count": null,
      "outputs": [
        {
          "output_type": "display_data",
          "data": {
            "image/png": "[encoded data removed]",
            "text/plain": [
              "<Figure size 1800x720 with 2 Axes>"
            ]
          },
          "metadata": {
            "tags": [],
            "needs_background": "light"
          }
        }
      ]
    },
    {
      "cell_type": "markdown",
      "metadata": {
        "id": "gB_wU66JBWTy"
      },
      "source": [
        "* msno kütüphanesini kullanarak tüm değişkenlerin ne kadar dolu gözleme sahip olduklarını inceleyebiliriz."
      ]
    },
    {
      "cell_type": "code",
      "metadata": {
        "colab": {
          "base_uri": "https://localhost:8080/",
          "height": 733
        },
        "id": "QGdq5ARz8PW4",
        "outputId": "ae622565-2c23-4da6-a9e0-ddf94ff989eb"
      },
      "source": [
        "msno.bar(first_data);"
      ],
      "execution_count": null,
      "outputs": [
        {
          "output_type": "display_data",
          "data": {
            "image/png": "[encoded data removed]",
            "text/plain": [
              "<Figure size 1728x720 with 3 Axes>"
            ]
          },
          "metadata": {
            "tags": [],
            "needs_background": "light"
          }
        }
      ]
    },
    {
      "cell_type": "markdown",
      "metadata": {
        "id": "7t7DzbZDBqAE"
      },
      "source": [
        "# **Eksik Gözlemlerin Rastlantısallığını İnceleme Yöntemleri**"
      ]
    },
    {
      "cell_type": "markdown",
      "metadata": {
        "id": "hk3JKBu0B04p"
      },
      "source": [
        "##  1-) Heatmap kullanarak eksik gözlemlerin birbiriyle olan korelasyonlarına bakılır.\n",
        "* [Korelasyon nedir daha fazla bilgiye sahip olmak için bu yazımı okuyabilirsiniz.](https://kardelenerdem.com/2021/06/09/muhtesem-uclu-varyans-kovaryans-korelasyon/)"
      ]
    },
    {
      "cell_type": "markdown",
      "metadata": {
        "id": "8ZC304dtCcrP"
      },
      "source": [
        "* Yukarıdaki matrix görselinde değişkenlerin büyük ihtimalle rastlantısal olduğunu söylemiştik.\n",
        "* Burada incelediğimizde 3 değişkenin ilişkileri görselde açık renklerle gösterilmiştir. Bu renklerin sağ tarafta bulunan ilişki ölçeğinde hangi değere denk geldiğini kontrol ettiğimizde 0.00 olduğunu görüyoruz. Buradaki sonuçlarda eksik gözlemlerin tamamen rasgele biçimde olduğunu söylüyor. Ancak konunun devamı açısından diğer yöntemlerede bakacağız."
      ]
    },
    {
      "cell_type": "code",
      "metadata": {
        "colab": {
          "base_uri": "https://localhost:8080/",
          "height": 799
        },
        "id": "vFd2eTg38PY8",
        "outputId": "6720e389-053a-4a04-c6e9-ec63af98cf93"
      },
      "source": [
        "msno.heatmap(first_data);"
      ],
      "execution_count": null,
      "outputs": [
        {
          "output_type": "display_data",
          "data": {
            "image/png": "[encoded data removed]",
            "text/plain": [
              "<Figure size 1440x864 with 2 Axes>"
            ]
          },
          "metadata": {
            "tags": [],
            "needs_background": "light"
          }
        }
      ]
    },
    {
      "cell_type": "markdown",
      "metadata": {
        "id": "8OixCW8IEGmO"
      },
      "source": [
        "## 2-) T Testi Yapalım\n",
        "* H0: ph ve Sulfate eksik gözlemlerinin dağılımı bakımından fark yoktur.\n",
        "* H1: ph ve Sulfate eksik gözlemlerinin dağılımı bakımından fark vardır.\n",
        "\n",
        "\n"
      ]
    },
    {
      "cell_type": "code",
      "metadata": {
        "id": "UCYrs_Lq8PbJ"
      },
      "source": [
        "from scipy import stats"
      ],
      "execution_count": null,
      "outputs": []
    },
    {
      "cell_type": "code",
      "metadata": {
        "id": "gpy5BdFV8Pfm"
      },
      "source": [
        "t, p = stats.ttest_ind(first_data.ph, first_data.Sulfate, equal_var=False)"
      ],
      "execution_count": null,
      "outputs": []
    },
    {
      "cell_type": "markdown",
      "metadata": {
        "id": "g4ofMrN0LqZi"
      },
      "source": [
        "* p=0.00 < alfa=0.05 olduğu için H0 hipotezi reddedilir. Yani iki değişkenin dağılımları farklıdır, daha net bir ifade ile değiken eksik gözlemleri birbirinden bağımsızdır.\n",
        "* [Hipotez Testleri hakkında daha fazla bilgiye sahip olmak için bu yazıyı okuyabilirsiniz.](https://kardelenerdem.com/2021/05/12/hipotez-testi-ve-p-value/\n",
        ")"
      ]
    },
    {
      "cell_type": "code",
      "metadata": {
        "colab": {
          "base_uri": "https://localhost:8080/"
        },
        "id": "UIw0cHKJLGQY",
        "outputId": "0ce5008e-2024-4e4d-ff72-0fa470f35b60"
      },
      "source": [
        "stats.ttest_ind(first_data.dropna()['ph'], first_data.dropna()['Sulfate'])"
      ],
      "execution_count": null,
      "outputs": [
        {
          "output_type": "execute_result",
          "data": {
            "text/plain": [
              "Ttest_indResult(statistic=-354.6829060708331, pvalue=0.0)"
            ]
          },
          "metadata": {
            "tags": []
          },
          "execution_count": 6
        }
      ]
    },
    {
      "cell_type": "markdown",
      "metadata": {
        "id": "CsFHzh-oFryf"
      },
      "source": [
        "* Burada eklemek istediğim bir not var. İstatistiksel testler için genelde scipy kütüphanesi kullanılır. Ancak istatistik diline hakim olanlar için farklı bir önerim daha var. İstatistiksel analizleriniz için ***researchpy*** kütüphanesini kullanabilirsiniz.\n",
        "* ***researchpy***  kütüphanesi ile pandas dataFrame üzerinde çalışabilir ve akademik istatistiksel analizlerinizi güvenle gerçekleştirebilirsiniz. Çünkü bu kütüphanenin oluşturulma amacı yalnızca istatistiksel analizler yapmak."
      ]
    },
    {
      "cell_type": "code",
      "metadata": {
        "colab": {
          "base_uri": "https://localhost:8080/"
        },
        "id": "zgQXSWXLFRTR",
        "outputId": "10aa9b97-852d-4c4f-a500-b50162aff195"
      },
      "source": [
        "! pip install researchpy"
      ],
      "execution_count": null,
      "outputs": [
        {
          "output_type": "stream",
          "text": [
            "Collecting researchpy\n",
            "  Downloading https://files.pythonhosted.org/packages/8f/20/e2787cd5eb6d4cfd6bc1f42f5218ca6a2f5552a9fcf021095cd07a4071fd/researchpy-0.3.2-py3-none-any.whl\n",
            "Requirement already satisfied: patsy in /usr/local/lib/python3.7/dist-packages (from researchpy) (0.5.1)\n",
            "Requirement already satisfied: pandas in /usr/local/lib/python3.7/dist-packages (from researchpy) (1.1.5)\n",
            "Requirement already satisfied: scipy in /usr/local/lib/python3.7/dist-packages (from researchpy) (1.4.1)\n",
            "Requirement already satisfied: statsmodels in /usr/local/lib/python3.7/dist-packages (from researchpy) (0.10.2)\n",
            "Requirement already satisfied: numpy in /usr/local/lib/python3.7/dist-packages (from researchpy) (1.19.5)\n",
            "Requirement already satisfied: six in /usr/local/lib/python3.7/dist-packages (from patsy->researchpy) (1.15.0)\n",
            "Requirement already satisfied: python-dateutil>=2.7.3 in /usr/local/lib/python3.7/dist-packages (from pandas->researchpy) (2.8.1)\n",
            "Requirement already satisfied: pytz>=2017.2 in /usr/local/lib/python3.7/dist-packages (from pandas->researchpy) (2018.9)\n",
            "Installing collected packages: researchpy\n",
            "Successfully installed researchpy-0.3.2\n"
          ],
          "name": "stdout"
        }
      ]
    },
    {
      "cell_type": "code",
      "metadata": {
        "id": "U976-l3zEVDi"
      },
      "source": [
        "import researchpy"
      ],
      "execution_count": null,
      "outputs": []
    },
    {
      "cell_type": "code",
      "metadata": {
        "colab": {
          "base_uri": "https://localhost:8080/"
        },
        "id": "ywXd8vwMFLdh",
        "outputId": "0b9b1f2b-ee27-44ef-838f-3b9dd0ec2f3b"
      },
      "source": [
        "researchpy.ttest(first_data['ph'],first_data['Sulfate'])"
      ],
      "execution_count": null,
      "outputs": [
        {
          "output_type": "execute_result",
          "data": {
            "text/plain": [
              "(   Variable       N        Mean          SD        SE   95% Conf.    Interval\n",
              " 0        ph  2785.0    7.080795    1.594320  0.030211    7.021557    7.140032\n",
              " 1   Sulfate  2495.0  333.775777   41.416840  0.829166  332.149851  335.401702\n",
              " 2  combined  5280.0  161.456548  165.585897  2.278801  156.989156  165.923940,\n",
              "              Independent t-test    results\n",
              " 0  Difference (ph - Sulfate) =   -326.6950\n",
              " 1         Degrees of freedom =   5278.0000\n",
              " 2                          t =   -415.9336\n",
              " 3      Two side test p value =      0.0000\n",
              " 4     Difference < 0 p value =      0.0000\n",
              " 5     Difference > 0 p value =      1.0000\n",
              " 6                  Cohen's d =    -11.4655\n",
              " 7                  Hedge's g =    -11.4639\n",
              " 8              Glass's delta =   -204.9119\n",
              " 9                Pearson's r =      0.9851)"
            ]
          },
          "metadata": {
            "tags": []
          },
          "execution_count": 22
        }
      ]
    },
    {
      "cell_type": "markdown",
      "metadata": {
        "id": "nKzG0qb8MT2-"
      },
      "source": [
        "* Yukarıdaki test sonucuna benzer şekilde researchpy kütüphanesi ile ttesti yaptığımızda da p değerinin çok küçük bir değer olduğunu söyleyebiliriz. Bu sonuçtan yola çıkarak H0 hipotezini reddederiz."
      ]
    },
    {
      "cell_type": "markdown",
      "metadata": {
        "id": "Y4z2eZ7IMrcn"
      },
      "source": [
        "## 3-) Ki-Kare Testi Yapalım\n",
        "* H0: ph ve Sulfate eksik gözlemlerinin dağılımı bakımından fark yoktur.\n",
        "* H1: ph ve Sulfate eksik gözlemlerinin dağılımı bakımından fark vardır.\n"
      ]
    },
    {
      "cell_type": "markdown",
      "metadata": {
        "id": "psY0pM0RNAmW"
      },
      "source": [
        "*  Ttestlerinde ulaştığımız sonuç ve ki kare testinde ulaştığımız sonuçlar birbirinin aynısı. p < alfa olduğu için H0 hipotezi reddedilir."
      ]
    },
    {
      "cell_type": "code",
      "metadata": {
        "id": "X5UArpIYLNrw",
        "colab": {
          "base_uri": "https://localhost:8080/"
        },
        "outputId": "db0a2b46-12e3-440c-9d0f-40869e451e3b"
      },
      "source": [
        "stats.chisquare(first_data.dropna()['ph'],first_data.dropna()['Sulfate'])"
      ],
      "execution_count": null,
      "outputs": [
        {
          "output_type": "execute_result",
          "data": {
            "text/plain": [
              "Power_divergenceResult(statistic=641937.8976349377, pvalue=0.0)"
            ]
          },
          "metadata": {
            "tags": []
          },
          "execution_count": 35
        }
      ]
    },
    {
      "cell_type": "markdown",
      "metadata": {
        "id": "azxzrljIPaBz"
      },
      "source": [
        "# **Yöntem 1-) Eksik Gözlemlerin Veriden Silinmesi**\n",
        "* Yukarıda yaptığımız analizlerle eksik gözlem içeren değişkenlerin birbiriyle ilişkisi var mı diye bakmıştık. Heatmap'te de gördüğümüz gibi değişkenlerin ilişkisiz olduğunu belirtmiştik. \n",
        "* Bu aşamaya geçmek için bu analizler bizim için oldukça önemliydi çünkü ilişkili değişkenlerden birini silmemiz bizim veri setimizde yanlılığa ve bilginin karakteristik olarak değişikliğine neden olur.\n",
        "* Burada inceleyeceğimiz iki alt başık var. Bunlardan ilki eksik gözlemleri (satır bazında) silmek, diğeri ise eksik gözlem içeren öz nitelikleri (değişkenleri) veri setinden kaldırmak. "
      ]
    },
    {
      "cell_type": "markdown",
      "metadata": {
        "id": "8YXeQmDnUNHK"
      },
      "source": [
        "## Eksik Verilerin Satır Bazında Silinmesi"
      ]
    },
    {
      "cell_type": "markdown",
      "metadata": {
        "id": "9QlvX5QvZSPI"
      },
      "source": [
        "### En az bir eksik gözlem içeren satırların silinmesi"
      ]
    },
    {
      "cell_type": "code",
      "metadata": {
        "id": "CnFL2vO5NWc2"
      },
      "source": [
        "row_drop= first_data.copy()"
      ],
      "execution_count": null,
      "outputs": []
    },
    {
      "cell_type": "code",
      "metadata": {
        "colab": {
          "base_uri": "https://localhost:8080/"
        },
        "id": "PNe0D-0ONWfR",
        "outputId": "4d80a607-0052-4b9b-d046-d13c9a780595"
      },
      "source": [
        "row_drop.info()"
      ],
      "execution_count": null,
      "outputs": [
        {
          "output_type": "stream",
          "text": [
            "<class 'pandas.core.frame.DataFrame'>\n",
            "RangeIndex: 3276 entries, 0 to 3275\n",
            "Data columns (total 10 columns):\n",
            " #   Column           Non-Null Count  Dtype  \n",
            "---  ------           --------------  -----  \n",
            " 0   ph               2785 non-null   float64\n",
            " 1   Hardness         3276 non-null   float64\n",
            " 2   Solids           3276 non-null   float64\n",
            " 3   Chloramines      3276 non-null   float64\n",
            " 4   Sulfate          2495 non-null   float64\n",
            " 5   Conductivity     3276 non-null   float64\n",
            " 6   Organic_carbon   3276 non-null   float64\n",
            " 7   Trihalomethanes  3114 non-null   float64\n",
            " 8   Turbidity        3276 non-null   float64\n",
            " 9   Potability       3276 non-null   int64  \n",
            "dtypes: float64(9), int64(1)\n",
            "memory usage: 256.1 KB\n"
          ],
          "name": "stdout"
        }
      ]
    },
    {
      "cell_type": "code",
      "metadata": {
        "id": "6NCDW5G7NWg0"
      },
      "source": [
        "#Eksik gözlem içeren değişkenleri yukarıda belirlemiştik yeniden bir bakalım.\n",
        "def null_pergentage_row(data):\n",
        "  for i in row_drop.columns:\n",
        "    null= row_drop[i].isnull().sum()/row_drop.shape[0]*100\n",
        "    print(i,'Değişkeninin %',null,'eksik gözlemden oluşmaktadır.')"
      ],
      "execution_count": null,
      "outputs": []
    },
    {
      "cell_type": "code",
      "metadata": {
        "colab": {
          "base_uri": "https://localhost:8080/"
        },
        "id": "dZDene0SWxVt",
        "outputId": "6bc5c951-ebcf-4ff0-e72e-26e88cff5947"
      },
      "source": [
        "null_pergentage_row(row_drop)"
      ],
      "execution_count": null,
      "outputs": [
        {
          "output_type": "stream",
          "text": [
            "ph Değişkeninin % 14.987789987789988 eksik gözlemden oluşmaktadır.\n",
            "Hardness Değişkeninin % 0.0 eksik gözlemden oluşmaktadır.\n",
            "Solids Değişkeninin % 0.0 eksik gözlemden oluşmaktadır.\n",
            "Chloramines Değişkeninin % 0.0 eksik gözlemden oluşmaktadır.\n",
            "Sulfate Değişkeninin % 23.84004884004884 eksik gözlemden oluşmaktadır.\n",
            "Conductivity Değişkeninin % 0.0 eksik gözlemden oluşmaktadır.\n",
            "Organic_carbon Değişkeninin % 0.0 eksik gözlemden oluşmaktadır.\n",
            "Trihalomethanes Değişkeninin % 4.945054945054945 eksik gözlemden oluşmaktadır.\n",
            "Turbidity Değişkeninin % 0.0 eksik gözlemden oluşmaktadır.\n",
            "Potability Değişkeninin % 0.0 eksik gözlemden oluşmaktadır.\n"
          ],
          "name": "stdout"
        }
      ]
    },
    {
      "cell_type": "markdown",
      "metadata": {
        "id": "xx_bAOenXHlw"
      },
      "source": [
        "* ***Null değerleri drop etmeden önce toplam gözlem sayımız 3276'ydı. Satır bazında en az bir null olsa bile silme işlemi gerçekleştirdikten sonra veri setimizde artık eksik gözlemimiz kalmadı. Ancak diğer özellikler bakımından bilgi kaybına uğradık. İşlemden sonra toplamda veri setimizin %38'ini (1265 veri) kaybetmiş olduk.***\n"
      ]
    },
    {
      "cell_type": "code",
      "metadata": {
        "id": "yOomiS6wNWi-"
      },
      "source": [
        "row_drop= row_drop.dropna()"
      ],
      "execution_count": null,
      "outputs": []
    },
    {
      "cell_type": "code",
      "metadata": {
        "colab": {
          "base_uri": "https://localhost:8080/",
          "height": 204
        },
        "id": "LAACvoEtNWlL",
        "outputId": "00418320-b6d6-4017-83dd-3b2f3d0d61d5"
      },
      "source": [
        "row_drop.head()"
      ],
      "execution_count": null,
      "outputs": [
        {
          "output_type": "execute_result",
          "data": {
            "text/html": [
              "<div>\n",
              "<style scoped>\n",
              "    .dataframe tbody tr th:only-of-type {\n",
              "        vertical-align: middle;\n",
              "    }\n",
              "\n",
              "    .dataframe tbody tr th {\n",
              "        vertical-align: top;\n",
              "    }\n",
              "\n",
              "    .dataframe thead th {\n",
              "        text-align: right;\n",
              "    }\n",
              "</style>\n",
              "<table border=\"1\" class=\"dataframe\">\n",
              "  <thead>\n",
              "    <tr style=\"text-align: right;\">\n",
              "      <th></th>\n",
              "      <th>ph</th>\n",
              "      <th>Hardness</th>\n",
              "      <th>Solids</th>\n",
              "      <th>Chloramines</th>\n",
              "      <th>Sulfate</th>\n",
              "      <th>Conductivity</th>\n",
              "      <th>Organic_carbon</th>\n",
              "      <th>Trihalomethanes</th>\n",
              "      <th>Turbidity</th>\n",
              "      <th>Potability</th>\n",
              "    </tr>\n",
              "  </thead>\n",
              "  <tbody>\n",
              "    <tr>\n",
              "      <th>3</th>\n",
              "      <td>8.316766</td>\n",
              "      <td>214.373394</td>\n",
              "      <td>22018.417441</td>\n",
              "      <td>8.059332</td>\n",
              "      <td>356.886136</td>\n",
              "      <td>363.266516</td>\n",
              "      <td>18.436524</td>\n",
              "      <td>100.341674</td>\n",
              "      <td>4.628771</td>\n",
              "      <td>0</td>\n",
              "    </tr>\n",
              "    <tr>\n",
              "      <th>4</th>\n",
              "      <td>9.092223</td>\n",
              "      <td>181.101509</td>\n",
              "      <td>17978.986339</td>\n",
              "      <td>6.546600</td>\n",
              "      <td>310.135738</td>\n",
              "      <td>398.410813</td>\n",
              "      <td>11.558279</td>\n",
              "      <td>31.997993</td>\n",
              "      <td>4.075075</td>\n",
              "      <td>0</td>\n",
              "    </tr>\n",
              "    <tr>\n",
              "      <th>5</th>\n",
              "      <td>5.584087</td>\n",
              "      <td>188.313324</td>\n",
              "      <td>28748.687739</td>\n",
              "      <td>7.544869</td>\n",
              "      <td>326.678363</td>\n",
              "      <td>280.467916</td>\n",
              "      <td>8.399735</td>\n",
              "      <td>54.917862</td>\n",
              "      <td>2.559708</td>\n",
              "      <td>0</td>\n",
              "    </tr>\n",
              "    <tr>\n",
              "      <th>6</th>\n",
              "      <td>10.223862</td>\n",
              "      <td>248.071735</td>\n",
              "      <td>28749.716544</td>\n",
              "      <td>7.513408</td>\n",
              "      <td>393.663396</td>\n",
              "      <td>283.651634</td>\n",
              "      <td>13.789695</td>\n",
              "      <td>84.603556</td>\n",
              "      <td>2.672989</td>\n",
              "      <td>0</td>\n",
              "    </tr>\n",
              "    <tr>\n",
              "      <th>7</th>\n",
              "      <td>8.635849</td>\n",
              "      <td>203.361523</td>\n",
              "      <td>13672.091764</td>\n",
              "      <td>4.563009</td>\n",
              "      <td>303.309771</td>\n",
              "      <td>474.607645</td>\n",
              "      <td>12.363817</td>\n",
              "      <td>62.798309</td>\n",
              "      <td>4.401425</td>\n",
              "      <td>0</td>\n",
              "    </tr>\n",
              "  </tbody>\n",
              "</table>\n",
              "</div>"
            ],
            "text/plain": [
              "          ph    Hardness        Solids  ...  Trihalomethanes  Turbidity  Potability\n",
              "3   8.316766  214.373394  22018.417441  ...       100.341674   4.628771           0\n",
              "4   9.092223  181.101509  17978.986339  ...        31.997993   4.075075           0\n",
              "5   5.584087  188.313324  28748.687739  ...        54.917862   2.559708           0\n",
              "6  10.223862  248.071735  28749.716544  ...        84.603556   2.672989           0\n",
              "7   8.635849  203.361523  13672.091764  ...        62.798309   4.401425           0\n",
              "\n",
              "[5 rows x 10 columns]"
            ]
          },
          "metadata": {
            "tags": []
          },
          "execution_count": 53
        }
      ]
    },
    {
      "cell_type": "code",
      "metadata": {
        "colab": {
          "base_uri": "https://localhost:8080/"
        },
        "id": "RjM1bCkXVyak",
        "outputId": "6c672338-6661-4b8c-97a2-a57d99d4654d"
      },
      "source": [
        "row_drop.info()"
      ],
      "execution_count": null,
      "outputs": [
        {
          "output_type": "stream",
          "text": [
            "<class 'pandas.core.frame.DataFrame'>\n",
            "Int64Index: 2011 entries, 3 to 3271\n",
            "Data columns (total 10 columns):\n",
            " #   Column           Non-Null Count  Dtype  \n",
            "---  ------           --------------  -----  \n",
            " 0   ph               2011 non-null   float64\n",
            " 1   Hardness         2011 non-null   float64\n",
            " 2   Solids           2011 non-null   float64\n",
            " 3   Chloramines      2011 non-null   float64\n",
            " 4   Sulfate          2011 non-null   float64\n",
            " 5   Conductivity     2011 non-null   float64\n",
            " 6   Organic_carbon   2011 non-null   float64\n",
            " 7   Trihalomethanes  2011 non-null   float64\n",
            " 8   Turbidity        2011 non-null   float64\n",
            " 9   Potability       2011 non-null   int64  \n",
            "dtypes: float64(9), int64(1)\n",
            "memory usage: 172.8 KB\n"
          ],
          "name": "stdout"
        }
      ]
    },
    {
      "cell_type": "code",
      "metadata": {
        "colab": {
          "base_uri": "https://localhost:8080/"
        },
        "id": "oNItCxT0VljO",
        "outputId": "2c992953-0495-4d95-fe3b-8148b39c35d9"
      },
      "source": [
        "null_pergentage_row(row_drop)"
      ],
      "execution_count": null,
      "outputs": [
        {
          "output_type": "stream",
          "text": [
            "ph Değişkeninin % 0.0 eksik gözlemden oluşmaktadır.\n",
            "Hardness Değişkeninin % 0.0 eksik gözlemden oluşmaktadır.\n",
            "Solids Değişkeninin % 0.0 eksik gözlemden oluşmaktadır.\n",
            "Chloramines Değişkeninin % 0.0 eksik gözlemden oluşmaktadır.\n",
            "Sulfate Değişkeninin % 0.0 eksik gözlemden oluşmaktadır.\n",
            "Conductivity Değişkeninin % 0.0 eksik gözlemden oluşmaktadır.\n",
            "Organic_carbon Değişkeninin % 0.0 eksik gözlemden oluşmaktadır.\n",
            "Trihalomethanes Değişkeninin % 0.0 eksik gözlemden oluşmaktadır.\n",
            "Turbidity Değişkeninin % 0.0 eksik gözlemden oluşmaktadır.\n",
            "Potability Değişkeninin % 0.0 eksik gözlemden oluşmaktadır.\n"
          ],
          "name": "stdout"
        }
      ]
    },
    {
      "cell_type": "markdown",
      "metadata": {
        "id": "mO5Uz6RkZgfx"
      },
      "source": [
        "### Satır bazında silme işlemi yaparken tresh değerinin belirlenmesi\n"
      ]
    },
    {
      "cell_type": "code",
      "metadata": {
        "id": "YBgTr1zZVnUi"
      },
      "source": [
        "row_tresh= first_data.copy()"
      ],
      "execution_count": null,
      "outputs": []
    },
    {
      "cell_type": "code",
      "metadata": {
        "colab": {
          "base_uri": "https://localhost:8080/"
        },
        "id": "GPzGKcNvZtDL",
        "outputId": "be573605-bc1a-4d24-f3fa-69a47212111a"
      },
      "source": [
        "row_tresh.info()"
      ],
      "execution_count": null,
      "outputs": [
        {
          "output_type": "stream",
          "text": [
            "<class 'pandas.core.frame.DataFrame'>\n",
            "RangeIndex: 3276 entries, 0 to 3275\n",
            "Data columns (total 10 columns):\n",
            " #   Column           Non-Null Count  Dtype  \n",
            "---  ------           --------------  -----  \n",
            " 0   ph               2785 non-null   float64\n",
            " 1   Hardness         3276 non-null   float64\n",
            " 2   Solids           3276 non-null   float64\n",
            " 3   Chloramines      3276 non-null   float64\n",
            " 4   Sulfate          2495 non-null   float64\n",
            " 5   Conductivity     3276 non-null   float64\n",
            " 6   Organic_carbon   3276 non-null   float64\n",
            " 7   Trihalomethanes  3114 non-null   float64\n",
            " 8   Turbidity        3276 non-null   float64\n",
            " 9   Potability       3276 non-null   int64  \n",
            "dtypes: float64(9), int64(1)\n",
            "memory usage: 256.1 KB\n"
          ],
          "name": "stdout"
        }
      ]
    },
    {
      "cell_type": "code",
      "metadata": {
        "id": "s2JeZ4nXZf7W"
      },
      "source": [
        "# burada tresh değerini 2 olarak belirledik. Bunun anlamı şu eğer bir satırda en az 2 eksik gözlem varsa sil. Yoksa dursun.\n",
        "row_tresh= row_tresh.dropna(thresh=2)"
      ],
      "execution_count": null,
      "outputs": []
    },
    {
      "cell_type": "markdown",
      "metadata": {
        "id": "qcdGAtltaU5Y"
      },
      "source": [
        "* Bizim veri setimiz üzerinde bu işlemin bir etkisi olmadı demek ki değişkenler için eksik gözlemler aynı satırda yer almıyor. \n",
        "* Bu yöntem daha çok ilişkili verileri silmek istediğimizde kullanabilir. İlişkili verilerde (kredi kullandınız mı , kredi taksit ücretiniz nedir gibi) eksik gözlemler aynı satırda olacağı için değerlendirilebilir. Ancak kesinlikle çok dikkat edilerek kullanılmalı. "
      ]
    },
    {
      "cell_type": "code",
      "metadata": {
        "colab": {
          "base_uri": "https://localhost:8080/"
        },
        "id": "IQxmSKHqZf9a",
        "outputId": "c19a65a9-68bd-40e4-c027-b248a7cbf3ca"
      },
      "source": [
        "row_tresh.info()"
      ],
      "execution_count": null,
      "outputs": [
        {
          "output_type": "stream",
          "text": [
            "<class 'pandas.core.frame.DataFrame'>\n",
            "Int64Index: 3276 entries, 0 to 3275\n",
            "Data columns (total 10 columns):\n",
            " #   Column           Non-Null Count  Dtype  \n",
            "---  ------           --------------  -----  \n",
            " 0   ph               2785 non-null   float64\n",
            " 1   Hardness         3276 non-null   float64\n",
            " 2   Solids           3276 non-null   float64\n",
            " 3   Chloramines      3276 non-null   float64\n",
            " 4   Sulfate          2495 non-null   float64\n",
            " 5   Conductivity     3276 non-null   float64\n",
            " 6   Organic_carbon   3276 non-null   float64\n",
            " 7   Trihalomethanes  3114 non-null   float64\n",
            " 8   Turbidity        3276 non-null   float64\n",
            " 9   Potability       3276 non-null   int64  \n",
            "dtypes: float64(9), int64(1)\n",
            "memory usage: 281.5 KB\n"
          ],
          "name": "stdout"
        }
      ]
    },
    {
      "cell_type": "markdown",
      "metadata": {
        "id": "ptzdcXIPbP3m"
      },
      "source": [
        "## Eksik Veriilerin Öznitelik (değişken) Bazında Silinmesi.\n",
        "* Bizim verisetimizi incelediğimizde Sulfate değişkeninin neredeyse %25'inin eksik gözlemden oluştuğunu görmüştük. Bu tarz verilerde modele sokacağımız yeteri miktarda öznitelik varsa %20 den fazlası eksik değerden oluşan nitelik sütununu silmek doğru bir hamle olabilir. Böylelikle gözlem sayısı açısından bir kayıba uğramamış oluruz."
      ]
    },
    {
      "cell_type": "markdown",
      "metadata": {
        "id": "92OSdhzVcaZn"
      },
      "source": [
        "### Sütunda en az bir eksik gözlem olduğunda o sütunun tamamen silinmesi.\n",
        "* Veri setimizde anlamlı eksik gözleme sahip olan yalnız 3 değişkenimiz vardı. Bu yöntem bizim için bir olumsuzluk oluşturmadı ancak her veri seti için aynı şeyi söyleyemeyiz. Örneğin bir veri seti düşünelim 6 değişkeni olsun bu 6 değişkenin 2'sinin %20 ve %30 u eksik gözlemden oluşsun ancak diğer 4 değişkende de maksimum 5 olacak şekilde eksik veriler olsun. Böyle bir veri setine bu yöntemi uyguladığımızda işlem sonucunda elimizde kullanacağımız hiç değişken kalmayacaktır."
      ]
    },
    {
      "cell_type": "code",
      "metadata": {
        "id": "TlAQOV89Zf-6"
      },
      "source": [
        "column_drop= first_data.copy()"
      ],
      "execution_count": null,
      "outputs": []
    },
    {
      "cell_type": "code",
      "metadata": {
        "colab": {
          "base_uri": "https://localhost:8080/"
        },
        "id": "QDjgjlssZgA5",
        "outputId": "7d6909d0-3171-49e5-825c-3a7f3dcd6143"
      },
      "source": [
        "column_drop.info()"
      ],
      "execution_count": null,
      "outputs": [
        {
          "output_type": "stream",
          "text": [
            "<class 'pandas.core.frame.DataFrame'>\n",
            "RangeIndex: 3276 entries, 0 to 3275\n",
            "Data columns (total 10 columns):\n",
            " #   Column           Non-Null Count  Dtype  \n",
            "---  ------           --------------  -----  \n",
            " 0   ph               2785 non-null   float64\n",
            " 1   Hardness         3276 non-null   float64\n",
            " 2   Solids           3276 non-null   float64\n",
            " 3   Chloramines      3276 non-null   float64\n",
            " 4   Sulfate          2495 non-null   float64\n",
            " 5   Conductivity     3276 non-null   float64\n",
            " 6   Organic_carbon   3276 non-null   float64\n",
            " 7   Trihalomethanes  3114 non-null   float64\n",
            " 8   Turbidity        3276 non-null   float64\n",
            " 9   Potability       3276 non-null   int64  \n",
            "dtypes: float64(9), int64(1)\n",
            "memory usage: 256.1 KB\n"
          ],
          "name": "stdout"
        }
      ]
    },
    {
      "cell_type": "code",
      "metadata": {
        "id": "Tc6alchdcF37"
      },
      "source": [
        "column_drop=column_drop.dropna(axis='columns')"
      ],
      "execution_count": null,
      "outputs": []
    },
    {
      "cell_type": "code",
      "metadata": {
        "colab": {
          "base_uri": "https://localhost:8080/"
        },
        "id": "J85BZqSQcn2G",
        "outputId": "35390eb8-27ca-4529-9177-0003d2e5e817"
      },
      "source": [
        "column_drop.info()"
      ],
      "execution_count": null,
      "outputs": [
        {
          "output_type": "stream",
          "text": [
            "<class 'pandas.core.frame.DataFrame'>\n",
            "RangeIndex: 3276 entries, 0 to 3275\n",
            "Data columns (total 7 columns):\n",
            " #   Column          Non-Null Count  Dtype  \n",
            "---  ------          --------------  -----  \n",
            " 0   Hardness        3276 non-null   float64\n",
            " 1   Solids          3276 non-null   float64\n",
            " 2   Chloramines     3276 non-null   float64\n",
            " 3   Conductivity    3276 non-null   float64\n",
            " 4   Organic_carbon  3276 non-null   float64\n",
            " 5   Turbidity       3276 non-null   float64\n",
            " 6   Potability      3276 non-null   int64  \n",
            "dtypes: float64(6), int64(1)\n",
            "memory usage: 179.3 KB\n"
          ],
          "name": "stdout"
        }
      ]
    },
    {
      "cell_type": "markdown",
      "metadata": {
        "id": "Zk_2uvT_dsh3"
      },
      "source": [
        "### Belirlediğimiz sütunların silinmesi\n",
        "* Bu yöntemde gördüğümüz gibi gözlem kaybımız olmadı yalnızca eksik gözlem içeren belirttiğimiz değişkenleri veri setimizden kaldırmış olduk.\n"
      ]
    },
    {
      "cell_type": "code",
      "metadata": {
        "id": "0GcYRWihcpLd"
      },
      "source": [
        "column_drop_2= first_data.copy()"
      ],
      "execution_count": null,
      "outputs": []
    },
    {
      "cell_type": "code",
      "metadata": {
        "colab": {
          "base_uri": "https://localhost:8080/"
        },
        "id": "LUPzi2jcd0Kd",
        "outputId": "40f0c160-7a4a-4d52-cee3-b596ac475ad9"
      },
      "source": [
        "column_drop_2.info()"
      ],
      "execution_count": null,
      "outputs": [
        {
          "output_type": "stream",
          "text": [
            "<class 'pandas.core.frame.DataFrame'>\n",
            "RangeIndex: 3276 entries, 0 to 3275\n",
            "Data columns (total 10 columns):\n",
            " #   Column           Non-Null Count  Dtype  \n",
            "---  ------           --------------  -----  \n",
            " 0   ph               2785 non-null   float64\n",
            " 1   Hardness         3276 non-null   float64\n",
            " 2   Solids           3276 non-null   float64\n",
            " 3   Chloramines      3276 non-null   float64\n",
            " 4   Sulfate          2495 non-null   float64\n",
            " 5   Conductivity     3276 non-null   float64\n",
            " 6   Organic_carbon   3276 non-null   float64\n",
            " 7   Trihalomethanes  3114 non-null   float64\n",
            " 8   Turbidity        3276 non-null   float64\n",
            " 9   Potability       3276 non-null   int64  \n",
            "dtypes: float64(9), int64(1)\n",
            "memory usage: 256.1 KB\n"
          ],
          "name": "stdout"
        }
      ]
    },
    {
      "cell_type": "code",
      "metadata": {
        "id": "NA2rAT6gd0uC"
      },
      "source": [
        "\n",
        "column_drop_2=column_drop_2.drop(['ph','Sulfate','Trihalomethanes'], axis=1)"
      ],
      "execution_count": null,
      "outputs": []
    },
    {
      "cell_type": "code",
      "metadata": {
        "colab": {
          "base_uri": "https://localhost:8080/"
        },
        "id": "7IQm3wTbd0v8",
        "outputId": "55b5b913-9e8f-442d-e614-ded853956a1b"
      },
      "source": [
        "column_drop_2.info()"
      ],
      "execution_count": null,
      "outputs": [
        {
          "output_type": "stream",
          "text": [
            "<class 'pandas.core.frame.DataFrame'>\n",
            "RangeIndex: 3276 entries, 0 to 3275\n",
            "Data columns (total 7 columns):\n",
            " #   Column          Non-Null Count  Dtype  \n",
            "---  ------          --------------  -----  \n",
            " 0   Hardness        3276 non-null   float64\n",
            " 1   Solids          3276 non-null   float64\n",
            " 2   Chloramines     3276 non-null   float64\n",
            " 3   Conductivity    3276 non-null   float64\n",
            " 4   Organic_carbon  3276 non-null   float64\n",
            " 5   Turbidity       3276 non-null   float64\n",
            " 6   Potability      3276 non-null   int64  \n",
            "dtypes: float64(6), int64(1)\n",
            "memory usage: 179.3 KB\n"
          ],
          "name": "stdout"
        }
      ]
    },
    {
      "cell_type": "markdown",
      "metadata": {
        "id": "a8JQNCybgZDS"
      },
      "source": [
        "# **Yöntem 2-) Eksik Gözlemlerin Doldurulması**\n",
        "* Burada inceleyeceğimiz farklı yöntemler bulunmaktadır. Bunları şöyle sıralayabiliriz.\n",
        "** Değer Atama Yöntemleri (Mod, Medyan, Ortalama Değer Atama, En Benzer Birime Atama (Hot Deck))\n",
        "** Tahmine Dayalı Atama Yöntemleri ( EM, Makine Öğrenmesi, Tahminide Dayalı Atama)"
      ]
    },
    {
      "cell_type": "markdown",
      "metadata": {
        "id": "2O146KxJNpa9"
      },
      "source": [
        "## Değer Atama Yöntemleri"
      ]
    },
    {
      "cell_type": "markdown",
      "metadata": {
        "id": "5vWMh-V4Ns0P"
      },
      "source": [
        "### Ortalama Değer Atama\n",
        "* Bu yöntemle değişkenin ortalama değeri bulunur ve tüm eksik değerler ortalama değer ile doldurulur.\n",
        "* Aşağıdaki örnekte gördüğümüz gibi ph değişkeninin ilk gözlemi eksikti fillna işleminden sonra eksik gözlemin değeri artık ortalama olan 7.08 değeri oldu."
      ]
    },
    {
      "cell_type": "code",
      "metadata": {
        "id": "8PMgYFcad0zx"
      },
      "source": [
        "mean_fill= first_data.copy()"
      ],
      "execution_count": null,
      "outputs": []
    },
    {
      "cell_type": "code",
      "metadata": {
        "colab": {
          "base_uri": "https://localhost:8080/"
        },
        "id": "e0R2Q8Y9d1Y5",
        "outputId": "8a045901-2a4e-4f1d-ce17-b6dc2c351b2e"
      },
      "source": [
        "mean_fill.info()"
      ],
      "execution_count": null,
      "outputs": [
        {
          "output_type": "stream",
          "text": [
            "<class 'pandas.core.frame.DataFrame'>\n",
            "RangeIndex: 3276 entries, 0 to 3275\n",
            "Data columns (total 10 columns):\n",
            " #   Column           Non-Null Count  Dtype  \n",
            "---  ------           --------------  -----  \n",
            " 0   ph               2785 non-null   float64\n",
            " 1   Hardness         3276 non-null   float64\n",
            " 2   Solids           3276 non-null   float64\n",
            " 3   Chloramines      3276 non-null   float64\n",
            " 4   Sulfate          2495 non-null   float64\n",
            " 5   Conductivity     3276 non-null   float64\n",
            " 6   Organic_carbon   3276 non-null   float64\n",
            " 7   Trihalomethanes  3114 non-null   float64\n",
            " 8   Turbidity        3276 non-null   float64\n",
            " 9   Potability       3276 non-null   int64  \n",
            "dtypes: float64(9), int64(1)\n",
            "memory usage: 256.1 KB\n"
          ],
          "name": "stdout"
        }
      ]
    },
    {
      "cell_type": "code",
      "metadata": {
        "colab": {
          "base_uri": "https://localhost:8080/"
        },
        "id": "tA8nWY5lON9y",
        "outputId": "fbb83136-5337-4399-96ea-cbc36c040f7a"
      },
      "source": [
        "mean_fill['ph']"
      ],
      "execution_count": null,
      "outputs": [
        {
          "output_type": "execute_result",
          "data": {
            "text/plain": [
              "0            NaN\n",
              "1       3.716080\n",
              "2       8.099124\n",
              "3       8.316766\n",
              "4       9.092223\n",
              "          ...   \n",
              "3271    4.668102\n",
              "3272    7.808856\n",
              "3273    9.419510\n",
              "3274    5.126763\n",
              "3275    7.874671\n",
              "Name: ph, Length: 3276, dtype: float64"
            ]
          },
          "metadata": {
            "tags": []
          },
          "execution_count": 7
        }
      ]
    },
    {
      "cell_type": "code",
      "metadata": {
        "colab": {
          "base_uri": "https://localhost:8080/"
        },
        "id": "tZPhQsg-d1bA",
        "outputId": "65363a0b-62d6-4a92-94ff-971780e6e645"
      },
      "source": [
        "mean_fill['ph'].mean()"
      ],
      "execution_count": null,
      "outputs": [
        {
          "output_type": "execute_result",
          "data": {
            "text/plain": [
              "7.080794504276821"
            ]
          },
          "metadata": {
            "tags": []
          },
          "execution_count": 6
        }
      ]
    },
    {
      "cell_type": "code",
      "metadata": {
        "id": "9xCTMN2fOL-3"
      },
      "source": [
        "mean_fill['ph']=mean_fill['ph'].fillna(mean_fill['ph'].mean())"
      ],
      "execution_count": null,
      "outputs": []
    },
    {
      "cell_type": "code",
      "metadata": {
        "colab": {
          "base_uri": "https://localhost:8080/"
        },
        "id": "nEpwDkbNOnE6",
        "outputId": "5a4cf50e-6211-4ed9-85af-a3ad52832db9"
      },
      "source": [
        "mean_fill['ph']"
      ],
      "execution_count": null,
      "outputs": [
        {
          "output_type": "execute_result",
          "data": {
            "text/plain": [
              "0       7.080795\n",
              "1       3.716080\n",
              "2       8.099124\n",
              "3       8.316766\n",
              "4       9.092223\n",
              "          ...   \n",
              "3271    4.668102\n",
              "3272    7.808856\n",
              "3273    9.419510\n",
              "3274    5.126763\n",
              "3275    7.874671\n",
              "Name: ph, Length: 3276, dtype: float64"
            ]
          },
          "metadata": {
            "tags": []
          },
          "execution_count": 12
        }
      ]
    },
    {
      "cell_type": "code",
      "metadata": {
        "colab": {
          "base_uri": "https://localhost:8080/"
        },
        "id": "3ZKLtt1YOSZq",
        "outputId": "9500138b-2474-42bc-9d4b-cad6fb592354"
      },
      "source": [
        "mean_fill.info()"
      ],
      "execution_count": null,
      "outputs": [
        {
          "output_type": "stream",
          "text": [
            "<class 'pandas.core.frame.DataFrame'>\n",
            "RangeIndex: 3276 entries, 0 to 3275\n",
            "Data columns (total 10 columns):\n",
            " #   Column           Non-Null Count  Dtype  \n",
            "---  ------           --------------  -----  \n",
            " 0   ph               3276 non-null   float64\n",
            " 1   Hardness         3276 non-null   float64\n",
            " 2   Solids           3276 non-null   float64\n",
            " 3   Chloramines      3276 non-null   float64\n",
            " 4   Sulfate          2495 non-null   float64\n",
            " 5   Conductivity     3276 non-null   float64\n",
            " 6   Organic_carbon   3276 non-null   float64\n",
            " 7   Trihalomethanes  3114 non-null   float64\n",
            " 8   Turbidity        3276 non-null   float64\n",
            " 9   Potability       3276 non-null   int64  \n",
            "dtypes: float64(9), int64(1)\n",
            "memory usage: 256.1 KB\n"
          ],
          "name": "stdout"
        }
      ]
    },
    {
      "cell_type": "markdown",
      "metadata": {
        "id": "5h8ihjRmPMwp"
      },
      "source": [
        "* ***Tüm değişkenlerin eksik değerlerini aynı anda doldurmak için aşağıdaki kodu kullanabiliriz.***"
      ]
    },
    {
      "cell_type": "code",
      "metadata": {
        "colab": {
          "base_uri": "https://localhost:8080/"
        },
        "id": "J8ou-GGYOSbb",
        "outputId": "e8b060cb-4dbf-4dc4-a323-57874069a9c7"
      },
      "source": [
        "mean_fill.info()"
      ],
      "execution_count": null,
      "outputs": [
        {
          "output_type": "stream",
          "text": [
            "<class 'pandas.core.frame.DataFrame'>\n",
            "RangeIndex: 3276 entries, 0 to 3275\n",
            "Data columns (total 10 columns):\n",
            " #   Column           Non-Null Count  Dtype  \n",
            "---  ------           --------------  -----  \n",
            " 0   ph               3276 non-null   float64\n",
            " 1   Hardness         3276 non-null   float64\n",
            " 2   Solids           3276 non-null   float64\n",
            " 3   Chloramines      3276 non-null   float64\n",
            " 4   Sulfate          2495 non-null   float64\n",
            " 5   Conductivity     3276 non-null   float64\n",
            " 6   Organic_carbon   3276 non-null   float64\n",
            " 7   Trihalomethanes  3114 non-null   float64\n",
            " 8   Turbidity        3276 non-null   float64\n",
            " 9   Potability       3276 non-null   int64  \n",
            "dtypes: float64(9), int64(1)\n",
            "memory usage: 256.1 KB\n"
          ],
          "name": "stdout"
        }
      ]
    },
    {
      "cell_type": "markdown",
      "metadata": {
        "id": "s6UapGqNPqX6"
      },
      "source": [
        "*  Yukarıdaki işlem ile **ph** değişkeninin eksik gözlemlerini doldurmuştuk. Aşağıdaki kod ile **Trihalomethanes** ve **Sulfate** değişkenlerini aynı anda kendi ortalama değerleri ile doldurmuş olduk."
      ]
    },
    {
      "cell_type": "code",
      "metadata": {
        "id": "fWBCUDOOOSd5"
      },
      "source": [
        "mean_fill=mean_fill.apply(lambda x: x.fillna(x.mean()), axis = 0)"
      ],
      "execution_count": null,
      "outputs": []
    },
    {
      "cell_type": "code",
      "metadata": {
        "colab": {
          "base_uri": "https://localhost:8080/"
        },
        "id": "7Xc7VbddOSf9",
        "outputId": "b25806d2-d4c8-430b-b325-78091d87d3c3"
      },
      "source": [
        "mean_fill.info()"
      ],
      "execution_count": null,
      "outputs": [
        {
          "output_type": "stream",
          "text": [
            "<class 'pandas.core.frame.DataFrame'>\n",
            "RangeIndex: 3276 entries, 0 to 3275\n",
            "Data columns (total 10 columns):\n",
            " #   Column           Non-Null Count  Dtype  \n",
            "---  ------           --------------  -----  \n",
            " 0   ph               3276 non-null   float64\n",
            " 1   Hardness         3276 non-null   float64\n",
            " 2   Solids           3276 non-null   float64\n",
            " 3   Chloramines      3276 non-null   float64\n",
            " 4   Sulfate          3276 non-null   float64\n",
            " 5   Conductivity     3276 non-null   float64\n",
            " 6   Organic_carbon   3276 non-null   float64\n",
            " 7   Trihalomethanes  3276 non-null   float64\n",
            " 8   Turbidity        3276 non-null   float64\n",
            " 9   Potability       3276 non-null   int64  \n",
            "dtypes: float64(9), int64(1)\n",
            "memory usage: 256.1 KB\n"
          ],
          "name": "stdout"
        }
      ]
    },
    {
      "cell_type": "markdown",
      "metadata": {
        "id": "xJyGt5_XQfl1"
      },
      "source": [
        "### Medyan Değeri Atama"
      ]
    },
    {
      "cell_type": "code",
      "metadata": {
        "id": "IxFx8m2uOShm"
      },
      "source": [
        "median_fill= first_data.copy()"
      ],
      "execution_count": null,
      "outputs": []
    },
    {
      "cell_type": "code",
      "metadata": {
        "colab": {
          "base_uri": "https://localhost:8080/"
        },
        "id": "WRN_KnBTQWrL",
        "outputId": "2426a412-40d5-434c-b6ac-b499947321c0"
      },
      "source": [
        "median_fill['Sulfate'].median()"
      ],
      "execution_count": null,
      "outputs": [
        {
          "output_type": "execute_result",
          "data": {
            "text/plain": [
              "333.073545745888"
            ]
          },
          "metadata": {
            "tags": []
          },
          "execution_count": 17
        }
      ]
    },
    {
      "cell_type": "code",
      "metadata": {
        "colab": {
          "base_uri": "https://localhost:8080/"
        },
        "id": "roiVOANmQWtY",
        "outputId": "571b8bb9-fa94-4669-8189-99d39d110f7f"
      },
      "source": [
        "median_fill['Sulfate']"
      ],
      "execution_count": null,
      "outputs": [
        {
          "output_type": "execute_result",
          "data": {
            "text/plain": [
              "0       368.516441\n",
              "1              NaN\n",
              "2              NaN\n",
              "3       356.886136\n",
              "4       310.135738\n",
              "           ...    \n",
              "3271    359.948574\n",
              "3272           NaN\n",
              "3273           NaN\n",
              "3274           NaN\n",
              "3275           NaN\n",
              "Name: Sulfate, Length: 3276, dtype: float64"
            ]
          },
          "metadata": {
            "tags": []
          },
          "execution_count": 18
        }
      ]
    },
    {
      "cell_type": "code",
      "metadata": {
        "id": "FEsvQG90QWvh"
      },
      "source": [
        "median_fill['Sulfate']=median_fill['Sulfate'].fillna(median_fill['Sulfate'].median())"
      ],
      "execution_count": null,
      "outputs": []
    },
    {
      "cell_type": "code",
      "metadata": {
        "colab": {
          "base_uri": "https://localhost:8080/"
        },
        "id": "V5-mGhhQQWx1",
        "outputId": "ded63ef2-1525-4341-e817-7431d13dbd4c"
      },
      "source": [
        "median_fill['Sulfate']"
      ],
      "execution_count": null,
      "outputs": [
        {
          "output_type": "execute_result",
          "data": {
            "text/plain": [
              "0       368.516441\n",
              "1       333.073546\n",
              "2       333.073546\n",
              "3       356.886136\n",
              "4       310.135738\n",
              "           ...    \n",
              "3271    359.948574\n",
              "3272    333.073546\n",
              "3273    333.073546\n",
              "3274    333.073546\n",
              "3275    333.073546\n",
              "Name: Sulfate, Length: 3276, dtype: float64"
            ]
          },
          "metadata": {
            "tags": []
          },
          "execution_count": 20
        }
      ]
    },
    {
      "cell_type": "markdown",
      "metadata": {
        "id": "PDXQqtR-Rax9"
      },
      "source": [
        "*  Tüm değişkenleri aynı anda doldurmak için."
      ]
    },
    {
      "cell_type": "code",
      "metadata": {
        "id": "AbsY6khKOSlQ"
      },
      "source": [
        "median_fill=median_fill.apply(lambda x: x.fillna(x.median()), axis = 0)"
      ],
      "execution_count": null,
      "outputs": []
    },
    {
      "cell_type": "code",
      "metadata": {
        "colab": {
          "base_uri": "https://localhost:8080/"
        },
        "id": "DzjT-KYjRHF4",
        "outputId": "cef020b1-3d3d-4a7f-9026-dee716fba719"
      },
      "source": [
        "median_fill.info()"
      ],
      "execution_count": null,
      "outputs": [
        {
          "output_type": "stream",
          "text": [
            "<class 'pandas.core.frame.DataFrame'>\n",
            "RangeIndex: 3276 entries, 0 to 3275\n",
            "Data columns (total 10 columns):\n",
            " #   Column           Non-Null Count  Dtype  \n",
            "---  ------           --------------  -----  \n",
            " 0   ph               3276 non-null   float64\n",
            " 1   Hardness         3276 non-null   float64\n",
            " 2   Solids           3276 non-null   float64\n",
            " 3   Chloramines      3276 non-null   float64\n",
            " 4   Sulfate          3276 non-null   float64\n",
            " 5   Conductivity     3276 non-null   float64\n",
            " 6   Organic_carbon   3276 non-null   float64\n",
            " 7   Trihalomethanes  3276 non-null   float64\n",
            " 8   Turbidity        3276 non-null   float64\n",
            " 9   Potability       3276 non-null   int64  \n",
            "dtypes: float64(9), int64(1)\n",
            "memory usage: 256.1 KB\n"
          ],
          "name": "stdout"
        }
      ]
    },
    {
      "cell_type": "markdown",
      "metadata": {
        "id": "_Ca1r0PzRxkD"
      },
      "source": [
        "### Mod Değeri Atama\n",
        "* Bizim değişken değerlerimiz unique olduğu için bu adımı gerçekleştiremiyorum ancak stats.mode() komutu ile mod değerini bulabilir ve gerekli işlemleri yapabilirsiniz.\n",
        "\n",
        "\n",
        "> **NOT:** Kategorik değişken atamaları içinde mod kullanabilir ve en sık gözlenen kategoriyi eksik değere atayabilirsiniz.\n",
        "\n",
        "\n",
        "\n",
        "\n",
        "* Ph değişkenini kategorik olarak düşünelim ve az çok sınıflarından oluştuğunu varsayalım. Bunun için örnek kod aşağıdaki gibi olacaktır. \n",
        "* **` first_data[\"ph\"].fillna(first_data[\"ph\"].mode()[0]) `**\n",
        "* Burada **`first_data[\"ph\"].mode()[0]`** ile hangi kategoriye denk geldiğini kontrol edebilirsiniz."
      ]
    },
    {
      "cell_type": "markdown",
      "metadata": {
        "id": "_fN_f5cLYnkd"
      },
      "source": [
        "### Hot Deck Değer Atama"
      ]
    },
    {
      "cell_type": "code",
      "metadata": {
        "id": "Lu2b_9PDR7Fh"
      },
      "source": [
        "hot_deck= first_data.copy()"
      ],
      "execution_count": null,
      "outputs": []
    },
    {
      "cell_type": "code",
      "metadata": {
        "colab": {
          "base_uri": "https://localhost:8080/",
          "height": 204
        },
        "id": "YmQlmRNYY5LW",
        "outputId": "bd525f48-ce87-4f45-b351-c3284b68ac9a"
      },
      "source": [
        "hot_deck.head()"
      ],
      "execution_count": null,
      "outputs": [
        {
          "output_type": "execute_result",
          "data": {
            "text/html": [
              "<div>\n",
              "<style scoped>\n",
              "    .dataframe tbody tr th:only-of-type {\n",
              "        vertical-align: middle;\n",
              "    }\n",
              "\n",
              "    .dataframe tbody tr th {\n",
              "        vertical-align: top;\n",
              "    }\n",
              "\n",
              "    .dataframe thead th {\n",
              "        text-align: right;\n",
              "    }\n",
              "</style>\n",
              "<table border=\"1\" class=\"dataframe\">\n",
              "  <thead>\n",
              "    <tr style=\"text-align: right;\">\n",
              "      <th></th>\n",
              "      <th>ph</th>\n",
              "      <th>Hardness</th>\n",
              "      <th>Solids</th>\n",
              "      <th>Chloramines</th>\n",
              "      <th>Sulfate</th>\n",
              "      <th>Conductivity</th>\n",
              "      <th>Organic_carbon</th>\n",
              "      <th>Trihalomethanes</th>\n",
              "      <th>Turbidity</th>\n",
              "      <th>Potability</th>\n",
              "    </tr>\n",
              "  </thead>\n",
              "  <tbody>\n",
              "    <tr>\n",
              "      <th>0</th>\n",
              "      <td>NaN</td>\n",
              "      <td>204.890455</td>\n",
              "      <td>20791.318981</td>\n",
              "      <td>7.300212</td>\n",
              "      <td>368.516441</td>\n",
              "      <td>564.308654</td>\n",
              "      <td>10.379783</td>\n",
              "      <td>86.990970</td>\n",
              "      <td>2.963135</td>\n",
              "      <td>0</td>\n",
              "    </tr>\n",
              "    <tr>\n",
              "      <th>1</th>\n",
              "      <td>3.716080</td>\n",
              "      <td>129.422921</td>\n",
              "      <td>18630.057858</td>\n",
              "      <td>6.635246</td>\n",
              "      <td>NaN</td>\n",
              "      <td>592.885359</td>\n",
              "      <td>15.180013</td>\n",
              "      <td>56.329076</td>\n",
              "      <td>4.500656</td>\n",
              "      <td>0</td>\n",
              "    </tr>\n",
              "    <tr>\n",
              "      <th>2</th>\n",
              "      <td>8.099124</td>\n",
              "      <td>224.236259</td>\n",
              "      <td>19909.541732</td>\n",
              "      <td>9.275884</td>\n",
              "      <td>NaN</td>\n",
              "      <td>418.606213</td>\n",
              "      <td>16.868637</td>\n",
              "      <td>66.420093</td>\n",
              "      <td>3.055934</td>\n",
              "      <td>0</td>\n",
              "    </tr>\n",
              "    <tr>\n",
              "      <th>3</th>\n",
              "      <td>8.316766</td>\n",
              "      <td>214.373394</td>\n",
              "      <td>22018.417441</td>\n",
              "      <td>8.059332</td>\n",
              "      <td>356.886136</td>\n",
              "      <td>363.266516</td>\n",
              "      <td>18.436524</td>\n",
              "      <td>100.341674</td>\n",
              "      <td>4.628771</td>\n",
              "      <td>0</td>\n",
              "    </tr>\n",
              "    <tr>\n",
              "      <th>4</th>\n",
              "      <td>9.092223</td>\n",
              "      <td>181.101509</td>\n",
              "      <td>17978.986339</td>\n",
              "      <td>6.546600</td>\n",
              "      <td>310.135738</td>\n",
              "      <td>398.410813</td>\n",
              "      <td>11.558279</td>\n",
              "      <td>31.997993</td>\n",
              "      <td>4.075075</td>\n",
              "      <td>0</td>\n",
              "    </tr>\n",
              "  </tbody>\n",
              "</table>\n",
              "</div>"
            ],
            "text/plain": [
              "         ph    Hardness        Solids  ...  Trihalomethanes  Turbidity  Potability\n",
              "0       NaN  204.890455  20791.318981  ...        86.990970   2.963135           0\n",
              "1  3.716080  129.422921  18630.057858  ...        56.329076   4.500656           0\n",
              "2  8.099124  224.236259  19909.541732  ...        66.420093   3.055934           0\n",
              "3  8.316766  214.373394  22018.417441  ...       100.341674   4.628771           0\n",
              "4  9.092223  181.101509  17978.986339  ...        31.997993   4.075075           0\n",
              "\n",
              "[5 rows x 10 columns]"
            ]
          },
          "metadata": {
            "tags": []
          },
          "execution_count": 31
        }
      ]
    },
    {
      "cell_type": "code",
      "metadata": {
        "id": "LmYcH6-bR7HU"
      },
      "source": [
        "hot_deck.fillna(method='ffill', inplace=True)"
      ],
      "execution_count": null,
      "outputs": []
    },
    {
      "cell_type": "code",
      "metadata": {
        "colab": {
          "base_uri": "https://localhost:8080/",
          "height": 419
        },
        "id": "hxAoVykDR7Lv",
        "outputId": "0c9d7d4a-ff26-43d7-cda3-86a8c3091278"
      },
      "source": [
        "hot_deck"
      ],
      "execution_count": null,
      "outputs": [
        {
          "output_type": "execute_result",
          "data": {
            "text/html": [
              "<div>\n",
              "<style scoped>\n",
              "    .dataframe tbody tr th:only-of-type {\n",
              "        vertical-align: middle;\n",
              "    }\n",
              "\n",
              "    .dataframe tbody tr th {\n",
              "        vertical-align: top;\n",
              "    }\n",
              "\n",
              "    .dataframe thead th {\n",
              "        text-align: right;\n",
              "    }\n",
              "</style>\n",
              "<table border=\"1\" class=\"dataframe\">\n",
              "  <thead>\n",
              "    <tr style=\"text-align: right;\">\n",
              "      <th></th>\n",
              "      <th>ph</th>\n",
              "      <th>Hardness</th>\n",
              "      <th>Solids</th>\n",
              "      <th>Chloramines</th>\n",
              "      <th>Sulfate</th>\n",
              "      <th>Conductivity</th>\n",
              "      <th>Organic_carbon</th>\n",
              "      <th>Trihalomethanes</th>\n",
              "      <th>Turbidity</th>\n",
              "      <th>Potability</th>\n",
              "    </tr>\n",
              "  </thead>\n",
              "  <tbody>\n",
              "    <tr>\n",
              "      <th>0</th>\n",
              "      <td>NaN</td>\n",
              "      <td>204.890455</td>\n",
              "      <td>20791.318981</td>\n",
              "      <td>7.300212</td>\n",
              "      <td>368.516441</td>\n",
              "      <td>564.308654</td>\n",
              "      <td>10.379783</td>\n",
              "      <td>86.990970</td>\n",
              "      <td>2.963135</td>\n",
              "      <td>0</td>\n",
              "    </tr>\n",
              "    <tr>\n",
              "      <th>1</th>\n",
              "      <td>3.716080</td>\n",
              "      <td>129.422921</td>\n",
              "      <td>18630.057858</td>\n",
              "      <td>6.635246</td>\n",
              "      <td>368.516441</td>\n",
              "      <td>592.885359</td>\n",
              "      <td>15.180013</td>\n",
              "      <td>56.329076</td>\n",
              "      <td>4.500656</td>\n",
              "      <td>0</td>\n",
              "    </tr>\n",
              "    <tr>\n",
              "      <th>2</th>\n",
              "      <td>8.099124</td>\n",
              "      <td>224.236259</td>\n",
              "      <td>19909.541732</td>\n",
              "      <td>9.275884</td>\n",
              "      <td>368.516441</td>\n",
              "      <td>418.606213</td>\n",
              "      <td>16.868637</td>\n",
              "      <td>66.420093</td>\n",
              "      <td>3.055934</td>\n",
              "      <td>0</td>\n",
              "    </tr>\n",
              "    <tr>\n",
              "      <th>3</th>\n",
              "      <td>8.316766</td>\n",
              "      <td>214.373394</td>\n",
              "      <td>22018.417441</td>\n",
              "      <td>8.059332</td>\n",
              "      <td>356.886136</td>\n",
              "      <td>363.266516</td>\n",
              "      <td>18.436524</td>\n",
              "      <td>100.341674</td>\n",
              "      <td>4.628771</td>\n",
              "      <td>0</td>\n",
              "    </tr>\n",
              "    <tr>\n",
              "      <th>4</th>\n",
              "      <td>9.092223</td>\n",
              "      <td>181.101509</td>\n",
              "      <td>17978.986339</td>\n",
              "      <td>6.546600</td>\n",
              "      <td>310.135738</td>\n",
              "      <td>398.410813</td>\n",
              "      <td>11.558279</td>\n",
              "      <td>31.997993</td>\n",
              "      <td>4.075075</td>\n",
              "      <td>0</td>\n",
              "    </tr>\n",
              "    <tr>\n",
              "      <th>...</th>\n",
              "      <td>...</td>\n",
              "      <td>...</td>\n",
              "      <td>...</td>\n",
              "      <td>...</td>\n",
              "      <td>...</td>\n",
              "      <td>...</td>\n",
              "      <td>...</td>\n",
              "      <td>...</td>\n",
              "      <td>...</td>\n",
              "      <td>...</td>\n",
              "    </tr>\n",
              "    <tr>\n",
              "      <th>3271</th>\n",
              "      <td>4.668102</td>\n",
              "      <td>193.681735</td>\n",
              "      <td>47580.991603</td>\n",
              "      <td>7.166639</td>\n",
              "      <td>359.948574</td>\n",
              "      <td>526.424171</td>\n",
              "      <td>13.894419</td>\n",
              "      <td>66.687695</td>\n",
              "      <td>4.435821</td>\n",
              "      <td>1</td>\n",
              "    </tr>\n",
              "    <tr>\n",
              "      <th>3272</th>\n",
              "      <td>7.808856</td>\n",
              "      <td>193.553212</td>\n",
              "      <td>17329.802160</td>\n",
              "      <td>8.061362</td>\n",
              "      <td>359.948574</td>\n",
              "      <td>392.449580</td>\n",
              "      <td>19.903225</td>\n",
              "      <td>66.687695</td>\n",
              "      <td>2.798243</td>\n",
              "      <td>1</td>\n",
              "    </tr>\n",
              "    <tr>\n",
              "      <th>3273</th>\n",
              "      <td>9.419510</td>\n",
              "      <td>175.762646</td>\n",
              "      <td>33155.578218</td>\n",
              "      <td>7.350233</td>\n",
              "      <td>359.948574</td>\n",
              "      <td>432.044783</td>\n",
              "      <td>11.039070</td>\n",
              "      <td>69.845400</td>\n",
              "      <td>3.298875</td>\n",
              "      <td>1</td>\n",
              "    </tr>\n",
              "    <tr>\n",
              "      <th>3274</th>\n",
              "      <td>5.126763</td>\n",
              "      <td>230.603758</td>\n",
              "      <td>11983.869376</td>\n",
              "      <td>6.303357</td>\n",
              "      <td>359.948574</td>\n",
              "      <td>402.883113</td>\n",
              "      <td>11.168946</td>\n",
              "      <td>77.488213</td>\n",
              "      <td>4.708658</td>\n",
              "      <td>1</td>\n",
              "    </tr>\n",
              "    <tr>\n",
              "      <th>3275</th>\n",
              "      <td>7.874671</td>\n",
              "      <td>195.102299</td>\n",
              "      <td>17404.177061</td>\n",
              "      <td>7.509306</td>\n",
              "      <td>359.948574</td>\n",
              "      <td>327.459760</td>\n",
              "      <td>16.140368</td>\n",
              "      <td>78.698446</td>\n",
              "      <td>2.309149</td>\n",
              "      <td>1</td>\n",
              "    </tr>\n",
              "  </tbody>\n",
              "</table>\n",
              "<p>3276 rows × 10 columns</p>\n",
              "</div>"
            ],
            "text/plain": [
              "            ph    Hardness  ...  Turbidity  Potability\n",
              "0          NaN  204.890455  ...   2.963135           0\n",
              "1     3.716080  129.422921  ...   4.500656           0\n",
              "2     8.099124  224.236259  ...   3.055934           0\n",
              "3     8.316766  214.373394  ...   4.628771           0\n",
              "4     9.092223  181.101509  ...   4.075075           0\n",
              "...        ...         ...  ...        ...         ...\n",
              "3271  4.668102  193.681735  ...   4.435821           1\n",
              "3272  7.808856  193.553212  ...   2.798243           1\n",
              "3273  9.419510  175.762646  ...   3.298875           1\n",
              "3274  5.126763  230.603758  ...   4.708658           1\n",
              "3275  7.874671  195.102299  ...   2.309149           1\n",
              "\n",
              "[3276 rows x 10 columns]"
            ]
          },
          "metadata": {
            "tags": []
          },
          "execution_count": 37
        }
      ]
    },
    {
      "cell_type": "markdown",
      "metadata": {
        "id": "QoNaS8OTZwYo"
      },
      "source": [
        "# Tahmine Dayalı Atama Yöntemleri"
      ]
    },
    {
      "cell_type": "markdown",
      "metadata": {
        "id": "9FAh0jEFePBA"
      },
      "source": [
        "### KNN Yöntemine Göre Atama Yapalım"
      ]
    },
    {
      "cell_type": "code",
      "metadata": {
        "colab": {
          "base_uri": "https://localhost:8080/"
        },
        "id": "tBjeg49TR7Ny",
        "outputId": "7887240e-cbdd-44e6-cd67-18c2d6fdc6ed"
      },
      "source": [
        "!pip install ycimpute"
      ],
      "execution_count": null,
      "outputs": [
        {
          "output_type": "stream",
          "text": [
            "Collecting ycimpute\n",
            "  Downloading https://files.pythonhosted.org/packages/64/7b/e36e4600f76448552084c021f93031f7926072fa1c672753e06b044aedee/ycimpute-0.2-py3-none-any.whl\n",
            "Requirement already satisfied: scikit-learn>=0.17.1 in /usr/local/lib/python3.7/dist-packages (from ycimpute) (0.22.2.post1)\n",
            "Requirement already satisfied: numpy>=1.10 in /usr/local/lib/python3.7/dist-packages (from ycimpute) (1.19.5)\n",
            "Requirement already satisfied: torch>=1.1.0 in /usr/local/lib/python3.7/dist-packages (from ycimpute) (1.9.0+cu102)\n",
            "Requirement already satisfied: six in /usr/local/lib/python3.7/dist-packages (from ycimpute) (1.15.0)\n",
            "Requirement already satisfied: scipy in /usr/local/lib/python3.7/dist-packages (from ycimpute) (1.4.1)\n",
            "Requirement already satisfied: joblib>=0.11 in /usr/local/lib/python3.7/dist-packages (from scikit-learn>=0.17.1->ycimpute) (1.0.1)\n",
            "Requirement already satisfied: typing-extensions in /usr/local/lib/python3.7/dist-packages (from torch>=1.1.0->ycimpute) (3.7.4.3)\n",
            "Installing collected packages: ycimpute\n",
            "Successfully installed ycimpute-0.2\n"
          ],
          "name": "stdout"
        }
      ]
    },
    {
      "cell_type": "code",
      "metadata": {
        "id": "3R-XCTseR7Pv"
      },
      "source": [
        "from ycimpute.imputer import knnimput"
      ],
      "execution_count": null,
      "outputs": []
    },
    {
      "cell_type": "code",
      "metadata": {
        "id": "g-wxnqUZR7UG"
      },
      "source": [
        "knn_imput= first_data.copy()"
      ],
      "execution_count": null,
      "outputs": []
    },
    {
      "cell_type": "code",
      "metadata": {
        "colab": {
          "base_uri": "https://localhost:8080/"
        },
        "id": "2ohtjLazbmIQ",
        "outputId": "4a9b0881-0baa-48b0-cb9a-67202e9f5d87"
      },
      "source": [
        "knn_imput.info()"
      ],
      "execution_count": null,
      "outputs": [
        {
          "output_type": "stream",
          "text": [
            "<class 'pandas.core.frame.DataFrame'>\n",
            "RangeIndex: 3276 entries, 0 to 3275\n",
            "Data columns (total 10 columns):\n",
            " #   Column           Non-Null Count  Dtype  \n",
            "---  ------           --------------  -----  \n",
            " 0   ph               2785 non-null   float64\n",
            " 1   Hardness         3276 non-null   float64\n",
            " 2   Solids           3276 non-null   float64\n",
            " 3   Chloramines      3276 non-null   float64\n",
            " 4   Sulfate          2495 non-null   float64\n",
            " 5   Conductivity     3276 non-null   float64\n",
            " 6   Organic_carbon   3276 non-null   float64\n",
            " 7   Trihalomethanes  3114 non-null   float64\n",
            " 8   Turbidity        3276 non-null   float64\n",
            " 9   Potability       3276 non-null   int64  \n",
            "dtypes: float64(9), int64(1)\n",
            "memory usage: 256.1 KB\n"
          ],
          "name": "stdout"
        }
      ]
    },
    {
      "cell_type": "code",
      "metadata": {
        "id": "cWMn3E_Cchke"
      },
      "source": [
        "array=knn_imput.to_numpy()"
      ],
      "execution_count": null,
      "outputs": []
    },
    {
      "cell_type": "code",
      "metadata": {
        "colab": {
          "base_uri": "https://localhost:8080/"
        },
        "id": "WiPrWaexcmir",
        "outputId": "05da6190-ea66-4514-b4a1-6729dea71ce3"
      },
      "source": [
        "array"
      ],
      "execution_count": null,
      "outputs": [
        {
          "output_type": "execute_result",
          "data": {
            "text/plain": [
              "array([[           nan, 2.04890455e+02, 2.07913190e+04, ...,\n",
              "        8.69909705e+01, 2.96313538e+00, 0.00000000e+00],\n",
              "       [3.71608008e+00, 1.29422921e+02, 1.86300579e+04, ...,\n",
              "        5.63290763e+01, 4.50065627e+00, 0.00000000e+00],\n",
              "       [8.09912419e+00, 2.24236259e+02, 1.99095417e+04, ...,\n",
              "        6.64200925e+01, 3.05593375e+00, 0.00000000e+00],\n",
              "       ...,\n",
              "       [9.41951032e+00, 1.75762646e+02, 3.31555782e+04, ...,\n",
              "        6.98454003e+01, 3.29887550e+00, 1.00000000e+00],\n",
              "       [5.12676292e+00, 2.30603758e+02, 1.19838694e+04, ...,\n",
              "        7.74882131e+01, 4.70865847e+00, 1.00000000e+00],\n",
              "       [7.87467136e+00, 1.95102299e+02, 1.74041771e+04, ...,\n",
              "        7.86984463e+01, 2.30914906e+00, 1.00000000e+00]])"
            ]
          },
          "metadata": {
            "tags": []
          },
          "execution_count": 48
        }
      ]
    },
    {
      "cell_type": "code",
      "metadata": {
        "colab": {
          "base_uri": "https://localhost:8080/"
        },
        "id": "l3gEs6ovadk7",
        "outputId": "e3c37b3e-7c0c-47f6-c6f4-9ad288155a21"
      },
      "source": [
        "knn_array = knnimput.KNN(k = 4).complete(array)"
      ],
      "execution_count": null,
      "outputs": [
        {
          "output_type": "stream",
          "text": [
            "Imputing row 1/3276 with 1 missing, elapsed time: 1.965\n",
            "Imputing row 101/3276 with 0 missing, elapsed time: 1.968\n",
            "Imputing row 201/3276 with 0 missing, elapsed time: 1.971\n",
            "Imputing row 301/3276 with 1 missing, elapsed time: 1.973\n",
            "Imputing row 401/3276 with 0 missing, elapsed time: 1.975\n",
            "Imputing row 501/3276 with 0 missing, elapsed time: 1.977\n",
            "Imputing row 601/3276 with 1 missing, elapsed time: 1.980\n",
            "Imputing row 701/3276 with 1 missing, elapsed time: 1.983\n",
            "Imputing row 801/3276 with 0 missing, elapsed time: 1.985\n",
            "Imputing row 901/3276 with 1 missing, elapsed time: 1.988\n",
            "Imputing row 1001/3276 with 0 missing, elapsed time: 1.990\n",
            "Imputing row 1101/3276 with 1 missing, elapsed time: 1.993\n",
            "Imputing row 1201/3276 with 0 missing, elapsed time: 1.995\n",
            "Imputing row 1301/3276 with 0 missing, elapsed time: 1.998\n",
            "Imputing row 1401/3276 with 0 missing, elapsed time: 2.001\n",
            "Imputing row 1501/3276 with 0 missing, elapsed time: 2.004\n",
            "Imputing row 1601/3276 with 0 missing, elapsed time: 2.007\n",
            "Imputing row 1701/3276 with 0 missing, elapsed time: 2.009\n",
            "Imputing row 1801/3276 with 0 missing, elapsed time: 2.013\n",
            "Imputing row 1901/3276 with 0 missing, elapsed time: 2.015\n",
            "Imputing row 2001/3276 with 0 missing, elapsed time: 2.018\n",
            "Imputing row 2101/3276 with 0 missing, elapsed time: 2.021\n",
            "Imputing row 2201/3276 with 1 missing, elapsed time: 2.024\n",
            "Imputing row 2301/3276 with 0 missing, elapsed time: 2.031\n",
            "Imputing row 2401/3276 with 1 missing, elapsed time: 2.035\n",
            "Imputing row 2501/3276 with 1 missing, elapsed time: 2.039\n",
            "Imputing row 2601/3276 with 2 missing, elapsed time: 2.043\n",
            "Imputing row 2701/3276 with 0 missing, elapsed time: 2.048\n",
            "Imputing row 2801/3276 with 0 missing, elapsed time: 2.053\n",
            "Imputing row 2901/3276 with 0 missing, elapsed time: 2.058\n",
            "Imputing row 3001/3276 with 0 missing, elapsed time: 2.062\n",
            "Imputing row 3101/3276 with 0 missing, elapsed time: 2.066\n",
            "Imputing row 3201/3276 with 0 missing, elapsed time: 2.071\n"
          ],
          "name": "stdout"
        }
      ]
    },
    {
      "cell_type": "code",
      "metadata": {
        "colab": {
          "base_uri": "https://localhost:8080/"
        },
        "id": "1FjyJNC9dxEy",
        "outputId": "aa5475a7-7ca1-4e8c-aa2e-98a46cca221d"
      },
      "source": [
        "knn_array.shape"
      ],
      "execution_count": null,
      "outputs": [
        {
          "output_type": "execute_result",
          "data": {
            "text/plain": [
              "(3276, 10)"
            ]
          },
          "metadata": {
            "tags": []
          },
          "execution_count": 56
        }
      ]
    },
    {
      "cell_type": "code",
      "metadata": {
        "id": "blCIziDzaeAM"
      },
      "source": [
        "knn_df= pd.DataFrame(knn_array, columns = ['ph',\t'Hardness',\t'Solids',\t'Chloramines',\t'Sulfate',\t'Conductivity',\t'Organic_carbon',\t'Trihalomethanes',\t'Turbidity',\t'Potability'])"
      ],
      "execution_count": null,
      "outputs": []
    },
    {
      "cell_type": "code",
      "metadata": {
        "colab": {
          "base_uri": "https://localhost:8080/",
          "height": 204
        },
        "id": "qAzabqbDaeE2",
        "outputId": "1322dcc2-2c63-4714-fc94-c6d12c52e3c3"
      },
      "source": [
        "knn_df.head()"
      ],
      "execution_count": null,
      "outputs": [
        {
          "output_type": "execute_result",
          "data": {
            "text/html": [
              "<div>\n",
              "<style scoped>\n",
              "    .dataframe tbody tr th:only-of-type {\n",
              "        vertical-align: middle;\n",
              "    }\n",
              "\n",
              "    .dataframe tbody tr th {\n",
              "        vertical-align: top;\n",
              "    }\n",
              "\n",
              "    .dataframe thead th {\n",
              "        text-align: right;\n",
              "    }\n",
              "</style>\n",
              "<table border=\"1\" class=\"dataframe\">\n",
              "  <thead>\n",
              "    <tr style=\"text-align: right;\">\n",
              "      <th></th>\n",
              "      <th>ph</th>\n",
              "      <th>Hardness</th>\n",
              "      <th>Solids</th>\n",
              "      <th>Chloramines</th>\n",
              "      <th>Sulfate</th>\n",
              "      <th>Conductivity</th>\n",
              "      <th>Organic_carbon</th>\n",
              "      <th>Trihalomethanes</th>\n",
              "      <th>Turbidity</th>\n",
              "      <th>Potability</th>\n",
              "    </tr>\n",
              "  </thead>\n",
              "  <tbody>\n",
              "    <tr>\n",
              "      <th>0</th>\n",
              "      <td>6.822710</td>\n",
              "      <td>204.890455</td>\n",
              "      <td>20791.318981</td>\n",
              "      <td>7.300212</td>\n",
              "      <td>368.516441</td>\n",
              "      <td>564.308654</td>\n",
              "      <td>10.379783</td>\n",
              "      <td>86.990970</td>\n",
              "      <td>2.963135</td>\n",
              "      <td>0.0</td>\n",
              "    </tr>\n",
              "    <tr>\n",
              "      <th>1</th>\n",
              "      <td>3.716080</td>\n",
              "      <td>129.422921</td>\n",
              "      <td>18630.057858</td>\n",
              "      <td>6.635246</td>\n",
              "      <td>357.203030</td>\n",
              "      <td>592.885359</td>\n",
              "      <td>15.180013</td>\n",
              "      <td>56.329076</td>\n",
              "      <td>4.500656</td>\n",
              "      <td>0.0</td>\n",
              "    </tr>\n",
              "    <tr>\n",
              "      <th>2</th>\n",
              "      <td>8.099124</td>\n",
              "      <td>224.236259</td>\n",
              "      <td>19909.541732</td>\n",
              "      <td>9.275884</td>\n",
              "      <td>328.651748</td>\n",
              "      <td>418.606213</td>\n",
              "      <td>16.868637</td>\n",
              "      <td>66.420093</td>\n",
              "      <td>3.055934</td>\n",
              "      <td>0.0</td>\n",
              "    </tr>\n",
              "    <tr>\n",
              "      <th>3</th>\n",
              "      <td>8.316766</td>\n",
              "      <td>214.373394</td>\n",
              "      <td>22018.417441</td>\n",
              "      <td>8.059332</td>\n",
              "      <td>356.886136</td>\n",
              "      <td>363.266516</td>\n",
              "      <td>18.436524</td>\n",
              "      <td>100.341674</td>\n",
              "      <td>4.628771</td>\n",
              "      <td>0.0</td>\n",
              "    </tr>\n",
              "    <tr>\n",
              "      <th>4</th>\n",
              "      <td>9.092223</td>\n",
              "      <td>181.101509</td>\n",
              "      <td>17978.986339</td>\n",
              "      <td>6.546600</td>\n",
              "      <td>310.135738</td>\n",
              "      <td>398.410813</td>\n",
              "      <td>11.558279</td>\n",
              "      <td>31.997993</td>\n",
              "      <td>4.075075</td>\n",
              "      <td>0.0</td>\n",
              "    </tr>\n",
              "  </tbody>\n",
              "</table>\n",
              "</div>"
            ],
            "text/plain": [
              "         ph    Hardness        Solids  ...  Trihalomethanes  Turbidity  Potability\n",
              "0  6.822710  204.890455  20791.318981  ...        86.990970   2.963135         0.0\n",
              "1  3.716080  129.422921  18630.057858  ...        56.329076   4.500656         0.0\n",
              "2  8.099124  224.236259  19909.541732  ...        66.420093   3.055934         0.0\n",
              "3  8.316766  214.373394  22018.417441  ...       100.341674   4.628771         0.0\n",
              "4  9.092223  181.101509  17978.986339  ...        31.997993   4.075075         0.0\n",
              "\n",
              "[5 rows x 10 columns]"
            ]
          },
          "metadata": {
            "tags": []
          },
          "execution_count": 58
        }
      ]
    },
    {
      "cell_type": "code",
      "metadata": {
        "colab": {
          "base_uri": "https://localhost:8080/"
        },
        "id": "DsqFmTsdeDQx",
        "outputId": "bd3d7151-9d51-41e0-ebf1-a9e0b1dc0ed1"
      },
      "source": [
        "knn_df.info()"
      ],
      "execution_count": null,
      "outputs": [
        {
          "output_type": "stream",
          "text": [
            "<class 'pandas.core.frame.DataFrame'>\n",
            "RangeIndex: 3276 entries, 0 to 3275\n",
            "Data columns (total 10 columns):\n",
            " #   Column           Non-Null Count  Dtype  \n",
            "---  ------           --------------  -----  \n",
            " 0   ph               3276 non-null   float64\n",
            " 1   Hardness         3276 non-null   float64\n",
            " 2   Solids           3276 non-null   float64\n",
            " 3   Chloramines      3276 non-null   float64\n",
            " 4   Sulfate          3276 non-null   float64\n",
            " 5   Conductivity     3276 non-null   float64\n",
            " 6   Organic_carbon   3276 non-null   float64\n",
            " 7   Trihalomethanes  3276 non-null   float64\n",
            " 8   Turbidity        3276 non-null   float64\n",
            " 9   Potability       3276 non-null   float64\n",
            "dtypes: float64(10)\n",
            "memory usage: 256.1 KB\n"
          ],
          "name": "stdout"
        }
      ]
    },
    {
      "cell_type": "markdown",
      "metadata": {
        "id": "Mh8yq9TgedGR"
      },
      "source": [
        "### Random Forest'a Göre Atama Yapalım"
      ]
    },
    {
      "cell_type": "code",
      "metadata": {
        "id": "gb8coBujeLI-"
      },
      "source": [
        "from ycimpute.imputer import iterforest\n"
      ],
      "execution_count": null,
      "outputs": []
    },
    {
      "cell_type": "code",
      "metadata": {
        "id": "-oIGQgkNeiaK"
      },
      "source": [
        "rf_data=first_data.copy()"
      ],
      "execution_count": null,
      "outputs": []
    },
    {
      "cell_type": "code",
      "metadata": {
        "colab": {
          "base_uri": "https://localhost:8080/"
        },
        "id": "RVDxWswxe9Qb",
        "outputId": "ed1f6b7b-cf5c-4531-ac46-d0045f3cc9f7"
      },
      "source": [
        "rf_data.info()"
      ],
      "execution_count": null,
      "outputs": [
        {
          "output_type": "stream",
          "text": [
            "<class 'pandas.core.frame.DataFrame'>\n",
            "RangeIndex: 3276 entries, 0 to 3275\n",
            "Data columns (total 10 columns):\n",
            " #   Column           Non-Null Count  Dtype  \n",
            "---  ------           --------------  -----  \n",
            " 0   ph               2785 non-null   float64\n",
            " 1   Hardness         3276 non-null   float64\n",
            " 2   Solids           3276 non-null   float64\n",
            " 3   Chloramines      3276 non-null   float64\n",
            " 4   Sulfate          2495 non-null   float64\n",
            " 5   Conductivity     3276 non-null   float64\n",
            " 6   Organic_carbon   3276 non-null   float64\n",
            " 7   Trihalomethanes  3114 non-null   float64\n",
            " 8   Turbidity        3276 non-null   float64\n",
            " 9   Potability       3276 non-null   int64  \n",
            "dtypes: float64(9), int64(1)\n",
            "memory usage: 256.1 KB\n"
          ],
          "name": "stdout"
        }
      ]
    },
    {
      "cell_type": "code",
      "metadata": {
        "id": "TfChzC0zeosj"
      },
      "source": [
        "rf_array= rf_data.to_numpy()"
      ],
      "execution_count": null,
      "outputs": []
    },
    {
      "cell_type": "code",
      "metadata": {
        "colab": {
          "base_uri": "https://localhost:8080/"
        },
        "id": "IgcAT3uPe8nJ",
        "outputId": "23686c22-a069-41f6-c6d9-b31fed97fd48"
      },
      "source": [
        "rf_array"
      ],
      "execution_count": null,
      "outputs": [
        {
          "output_type": "execute_result",
          "data": {
            "text/plain": [
              "array([[           nan, 2.04890455e+02, 2.07913190e+04, ...,\n",
              "        8.69909705e+01, 2.96313538e+00, 0.00000000e+00],\n",
              "       [3.71608008e+00, 1.29422921e+02, 1.86300579e+04, ...,\n",
              "        5.63290763e+01, 4.50065627e+00, 0.00000000e+00],\n",
              "       [8.09912419e+00, 2.24236259e+02, 1.99095417e+04, ...,\n",
              "        6.64200925e+01, 3.05593375e+00, 0.00000000e+00],\n",
              "       ...,\n",
              "       [9.41951032e+00, 1.75762646e+02, 3.31555782e+04, ...,\n",
              "        6.98454003e+01, 3.29887550e+00, 1.00000000e+00],\n",
              "       [5.12676292e+00, 2.30603758e+02, 1.19838694e+04, ...,\n",
              "        7.74882131e+01, 4.70865847e+00, 1.00000000e+00],\n",
              "       [7.87467136e+00, 1.95102299e+02, 1.74041771e+04, ...,\n",
              "        7.86984463e+01, 2.30914906e+00, 1.00000000e+00]])"
            ]
          },
          "metadata": {
            "tags": []
          },
          "execution_count": 64
        }
      ]
    },
    {
      "cell_type": "code",
      "metadata": {
        "id": "GO5cgExMehxU"
      },
      "source": [
        "#Normalde bu kod böyle çalışıyor ancak şuan kütüphanesel bir problem var sanırım bilginiz olsun.\n",
        "rf_fill= iterforest.IterImput().complete(rf_array)"
      ],
      "execution_count": null,
      "outputs": []
    },
    {
      "cell_type": "markdown",
      "metadata": {
        "id": "OHaF33FQg8V1"
      },
      "source": [
        "### EM Değer Atama "
      ]
    },
    {
      "cell_type": "code",
      "metadata": {
        "id": "LCwtyXA-g4bc"
      },
      "source": [
        "from ycimpute.imputer import EM"
      ],
      "execution_count": null,
      "outputs": []
    },
    {
      "cell_type": "code",
      "metadata": {
        "id": "z8wZCpgNehzP"
      },
      "source": [
        "em_array= np.array(first_data)"
      ],
      "execution_count": null,
      "outputs": []
    },
    {
      "cell_type": "code",
      "metadata": {
        "colab": {
          "base_uri": "https://localhost:8080/"
        },
        "id": "rEvXJkt0eh1T",
        "outputId": "a443bb40-7d35-4677-9ff2-2df4fd7a5710"
      },
      "source": [
        "em_array"
      ],
      "execution_count": null,
      "outputs": [
        {
          "output_type": "execute_result",
          "data": {
            "text/plain": [
              "array([[           nan, 2.04890455e+02, 2.07913190e+04, ...,\n",
              "        8.69909705e+01, 2.96313538e+00, 0.00000000e+00],\n",
              "       [3.71608008e+00, 1.29422921e+02, 1.86300579e+04, ...,\n",
              "        5.63290763e+01, 4.50065627e+00, 0.00000000e+00],\n",
              "       [8.09912419e+00, 2.24236259e+02, 1.99095417e+04, ...,\n",
              "        6.64200925e+01, 3.05593375e+00, 0.00000000e+00],\n",
              "       ...,\n",
              "       [9.41951032e+00, 1.75762646e+02, 3.31555782e+04, ...,\n",
              "        6.98454003e+01, 3.29887550e+00, 1.00000000e+00],\n",
              "       [5.12676292e+00, 2.30603758e+02, 1.19838694e+04, ...,\n",
              "        7.74882131e+01, 4.70865847e+00, 1.00000000e+00],\n",
              "       [7.87467136e+00, 1.95102299e+02, 1.74041771e+04, ...,\n",
              "        7.86984463e+01, 2.30914906e+00, 1.00000000e+00]])"
            ]
          },
          "metadata": {
            "tags": []
          },
          "execution_count": 76
        }
      ]
    },
    {
      "cell_type": "code",
      "metadata": {
        "colab": {
          "base_uri": "https://localhost:8080/"
        },
        "id": "KWjG3iJfeh3S",
        "outputId": "30a19894-dc55-465f-f224-97f2c421f969"
      },
      "source": [
        "first_data.info()"
      ],
      "execution_count": null,
      "outputs": [
        {
          "output_type": "stream",
          "text": [
            "<class 'pandas.core.frame.DataFrame'>\n",
            "RangeIndex: 3276 entries, 0 to 3275\n",
            "Data columns (total 10 columns):\n",
            " #   Column           Non-Null Count  Dtype  \n",
            "---  ------           --------------  -----  \n",
            " 0   ph               2785 non-null   float64\n",
            " 1   Hardness         3276 non-null   float64\n",
            " 2   Solids           3276 non-null   float64\n",
            " 3   Chloramines      3276 non-null   float64\n",
            " 4   Sulfate          2495 non-null   float64\n",
            " 5   Conductivity     3276 non-null   float64\n",
            " 6   Organic_carbon   3276 non-null   float64\n",
            " 7   Trihalomethanes  3114 non-null   float64\n",
            " 8   Turbidity        3276 non-null   float64\n",
            " 9   Potability       3276 non-null   int64  \n",
            "dtypes: float64(9), int64(1)\n",
            "memory usage: 256.1 KB\n"
          ],
          "name": "stdout"
        }
      ]
    },
    {
      "cell_type": "code",
      "metadata": {
        "id": "Jz16Ajzieh5Q"
      },
      "source": [
        "imputer_em= EM().complete(em_array)"
      ],
      "execution_count": null,
      "outputs": []
    },
    {
      "cell_type": "code",
      "metadata": {
        "colab": {
          "base_uri": "https://localhost:8080/"
        },
        "id": "yLASE5XDeh7O",
        "outputId": "3c50b093-8a00-451c-c449-9c6ee98e70e9"
      },
      "source": [
        "imputer_em"
      ],
      "execution_count": null,
      "outputs": [
        {
          "output_type": "execute_result",
          "data": {
            "text/plain": [
              "array([[0.00000000e+00, 2.04890455e+02, 2.07913190e+04, ...,\n",
              "        8.69909705e+01, 2.96313538e+00, 0.00000000e+00],\n",
              "       [3.71608008e+00, 1.29422921e+02, 1.86300579e+04, ...,\n",
              "        5.63290763e+01, 4.50065627e+00, 0.00000000e+00],\n",
              "       [8.09912419e+00, 2.24236259e+02, 1.99095417e+04, ...,\n",
              "        6.64200925e+01, 3.05593375e+00, 0.00000000e+00],\n",
              "       ...,\n",
              "       [9.41951032e+00, 1.75762646e+02, 3.31555782e+04, ...,\n",
              "        6.98454003e+01, 3.29887550e+00, 1.00000000e+00],\n",
              "       [5.12676292e+00, 2.30603758e+02, 1.19838694e+04, ...,\n",
              "        7.74882131e+01, 4.70865847e+00, 1.00000000e+00],\n",
              "       [7.87467136e+00, 1.95102299e+02, 1.74041771e+04, ...,\n",
              "        7.86984463e+01, 2.30914906e+00, 1.00000000e+00]])"
            ]
          },
          "metadata": {
            "tags": []
          },
          "execution_count": 82
        }
      ]
    },
    {
      "cell_type": "code",
      "metadata": {
        "id": "uPOiu1TSeh9A"
      },
      "source": [
        "em_df= pd.DataFrame(imputer_em, columns = ['ph',\t'Hardness',\t'Solids',\t'Chloramines',\t'Sulfate',\t'Conductivity',\t'Organic_carbon',\t'Trihalomethanes',\t'Turbidity',\t'Potability'])"
      ],
      "execution_count": null,
      "outputs": []
    },
    {
      "cell_type": "code",
      "metadata": {
        "colab": {
          "base_uri": "https://localhost:8080/"
        },
        "id": "R-RW9fabeh_Q",
        "outputId": "843ff813-1338-4aa1-f00a-42ae609f9516"
      },
      "source": [
        "em_df.info()"
      ],
      "execution_count": null,
      "outputs": [
        {
          "output_type": "stream",
          "text": [
            "<class 'pandas.core.frame.DataFrame'>\n",
            "RangeIndex: 3276 entries, 0 to 3275\n",
            "Data columns (total 10 columns):\n",
            " #   Column           Non-Null Count  Dtype  \n",
            "---  ------           --------------  -----  \n",
            " 0   ph               3276 non-null   float64\n",
            " 1   Hardness         3276 non-null   float64\n",
            " 2   Solids           3276 non-null   float64\n",
            " 3   Chloramines      3276 non-null   float64\n",
            " 4   Sulfate          3276 non-null   float64\n",
            " 5   Conductivity     3276 non-null   float64\n",
            " 6   Organic_carbon   3276 non-null   float64\n",
            " 7   Trihalomethanes  3276 non-null   float64\n",
            " 8   Turbidity        3276 non-null   float64\n",
            " 9   Potability       3276 non-null   float64\n",
            "dtypes: float64(10)\n",
            "memory usage: 256.1 KB\n"
          ],
          "name": "stdout"
        }
      ]
    },
    {
      "cell_type": "code",
      "metadata": {
        "colab": {
          "base_uri": "https://localhost:8080/",
          "height": 204
        },
        "id": "1GpgsYthh0yu",
        "outputId": "03a881f5-ea3a-4e95-ed56-d70ff036bb06"
      },
      "source": [
        "em_df.head()"
      ],
      "execution_count": null,
      "outputs": [
        {
          "output_type": "execute_result",
          "data": {
            "text/html": [
              "<div>\n",
              "<style scoped>\n",
              "    .dataframe tbody tr th:only-of-type {\n",
              "        vertical-align: middle;\n",
              "    }\n",
              "\n",
              "    .dataframe tbody tr th {\n",
              "        vertical-align: top;\n",
              "    }\n",
              "\n",
              "    .dataframe thead th {\n",
              "        text-align: right;\n",
              "    }\n",
              "</style>\n",
              "<table border=\"1\" class=\"dataframe\">\n",
              "  <thead>\n",
              "    <tr style=\"text-align: right;\">\n",
              "      <th></th>\n",
              "      <th>ph</th>\n",
              "      <th>Hardness</th>\n",
              "      <th>Solids</th>\n",
              "      <th>Chloramines</th>\n",
              "      <th>Sulfate</th>\n",
              "      <th>Conductivity</th>\n",
              "      <th>Organic_carbon</th>\n",
              "      <th>Trihalomethanes</th>\n",
              "      <th>Turbidity</th>\n",
              "      <th>Potability</th>\n",
              "    </tr>\n",
              "  </thead>\n",
              "  <tbody>\n",
              "    <tr>\n",
              "      <th>0</th>\n",
              "      <td>0.000000</td>\n",
              "      <td>204.890455</td>\n",
              "      <td>20791.318981</td>\n",
              "      <td>7.300212</td>\n",
              "      <td>368.516441</td>\n",
              "      <td>564.308654</td>\n",
              "      <td>10.379783</td>\n",
              "      <td>86.990970</td>\n",
              "      <td>2.963135</td>\n",
              "      <td>0.0</td>\n",
              "    </tr>\n",
              "    <tr>\n",
              "      <th>1</th>\n",
              "      <td>3.716080</td>\n",
              "      <td>129.422921</td>\n",
              "      <td>18630.057858</td>\n",
              "      <td>6.635246</td>\n",
              "      <td>0.000000</td>\n",
              "      <td>592.885359</td>\n",
              "      <td>15.180013</td>\n",
              "      <td>56.329076</td>\n",
              "      <td>4.500656</td>\n",
              "      <td>0.0</td>\n",
              "    </tr>\n",
              "    <tr>\n",
              "      <th>2</th>\n",
              "      <td>8.099124</td>\n",
              "      <td>224.236259</td>\n",
              "      <td>19909.541732</td>\n",
              "      <td>9.275884</td>\n",
              "      <td>0.000000</td>\n",
              "      <td>418.606213</td>\n",
              "      <td>16.868637</td>\n",
              "      <td>66.420093</td>\n",
              "      <td>3.055934</td>\n",
              "      <td>0.0</td>\n",
              "    </tr>\n",
              "    <tr>\n",
              "      <th>3</th>\n",
              "      <td>8.316766</td>\n",
              "      <td>214.373394</td>\n",
              "      <td>22018.417441</td>\n",
              "      <td>8.059332</td>\n",
              "      <td>356.886136</td>\n",
              "      <td>363.266516</td>\n",
              "      <td>18.436524</td>\n",
              "      <td>100.341674</td>\n",
              "      <td>4.628771</td>\n",
              "      <td>0.0</td>\n",
              "    </tr>\n",
              "    <tr>\n",
              "      <th>4</th>\n",
              "      <td>9.092223</td>\n",
              "      <td>181.101509</td>\n",
              "      <td>17978.986339</td>\n",
              "      <td>6.546600</td>\n",
              "      <td>310.135738</td>\n",
              "      <td>398.410813</td>\n",
              "      <td>11.558279</td>\n",
              "      <td>31.997993</td>\n",
              "      <td>4.075075</td>\n",
              "      <td>0.0</td>\n",
              "    </tr>\n",
              "  </tbody>\n",
              "</table>\n",
              "</div>"
            ],
            "text/plain": [
              "         ph    Hardness        Solids  ...  Trihalomethanes  Turbidity  Potability\n",
              "0  0.000000  204.890455  20791.318981  ...        86.990970   2.963135         0.0\n",
              "1  3.716080  129.422921  18630.057858  ...        56.329076   4.500656         0.0\n",
              "2  8.099124  224.236259  19909.541732  ...        66.420093   3.055934         0.0\n",
              "3  8.316766  214.373394  22018.417441  ...       100.341674   4.628771         0.0\n",
              "4  9.092223  181.101509  17978.986339  ...        31.997993   4.075075         0.0\n",
              "\n",
              "[5 rows x 10 columns]"
            ]
          },
          "metadata": {
            "tags": []
          },
          "execution_count": 85
        }
      ]
    },
    {
      "cell_type": "markdown",
      "metadata": {
        "id": "Lmpsgf_0iKKq"
      },
      "source": [
        "### Makine Öğrenmesine Dayalı Değer Atama \n",
        "* Bu yöntemde mantığımız klasik ML ile aynıdır. Yapmamız gereken işlem tahmin etmek istediğimiz değişkeni target olarak belirlemek ve bir ML algoritması oluşturmaktır. \n",
        "* Target değişkeni için ph kullanalım.\n",
        "\n",
        "\n",
        "> **NOT:** Burada veri setini isterseniz test ve train olarak ayırmadan eğitebilirsiniz ancak birden fazla model deneyerek en iyi modeli seçmek istediğinizde hata metrik hesabı için test datasına ihtiyaç duyacaksınız. Burada tercih sizindir.\n",
        "\n"
      ]
    },
    {
      "cell_type": "code",
      "metadata": {
        "id": "C5QM1Z_Ph3vU"
      },
      "source": [
        "second_data=first_data.copy()"
      ],
      "execution_count": null,
      "outputs": []
    },
    {
      "cell_type": "code",
      "metadata": {
        "id": "YBs4GgGUihl9"
      },
      "source": [
        "from sklearn.linear_model import LinearRegression\n",
        "from sklearn.metrics import roc_auc_score,roc_curve\n",
        "from sklearn.model_selection import train_test_split, GridSearchCV, cross_val_score"
      ],
      "execution_count": null,
      "outputs": []
    },
    {
      "cell_type": "code",
      "metadata": {
        "id": "ZeokMUmniiHJ"
      },
      "source": [
        "# Vakit kaybetmemek açısından burada eksik gözlem içeren iki değişkeni tamamen sileceğim.\n",
        "drop_df=second_data.drop(['Sulfate','Trihalomethanes'], axis=1)"
      ],
      "execution_count": null,
      "outputs": []
    },
    {
      "cell_type": "code",
      "metadata": {
        "colab": {
          "base_uri": "https://localhost:8080/"
        },
        "id": "j_oiKb0IiiJG",
        "outputId": "d83ab3e7-9e96-4d43-f871-1dca1bed2724"
      },
      "source": [
        "drop_df.info()"
      ],
      "execution_count": null,
      "outputs": [
        {
          "output_type": "stream",
          "text": [
            "<class 'pandas.core.frame.DataFrame'>\n",
            "RangeIndex: 3276 entries, 0 to 3275\n",
            "Data columns (total 8 columns):\n",
            " #   Column          Non-Null Count  Dtype  \n",
            "---  ------          --------------  -----  \n",
            " 0   ph              2785 non-null   float64\n",
            " 1   Hardness        3276 non-null   float64\n",
            " 2   Solids          3276 non-null   float64\n",
            " 3   Chloramines     3276 non-null   float64\n",
            " 4   Conductivity    3276 non-null   float64\n",
            " 5   Organic_carbon  3276 non-null   float64\n",
            " 6   Turbidity       3276 non-null   float64\n",
            " 7   Potability      3276 non-null   int64  \n",
            "dtypes: float64(7), int64(1)\n",
            "memory usage: 204.9 KB\n"
          ],
          "name": "stdout"
        }
      ]
    },
    {
      "cell_type": "code",
      "metadata": {
        "id": "PRk4LTZ_iiLA"
      },
      "source": [
        "drop_df=drop_df.dropna()"
      ],
      "execution_count": null,
      "outputs": []
    },
    {
      "cell_type": "code",
      "metadata": {
        "colab": {
          "base_uri": "https://localhost:8080/"
        },
        "id": "ruKO2TwxiiM1",
        "outputId": "d072f50d-974c-4746-a155-e9d1e9d04538"
      },
      "source": [
        "drop_df.info()"
      ],
      "execution_count": null,
      "outputs": [
        {
          "output_type": "stream",
          "text": [
            "<class 'pandas.core.frame.DataFrame'>\n",
            "Int64Index: 2785 entries, 1 to 3275\n",
            "Data columns (total 8 columns):\n",
            " #   Column          Non-Null Count  Dtype  \n",
            "---  ------          --------------  -----  \n",
            " 0   ph              2785 non-null   float64\n",
            " 1   Hardness        2785 non-null   float64\n",
            " 2   Solids          2785 non-null   float64\n",
            " 3   Chloramines     2785 non-null   float64\n",
            " 4   Conductivity    2785 non-null   float64\n",
            " 5   Organic_carbon  2785 non-null   float64\n",
            " 6   Turbidity       2785 non-null   float64\n",
            " 7   Potability      2785 non-null   int64  \n",
            "dtypes: float64(7), int64(1)\n",
            "memory usage: 195.8 KB\n"
          ],
          "name": "stdout"
        }
      ]
    },
    {
      "cell_type": "code",
      "metadata": {
        "id": "_bSlgUu1iiOw"
      },
      "source": [
        "y= drop_df['ph']\n",
        "X=drop_df.drop(['ph'], axis=1)"
      ],
      "execution_count": null,
      "outputs": []
    },
    {
      "cell_type": "code",
      "metadata": {
        "colab": {
          "base_uri": "https://localhost:8080/"
        },
        "id": "5wS7unZKk2Ci",
        "outputId": "7ea8c95c-f77d-4bee-a385-fc97fc043857"
      },
      "source": [
        "y"
      ],
      "execution_count": null,
      "outputs": [
        {
          "output_type": "execute_result",
          "data": {
            "text/plain": [
              "1       3.716080\n",
              "2       8.099124\n",
              "3       8.316766\n",
              "4       9.092223\n",
              "5       5.584087\n",
              "          ...   \n",
              "3271    4.668102\n",
              "3272    7.808856\n",
              "3273    9.419510\n",
              "3274    5.126763\n",
              "3275    7.874671\n",
              "Name: ph, Length: 2785, dtype: float64"
            ]
          },
          "metadata": {
            "tags": []
          },
          "execution_count": 108
        }
      ]
    },
    {
      "cell_type": "code",
      "metadata": {
        "colab": {
          "base_uri": "https://localhost:8080/",
          "height": 204
        },
        "id": "cFWz5yZ7lCe7",
        "outputId": "43f53c71-2170-47b8-d20f-edc7c61de4bc"
      },
      "source": [
        "X.head()"
      ],
      "execution_count": null,
      "outputs": [
        {
          "output_type": "execute_result",
          "data": {
            "text/html": [
              "<div>\n",
              "<style scoped>\n",
              "    .dataframe tbody tr th:only-of-type {\n",
              "        vertical-align: middle;\n",
              "    }\n",
              "\n",
              "    .dataframe tbody tr th {\n",
              "        vertical-align: top;\n",
              "    }\n",
              "\n",
              "    .dataframe thead th {\n",
              "        text-align: right;\n",
              "    }\n",
              "</style>\n",
              "<table border=\"1\" class=\"dataframe\">\n",
              "  <thead>\n",
              "    <tr style=\"text-align: right;\">\n",
              "      <th></th>\n",
              "      <th>Hardness</th>\n",
              "      <th>Solids</th>\n",
              "      <th>Chloramines</th>\n",
              "      <th>Conductivity</th>\n",
              "      <th>Organic_carbon</th>\n",
              "      <th>Turbidity</th>\n",
              "      <th>Potability</th>\n",
              "    </tr>\n",
              "  </thead>\n",
              "  <tbody>\n",
              "    <tr>\n",
              "      <th>1</th>\n",
              "      <td>129.422921</td>\n",
              "      <td>18630.057858</td>\n",
              "      <td>6.635246</td>\n",
              "      <td>592.885359</td>\n",
              "      <td>15.180013</td>\n",
              "      <td>4.500656</td>\n",
              "      <td>0</td>\n",
              "    </tr>\n",
              "    <tr>\n",
              "      <th>2</th>\n",
              "      <td>224.236259</td>\n",
              "      <td>19909.541732</td>\n",
              "      <td>9.275884</td>\n",
              "      <td>418.606213</td>\n",
              "      <td>16.868637</td>\n",
              "      <td>3.055934</td>\n",
              "      <td>0</td>\n",
              "    </tr>\n",
              "    <tr>\n",
              "      <th>3</th>\n",
              "      <td>214.373394</td>\n",
              "      <td>22018.417441</td>\n",
              "      <td>8.059332</td>\n",
              "      <td>363.266516</td>\n",
              "      <td>18.436524</td>\n",
              "      <td>4.628771</td>\n",
              "      <td>0</td>\n",
              "    </tr>\n",
              "    <tr>\n",
              "      <th>4</th>\n",
              "      <td>181.101509</td>\n",
              "      <td>17978.986339</td>\n",
              "      <td>6.546600</td>\n",
              "      <td>398.410813</td>\n",
              "      <td>11.558279</td>\n",
              "      <td>4.075075</td>\n",
              "      <td>0</td>\n",
              "    </tr>\n",
              "    <tr>\n",
              "      <th>5</th>\n",
              "      <td>188.313324</td>\n",
              "      <td>28748.687739</td>\n",
              "      <td>7.544869</td>\n",
              "      <td>280.467916</td>\n",
              "      <td>8.399735</td>\n",
              "      <td>2.559708</td>\n",
              "      <td>0</td>\n",
              "    </tr>\n",
              "  </tbody>\n",
              "</table>\n",
              "</div>"
            ],
            "text/plain": [
              "     Hardness        Solids  Chloramines  ...  Organic_carbon  Turbidity  Potability\n",
              "1  129.422921  18630.057858     6.635246  ...       15.180013   4.500656           0\n",
              "2  224.236259  19909.541732     9.275884  ...       16.868637   3.055934           0\n",
              "3  214.373394  22018.417441     8.059332  ...       18.436524   4.628771           0\n",
              "4  181.101509  17978.986339     6.546600  ...       11.558279   4.075075           0\n",
              "5  188.313324  28748.687739     7.544869  ...        8.399735   2.559708           0\n",
              "\n",
              "[5 rows x 7 columns]"
            ]
          },
          "metadata": {
            "tags": []
          },
          "execution_count": 109
        }
      ]
    },
    {
      "cell_type": "code",
      "metadata": {
        "colab": {
          "base_uri": "https://localhost:8080/"
        },
        "id": "MMV-5I65lTpP",
        "outputId": "c84104ab-c02d-4ea9-a947-55c53ca13362"
      },
      "source": [
        "X_train,X_test,y_train,y_test=train_test_split(X,y,test_size=0.33, random_state=42)\n",
        "print(\"X_train\", X_train.shape)\n",
        "\n",
        "print(\"y_train\",y_train.shape)\n",
        "\n",
        "print(\"X_test\",X_test.shape)\n",
        "\n",
        "print(\"y_test\",y_test.shape)"
      ],
      "execution_count": null,
      "outputs": [
        {
          "output_type": "stream",
          "text": [
            "X_train (1865, 7)\n",
            "y_train (1865,)\n",
            "X_test (920, 7)\n",
            "y_test (920,)\n"
          ],
          "name": "stdout"
        }
      ]
    },
    {
      "cell_type": "code",
      "metadata": {
        "colab": {
          "base_uri": "https://localhost:8080/"
        },
        "id": "kJSD-KexlEWE",
        "outputId": "07c19bf1-c648-4d4b-92b9-88a8600d1e32"
      },
      "source": [
        "lin_reg=LinearRegression().fit(X_train,y_train)\n",
        "\n",
        "lin_reg"
      ],
      "execution_count": null,
      "outputs": [
        {
          "output_type": "execute_result",
          "data": {
            "text/plain": [
              "LinearRegression(copy_X=True, fit_intercept=True, n_jobs=None, normalize=False)"
            ]
          },
          "metadata": {
            "tags": []
          },
          "execution_count": 112
        }
      ]
    },
    {
      "cell_type": "code",
      "metadata": {
        "id": "xh2aPqwDl3EL"
      },
      "source": [
        "predict_data= first_data[['Hardness',\t'Solids',\t'Chloramines',\t'Conductivity',\t'Organic_carbon'\t,'Turbidity',\t'Potability']]"
      ],
      "execution_count": null,
      "outputs": []
    },
    {
      "cell_type": "code",
      "metadata": {
        "id": "S--9ex7mlSeL"
      },
      "source": [
        "ph_predict=lin_reg.predict(predict_data)"
      ],
      "execution_count": null,
      "outputs": []
    },
    {
      "cell_type": "code",
      "metadata": {
        "id": "XTvX6u-clh4c"
      },
      "source": [
        "ph_predict= pd.DataFrame(ph_predict, columns=['LR Predict ph'])"
      ],
      "execution_count": null,
      "outputs": []
    },
    {
      "cell_type": "markdown",
      "metadata": {
        "id": "CN1b8R0jmmLj"
      },
      "source": [
        "* Bizim veri setimizde ph değişkenimizin ilk satırı eksik gözlemden oluşuyordu. Lineer regresyon ile tahmin gerçekleştirdikten sonra ana veri setimizi tahmin ederek tüm eksik değerleri doldurmuş olduk."
      ]
    },
    {
      "cell_type": "code",
      "metadata": {
        "colab": {
          "base_uri": "https://localhost:8080/",
          "height": 204
        },
        "id": "0CQo8ZILmir6",
        "outputId": "ce4f0361-7535-4ce1-b2ef-c74f8649713a"
      },
      "source": [
        "ph_predict.head()"
      ],
      "execution_count": null,
      "outputs": [
        {
          "output_type": "execute_result",
          "data": {
            "text/html": [
              "<div>\n",
              "<style scoped>\n",
              "    .dataframe tbody tr th:only-of-type {\n",
              "        vertical-align: middle;\n",
              "    }\n",
              "\n",
              "    .dataframe tbody tr th {\n",
              "        vertical-align: top;\n",
              "    }\n",
              "\n",
              "    .dataframe thead th {\n",
              "        text-align: right;\n",
              "    }\n",
              "</style>\n",
              "<table border=\"1\" class=\"dataframe\">\n",
              "  <thead>\n",
              "    <tr style=\"text-align: right;\">\n",
              "      <th></th>\n",
              "      <th>LR Predict ph</th>\n",
              "    </tr>\n",
              "  </thead>\n",
              "  <tbody>\n",
              "    <tr>\n",
              "      <th>0</th>\n",
              "      <td>7.203373</td>\n",
              "    </tr>\n",
              "    <tr>\n",
              "      <th>1</th>\n",
              "      <td>6.886209</td>\n",
              "    </tr>\n",
              "    <tr>\n",
              "      <th>2</th>\n",
              "      <td>7.281054</td>\n",
              "    </tr>\n",
              "    <tr>\n",
              "      <th>3</th>\n",
              "      <td>7.158624</td>\n",
              "    </tr>\n",
              "    <tr>\n",
              "      <th>4</th>\n",
              "      <td>7.081894</td>\n",
              "    </tr>\n",
              "  </tbody>\n",
              "</table>\n",
              "</div>"
            ],
            "text/plain": [
              "   LR Predict ph\n",
              "0       7.203373\n",
              "1       6.886209\n",
              "2       7.281054\n",
              "3       7.158624\n",
              "4       7.081894"
            ]
          },
          "metadata": {
            "tags": []
          },
          "execution_count": 119
        }
      ]
    },
    {
      "cell_type": "markdown",
      "metadata": {
        "id": "WAQmkk31nmYS"
      },
      "source": [
        "# **! BONUS BÖLÜM !**\n",
        "* Bazı algoritmalar eksik gözlemi görmezden gelerek çalışabilir ve beklediğimiz doğrulukta sonuç verebilir.\n",
        "* Bu algoritmalar şunlardır:\n",
        "** LGBM, CatBoost ve XGBM\n",
        "* LGBM Modelini kullanarak bir deneme yapalım."
      ]
    },
    {
      "cell_type": "code",
      "metadata": {
        "id": "4TW9VgIUmkgS"
      },
      "source": [
        "from lightgbm.sklearn import LGBMClassifier\n",
        "from sklearn.metrics import confusion_matrix, accuracy_score, classification_report"
      ],
      "execution_count": null,
      "outputs": []
    },
    {
      "cell_type": "code",
      "metadata": {
        "id": "7X-Myn2RoddC"
      },
      "source": [
        "y=first_data['Potability']\n",
        "X=first_data[['ph',\t'Hardness',\t'Solids',\t'Chloramines'\t,'Sulfate',\t'Conductivity',\t'Organic_carbon',\t'Trihalomethanes'\t,'Turbidity']]"
      ],
      "execution_count": null,
      "outputs": []
    },
    {
      "cell_type": "code",
      "metadata": {
        "colab": {
          "base_uri": "https://localhost:8080/"
        },
        "id": "RiD1YpKbod8Q",
        "outputId": "cd948312-b6aa-480c-e1d6-984a1301cb6f"
      },
      "source": [
        "X_train,X_test,y_train,y_test=train_test_split(X,y,test_size=0.33, random_state=42)\n",
        "print(\"X_train\", X_train.shape)\n",
        "\n",
        "print(\"y_train\",y_train.shape)\n",
        "\n",
        "print(\"X_test\",X_test.shape)\n",
        "\n",
        "print(\"y_test\",y_test.shape)"
      ],
      "execution_count": null,
      "outputs": [
        {
          "output_type": "stream",
          "text": [
            "X_train (2194, 9)\n",
            "y_train (2194,)\n",
            "X_test (1082, 9)\n",
            "y_test (1082,)\n"
          ],
          "name": "stdout"
        }
      ]
    },
    {
      "cell_type": "markdown",
      "metadata": {
        "id": "LQeOS0UipoO5"
      },
      "source": [
        "* Eksik gözlemler üzerinde işlem yapmadan LGBM algoritmasını kullanarak %63'lük bir başarı elde ettik. Hiperparametre ayarlaması yappılarak daha iyi sonuçlar elde edilebilir."
      ]
    },
    {
      "cell_type": "code",
      "metadata": {
        "colab": {
          "base_uri": "https://localhost:8080/"
        },
        "id": "25mwNBfood-d",
        "outputId": "95930459-c0c0-4a92-9f65-05138718eabd"
      },
      "source": [
        "lgbm_samp=LGBMClassifier().fit(X_train, y_train)\n",
        "y_pred_= lgbm_samp.predict(X_test)\n",
        "print(classification_report(y_test,y_pred_))\n",
        "cross_val_score(lgbm_samp,X_test,y_test,cv=10).mean()"
      ],
      "execution_count": null,
      "outputs": [
        {
          "output_type": "stream",
          "text": [
            "              precision    recall  f1-score   support\n",
            "\n",
            "           0       0.69      0.81      0.75       680\n",
            "           1       0.55      0.38      0.45       402\n",
            "\n",
            "    accuracy                           0.65      1082\n",
            "   macro avg       0.62      0.60      0.60      1082\n",
            "weighted avg       0.64      0.65      0.64      1082\n",
            "\n"
          ],
          "name": "stdout"
        },
        {
          "output_type": "execute_result",
          "data": {
            "text/plain": [
              "0.633053007135576"
            ]
          },
          "metadata": {
            "tags": []
          },
          "execution_count": 130
        }
      ]
    },
    {
      "cell_type": "code",
      "metadata": {
        "id": "wuGC0t0hINNi"
      },
      "source": [
        "Importance = pd.DataFrame({\"Importance\": lgbm_samp.feature_importances_},\n",
        "                         index = X_train.columns)"
      ],
      "execution_count": null,
      "outputs": []
    },
    {
      "cell_type": "code",
      "metadata": {
        "colab": {
          "base_uri": "https://localhost:8080/",
          "height": 298
        },
        "id": "qFHdivl1INNk",
        "outputId": "f8582c9c-5a3d-48ce-fa70-e36b518c6837"
      },
      "source": [
        "import matplotlib.pyplot as plt\n",
        "\n",
        "Importance.sort_values(by = \"Importance\", \n",
        "                       axis = 0, \n",
        "                       ascending = True).plot(kind =\"barh\", color = \"r\")\n",
        "\n",
        "plt.xlabel(\"Değişken Önem Düzeyleri\")"
      ],
      "execution_count": null,
      "outputs": [
        {
          "output_type": "execute_result",
          "data": {
            "text/plain": [
              "Text(0.5, 0, 'Değişken Önem Düzeyleri')"
            ]
          },
          "metadata": {
            "tags": []
          },
          "execution_count": 134
        },
        {
          "output_type": "display_data",
          "data": {
            "image/png": "[encoded data removed]",
            "text/plain": [
              "<Figure size 432x288 with 1 Axes>"
            ]
          },
          "metadata": {
            "tags": [],
            "needs_background": "light"
          }
        }
      ]
    }
  ]
}